{
 "cells": [
  {
   "cell_type": "markdown",
   "id": "1d2f67c5",
   "metadata": {},
   "source": [
    "# CEO Questions "
   ]
  },
  {
   "cell_type": "markdown",
   "id": "ead7c6b1",
   "metadata": {},
   "source": [
    "## Business question\n",
    "1. What are the properties that House Rocket should i buy it and at what price?\n",
    "2. Once the house is purchased, what is the best when to sell them and at what price?"
   ]
  },
  {
   "cell_type": "markdown",
   "id": "50a15ce5",
   "metadata": {},
   "source": [
    "## Imports"
   ]
  },
  {
   "cell_type": "code",
   "execution_count": 1,
   "id": "b7f460fe",
   "metadata": {
    "ExecuteTime": {
     "end_time": "2022-05-02T09:11:16.328303Z",
     "start_time": "2022-05-02T09:11:14.513479Z"
    }
   },
   "outputs": [],
   "source": [
    "import numpy as np\n",
    "import pandas as pd\n",
    "import seaborn as sns\n",
    "from matplotlib import gridspec\n",
    "from matplotlib import pyplot as plt\n",
    "import ipywidgets as widgets\n",
    "import plotly.express as px\n",
    "from ipywidgets import interact, interactive, fixed, interact_manual\n",
    "from geopy.geocoders import Nominatim\n",
    "import missingno                                   as msno\n"
   ]
  },
  {
   "cell_type": "markdown",
   "id": "d370a4d0",
   "metadata": {},
   "source": [
    "## Auxiliary functions "
   ]
  },
  {
   "cell_type": "code",
   "execution_count": 2,
   "id": "9b73dffc",
   "metadata": {
    "ExecuteTime": {
     "end_time": "2022-05-02T09:11:16.334108Z",
     "start_time": "2022-05-02T09:11:16.329229Z"
    }
   },
   "outputs": [],
   "source": [
    "## # Supress Scientific Notation\n",
    "\n",
    "np.set_printoptions(suppress=True)\n",
    "pd.set_option('display.float_format', '{:.2f}'.format)"
   ]
  },
  {
   "cell_type": "markdown",
   "id": "b49fc34f",
   "metadata": {},
   "source": [
    "## Loading data"
   ]
  },
  {
   "cell_type": "code",
   "execution_count": 3,
   "id": "e57dcf6b",
   "metadata": {
    "ExecuteTime": {
     "end_time": "2022-05-02T09:11:16.394071Z",
     "start_time": "2022-05-02T09:11:16.335083Z"
    }
   },
   "outputs": [],
   "source": [
    "df=pd.read_csv('Datasets/kc_house_data.csv',parse_dates=[1,14])"
   ]
  },
  {
   "cell_type": "markdown",
   "id": "fd4e3d26",
   "metadata": {},
   "source": [
    "## Dataset info"
   ]
  },
  {
   "cell_type": "code",
   "execution_count": 4,
   "id": "dc36c77b",
   "metadata": {
    "ExecuteTime": {
     "end_time": "2022-05-02T09:11:16.412618Z",
     "start_time": "2022-05-02T09:11:16.396025Z"
    },
    "scrolled": true
   },
   "outputs": [
    {
     "data": {
      "text/html": [
       "<div>\n",
       "<style scoped>\n",
       "    .dataframe tbody tr th:only-of-type {\n",
       "        vertical-align: middle;\n",
       "    }\n",
       "\n",
       "    .dataframe tbody tr th {\n",
       "        vertical-align: top;\n",
       "    }\n",
       "\n",
       "    .dataframe thead th {\n",
       "        text-align: right;\n",
       "    }\n",
       "</style>\n",
       "<table border=\"1\" class=\"dataframe\">\n",
       "  <thead>\n",
       "    <tr style=\"text-align: right;\">\n",
       "      <th></th>\n",
       "      <th>id</th>\n",
       "      <th>date</th>\n",
       "      <th>price</th>\n",
       "      <th>bedrooms</th>\n",
       "      <th>bathrooms</th>\n",
       "      <th>sqft_living</th>\n",
       "      <th>sqft_lot</th>\n",
       "      <th>floors</th>\n",
       "      <th>waterfront</th>\n",
       "      <th>view</th>\n",
       "      <th>...</th>\n",
       "      <th>grade</th>\n",
       "      <th>sqft_above</th>\n",
       "      <th>sqft_basement</th>\n",
       "      <th>yr_built</th>\n",
       "      <th>yr_renovated</th>\n",
       "      <th>zipcode</th>\n",
       "      <th>lat</th>\n",
       "      <th>long</th>\n",
       "      <th>sqft_living15</th>\n",
       "      <th>sqft_lot15</th>\n",
       "    </tr>\n",
       "  </thead>\n",
       "  <tbody>\n",
       "    <tr>\n",
       "      <th>0</th>\n",
       "      <td>7129300520</td>\n",
       "      <td>2014-10-13</td>\n",
       "      <td>221900.00</td>\n",
       "      <td>3</td>\n",
       "      <td>1.00</td>\n",
       "      <td>1180</td>\n",
       "      <td>5650</td>\n",
       "      <td>1.00</td>\n",
       "      <td>0</td>\n",
       "      <td>0</td>\n",
       "      <td>...</td>\n",
       "      <td>7</td>\n",
       "      <td>1180</td>\n",
       "      <td>0</td>\n",
       "      <td>1955-01-01</td>\n",
       "      <td>0</td>\n",
       "      <td>98178</td>\n",
       "      <td>47.51</td>\n",
       "      <td>-122.26</td>\n",
       "      <td>1340</td>\n",
       "      <td>5650</td>\n",
       "    </tr>\n",
       "    <tr>\n",
       "      <th>1</th>\n",
       "      <td>6414100192</td>\n",
       "      <td>2014-12-09</td>\n",
       "      <td>538000.00</td>\n",
       "      <td>3</td>\n",
       "      <td>2.25</td>\n",
       "      <td>2570</td>\n",
       "      <td>7242</td>\n",
       "      <td>2.00</td>\n",
       "      <td>0</td>\n",
       "      <td>0</td>\n",
       "      <td>...</td>\n",
       "      <td>7</td>\n",
       "      <td>2170</td>\n",
       "      <td>400</td>\n",
       "      <td>1951-01-01</td>\n",
       "      <td>1991</td>\n",
       "      <td>98125</td>\n",
       "      <td>47.72</td>\n",
       "      <td>-122.32</td>\n",
       "      <td>1690</td>\n",
       "      <td>7639</td>\n",
       "    </tr>\n",
       "    <tr>\n",
       "      <th>2</th>\n",
       "      <td>5631500400</td>\n",
       "      <td>2015-02-25</td>\n",
       "      <td>180000.00</td>\n",
       "      <td>2</td>\n",
       "      <td>1.00</td>\n",
       "      <td>770</td>\n",
       "      <td>10000</td>\n",
       "      <td>1.00</td>\n",
       "      <td>0</td>\n",
       "      <td>0</td>\n",
       "      <td>...</td>\n",
       "      <td>6</td>\n",
       "      <td>770</td>\n",
       "      <td>0</td>\n",
       "      <td>1933-01-01</td>\n",
       "      <td>0</td>\n",
       "      <td>98028</td>\n",
       "      <td>47.74</td>\n",
       "      <td>-122.23</td>\n",
       "      <td>2720</td>\n",
       "      <td>8062</td>\n",
       "    </tr>\n",
       "    <tr>\n",
       "      <th>3</th>\n",
       "      <td>2487200875</td>\n",
       "      <td>2014-12-09</td>\n",
       "      <td>604000.00</td>\n",
       "      <td>4</td>\n",
       "      <td>3.00</td>\n",
       "      <td>1960</td>\n",
       "      <td>5000</td>\n",
       "      <td>1.00</td>\n",
       "      <td>0</td>\n",
       "      <td>0</td>\n",
       "      <td>...</td>\n",
       "      <td>7</td>\n",
       "      <td>1050</td>\n",
       "      <td>910</td>\n",
       "      <td>1965-01-01</td>\n",
       "      <td>0</td>\n",
       "      <td>98136</td>\n",
       "      <td>47.52</td>\n",
       "      <td>-122.39</td>\n",
       "      <td>1360</td>\n",
       "      <td>5000</td>\n",
       "    </tr>\n",
       "    <tr>\n",
       "      <th>4</th>\n",
       "      <td>1954400510</td>\n",
       "      <td>2015-02-18</td>\n",
       "      <td>510000.00</td>\n",
       "      <td>3</td>\n",
       "      <td>2.00</td>\n",
       "      <td>1680</td>\n",
       "      <td>8080</td>\n",
       "      <td>1.00</td>\n",
       "      <td>0</td>\n",
       "      <td>0</td>\n",
       "      <td>...</td>\n",
       "      <td>8</td>\n",
       "      <td>1680</td>\n",
       "      <td>0</td>\n",
       "      <td>1987-01-01</td>\n",
       "      <td>0</td>\n",
       "      <td>98074</td>\n",
       "      <td>47.62</td>\n",
       "      <td>-122.05</td>\n",
       "      <td>1800</td>\n",
       "      <td>7503</td>\n",
       "    </tr>\n",
       "  </tbody>\n",
       "</table>\n",
       "<p>5 rows × 21 columns</p>\n",
       "</div>"
      ],
      "text/plain": [
       "           id       date     price  bedrooms  bathrooms  sqft_living  \\\n",
       "0  7129300520 2014-10-13 221900.00         3       1.00         1180   \n",
       "1  6414100192 2014-12-09 538000.00         3       2.25         2570   \n",
       "2  5631500400 2015-02-25 180000.00         2       1.00          770   \n",
       "3  2487200875 2014-12-09 604000.00         4       3.00         1960   \n",
       "4  1954400510 2015-02-18 510000.00         3       2.00         1680   \n",
       "\n",
       "   sqft_lot  floors  waterfront  view  ...  grade  sqft_above  sqft_basement  \\\n",
       "0      5650    1.00           0     0  ...      7        1180              0   \n",
       "1      7242    2.00           0     0  ...      7        2170            400   \n",
       "2     10000    1.00           0     0  ...      6         770              0   \n",
       "3      5000    1.00           0     0  ...      7        1050            910   \n",
       "4      8080    1.00           0     0  ...      8        1680              0   \n",
       "\n",
       "    yr_built yr_renovated  zipcode   lat    long  sqft_living15  sqft_lot15  \n",
       "0 1955-01-01            0    98178 47.51 -122.26           1340        5650  \n",
       "1 1951-01-01         1991    98125 47.72 -122.32           1690        7639  \n",
       "2 1933-01-01            0    98028 47.74 -122.23           2720        8062  \n",
       "3 1965-01-01            0    98136 47.52 -122.39           1360        5000  \n",
       "4 1987-01-01            0    98074 47.62 -122.05           1800        7503  \n",
       "\n",
       "[5 rows x 21 columns]"
      ]
     },
     "execution_count": 4,
     "metadata": {},
     "output_type": "execute_result"
    }
   ],
   "source": [
    "df.head()"
   ]
  },
  {
   "cell_type": "code",
   "execution_count": 5,
   "id": "4b10b294",
   "metadata": {
    "ExecuteTime": {
     "end_time": "2022-05-02T09:11:16.427257Z",
     "start_time": "2022-05-02T09:11:16.413593Z"
    },
    "cell_style": "center"
   },
   "outputs": [
    {
     "name": "stdout",
     "output_type": "stream",
     "text": [
      "<class 'pandas.core.frame.DataFrame'>\n",
      "RangeIndex: 21613 entries, 0 to 21612\n",
      "Data columns (total 21 columns):\n",
      " #   Column         Non-Null Count  Dtype         \n",
      "---  ------         --------------  -----         \n",
      " 0   id             21613 non-null  int64         \n",
      " 1   date           21613 non-null  datetime64[ns]\n",
      " 2   price          21613 non-null  float64       \n",
      " 3   bedrooms       21613 non-null  int64         \n",
      " 4   bathrooms      21613 non-null  float64       \n",
      " 5   sqft_living    21613 non-null  int64         \n",
      " 6   sqft_lot       21613 non-null  int64         \n",
      " 7   floors         21613 non-null  float64       \n",
      " 8   waterfront     21613 non-null  int64         \n",
      " 9   view           21613 non-null  int64         \n",
      " 10  condition      21613 non-null  int64         \n",
      " 11  grade          21613 non-null  int64         \n",
      " 12  sqft_above     21613 non-null  int64         \n",
      " 13  sqft_basement  21613 non-null  int64         \n",
      " 14  yr_built       21613 non-null  datetime64[ns]\n",
      " 15  yr_renovated   21613 non-null  int64         \n",
      " 16  zipcode        21613 non-null  int64         \n",
      " 17  lat            21613 non-null  float64       \n",
      " 18  long           21613 non-null  float64       \n",
      " 19  sqft_living15  21613 non-null  int64         \n",
      " 20  sqft_lot15     21613 non-null  int64         \n",
      "dtypes: datetime64[ns](2), float64(5), int64(14)\n",
      "memory usage: 3.5 MB\n"
     ]
    }
   ],
   "source": [
    "df.info()"
   ]
  },
  {
   "cell_type": "markdown",
   "id": "71ab8b55",
   "metadata": {},
   "source": [
    "### Change types"
   ]
  },
  {
   "cell_type": "code",
   "execution_count": 6,
   "id": "2f712bf0",
   "metadata": {
    "ExecuteTime": {
     "end_time": "2022-05-02T09:11:16.579545Z",
     "start_time": "2022-05-02T09:11:16.428233Z"
    }
   },
   "outputs": [],
   "source": [
    "df['condition'] = df['condition'].astype( str )\n",
    "df['yr_renovated'] = df['yr_renovated'].apply( lambda x: pd.to_datetime( x,format='%Y') if x > 0 else x )"
   ]
  },
  {
   "cell_type": "markdown",
   "id": "7c3c5ccc",
   "metadata": {
    "ExecuteTime": {
     "end_time": "2022-04-29T10:21:16.597128Z",
     "start_time": "2022-04-29T10:21:16.580310Z"
    }
   },
   "source": [
    "| Attributes     | Meaning                                                                                                                                                                                              |\n",
    "|----------------|------------------------------------------------------------------------------------------------------------------------------------------------------------------------------------------------------|\n",
    "| id             | Unique ID for each home sold                                                                                                                                                                         |\n",
    "| date           | Date of the home sale                                                                                                                                                                                |\n",
    "| price          | Price of each home sold                                                                                                                                                                              |\n",
    "| bedrooms       | Number of bedrooms                                                                                                                                                                                   |\n",
    "| bathrooms      | Number of bathrooms, where .5 accounts for a room with a toilet but no shower                                                                                                                        |\n",
    "| sqft_living    | Square footage of the apartments interior living space                                                                                                                                               |\n",
    "| sqft_lot       | Square footage of the land space                                                                                                                                                                     |\n",
    "| floors         | Number of floors                                                                                                                                                                                     |\n",
    "| waterfront     | A dummy variable for whether the apartment was overlooking the waterfront or not                                                                                                                     |\n",
    "| view           | An index from 0 to 4 of how good the view of the property was                                                                                                                                        |\n",
    "| condition      | An index from 1 to 5 on the condition of the apartment                                                                                                                                               |\n",
    "| grade          | An index from 1 to 13, where 1-3 falls short of building construction and design, 7 has an average level of construction and design, and 11-13 have a high quality level of construction and design. |\n",
    "| sqft_above     | The square footage of the interior housing space that is above ground level                                                                                                                          |\n",
    "| sqft_basement  | The square footage of the interior housing space that is below ground level                                                                                                                          |\n",
    "| yr_built       | The year the house was initially built                                                                                                                                                               |\n",
    "| yr_renovated   | The year of the house’s last renovation                                                                                                                                                              |\n",
    "| zipcode        | What zipcode area the house is in                                                                                                                                                                    |\n",
    "| sqft_living15  | The square footage of interior housing living space for the nearest 15 neighbors                                                                                                                     |\n",
    "| sqft_lot15     | The square footage of the land lots of the nearest 15 neighbors    "
   ]
  },
  {
   "cell_type": "markdown",
   "id": "29dab118",
   "metadata": {},
   "source": [
    "### Insights"
   ]
  },
  {
   "cell_type": "markdown",
   "id": "9dc07567",
   "metadata": {},
   "source": [
    "1. How many homes are available for purchase?\n",
    "2. How many attributes do houses have?\n",
    "3. What are the attributes of the houses?\n",
    "4. What is the most expensive house (house with the highest sale value)?\n",
    "5. Which house has the most rooms?\n",
    "6. What is the sum total of quarters in the dataset?\n",
    "7. How many houses have 2 bathrooms?\n",
    "8. What is the average price of all houses in the dataset?\n",
    "9. What is the average price of 2 bathroom homes?\n",
    "10. What is the minimum price for 3 bedroom homes?\n",
    "11. How many houses have more than 300 square meters in the living room?\n",
    "Of being?\n",
    "12. How many houses have more than 2 floors?\n",
    "13. How many houses have a sea view?\n",
    "14. Of the houses with sea views, how many have 3 bedrooms?\n",
    "15. Of the houses with more than 300 square meters of living room,\n",
    "how many have more than 2 bathrooms?"
   ]
  },
  {
   "cell_type": "code",
   "execution_count": 7,
   "id": "e6e86874",
   "metadata": {
    "ExecuteTime": {
     "end_time": "2022-05-02T09:11:16.584424Z",
     "start_time": "2022-05-02T09:11:16.580489Z"
    },
    "cell_style": "center",
    "scrolled": true
   },
   "outputs": [
    {
     "name": "stdout",
     "output_type": "stream",
     "text": [
      "Number of houses available for purchase: 21613\n",
      "Features by house: 21\n"
     ]
    }
   ],
   "source": [
    "print( 'Number of houses available for purchase: {}'.format( df.shape[0] ) )\n",
    "print( 'Features by house: {}'.format( df.shape[1] ) )"
   ]
  },
  {
   "cell_type": "code",
   "execution_count": 8,
   "id": "ec789a05",
   "metadata": {
    "ExecuteTime": {
     "end_time": "2022-05-02T09:11:16.618778Z",
     "start_time": "2022-05-02T09:11:16.585369Z"
    },
    "scrolled": true
   },
   "outputs": [
    {
     "name": "stdout",
     "output_type": "stream",
     "text": [
      "Features by house: 7129300520\n",
      "Features by house: 2402100895\n",
      "summ bedrooms: 72854\n",
      "Total number of houses with 2 bathrooms: 1930\n",
      "Average Price: $540088.14\n",
      "Average Price: $457889.72\n",
      "Min Price: $82000.0\n",
      "There are 21612 Houses with living room grater than 300 square foot\n",
      "There are 782 Houses with the number of floors grater than 2\n",
      "There are 10680 Houses with the number of floors grater than 2\n",
      "There are 127 Houses with waterfront and bedrooms greater then 3\n",
      "There are 11242 Houses with living room greater than 300 and bathrooms bigger than 2\n"
     ]
    }
   ],
   "source": [
    "house_expensive_id = df[['id', 'price']].sort_values('price', ascending=False ).loc[0,'id']\n",
    "print( 'Features by house: {}'.format( house_expensive_id) )\n",
    "house_bedrooms_id = df[['id', 'bedrooms']].sort_values('bedrooms', ascending=False ).iloc[0,0]\n",
    "print( 'Features by house: {}'.format( house_bedrooms_id) )\n",
    "print( 'summ bedrooms: {}'.format( df['bedrooms'].sum() ))\n",
    "data = df.loc[df['bathrooms'] == 2, :]\n",
    "num_houses = len( data )\n",
    "print( 'Total number of houses with 2 bathrooms: {}'.format( num_houses ) )\n",
    "avg_price = np.round( df['price'].mean(), 2 )\n",
    "print( 'Average Price: ${}'.format( avg_price ) )\n",
    "avg_price = np.round( data.loc[data['bathrooms'] == 2, 'price'].mean(), 2 )\n",
    "print( 'Average Price: ${}'.format( avg_price ) )\n",
    "min_price = np.round( df.loc[df['bedrooms'] == 3, 'price'].min(), 2 )\n",
    "print( 'Min Price: ${}'.format( min_price ))\n",
    "houses = df.loc[df['sqft_living'] > 300, 'id'].shape[0]\n",
    "print( 'There are {} Houses with living room grater than 300 square foot'.format( houses ) )\n",
    "houses = df.loc[df['floors'] > 2, 'id'].shape[0]\n",
    "print( 'There are {} Houses with the number of floors grater than 2'.format(houses ) )\n",
    "houses = df.loc[df['floors'] == 1, 'id'].shape[0]\n",
    "print( 'There are {} Houses with the number of floors grater than 2'.format(houses ) )\n",
    "houses = df.loc[(df['waterfront'] == 1) & (df['bedrooms'] > 2), 'id'].shape[0]\n",
    "print( 'There are {} Houses with waterfront and bedrooms greater then 3'.format( houses ) )\n",
    "houses = df.loc[(df['sqft_living'] > 300) & (df['bathrooms'] > 2), 'id'].shape[0]\n",
    "print( 'There are {} Houses with living room greater than 300 and bathrooms bigger than 2'.format( houses ) )\n"
   ]
  },
  {
   "cell_type": "markdown",
   "id": "77c819e8",
   "metadata": {},
   "source": [
    "## “house_age”\n",
    "- Se o valor da coluna “date” for maior que 2014-01-01 => ‘new_house’\n",
    "- Se o valor da coluna “date” for menor que 2014-01-01 => ‘old_house’\n"
   ]
  },
  {
   "cell_type": "code",
   "execution_count": 9,
   "id": "9e826348",
   "metadata": {
    "ExecuteTime": {
     "end_time": "2022-05-02T09:11:16.625609Z",
     "start_time": "2022-05-02T09:11:16.619754Z"
    },
    "scrolled": true
   },
   "outputs": [],
   "source": [
    "df['house_age'] = 'NA'\n",
    "df.loc[df['date'] > '2015-01-01', 'house_age'] = 'new_house'\n",
    "df.loc[df['date'] < '2015-01-01', 'house_age'] = 'old_house'"
   ]
  },
  {
   "cell_type": "markdown",
   "id": "c8dc8f30",
   "metadata": {},
   "source": [
    "## “dormitory_type”\n",
    "- Se o valor da coluna “bedrooms” for igual à 1 => ‘studio’\n",
    "- Se o valor da coluna “bedrooms” for igual a 2 => ‘apartament’\n",
    "- Se o valor da coluna “bedrooms” for maior que 2 => ‘house’\n"
   ]
  },
  {
   "cell_type": "code",
   "execution_count": 10,
   "id": "b82da768",
   "metadata": {
    "ExecuteTime": {
     "end_time": "2022-05-02T09:11:18.473545Z",
     "start_time": "2022-05-02T09:11:16.628536Z"
    }
   },
   "outputs": [],
   "source": [
    "df['dormitory_type'] = 'NA'\n",
    "for i in range( len( df ) ):\n",
    "    if df.loc[i, 'bedrooms'] == 1:\n",
    "        df.loc[i, 'dormitory_type'] = 'studio'\n",
    "        \n",
    "    elif df.loc[i, 'bedrooms'] == 2:\n",
    "        df.loc[i, 'dormitory_type'] = 'apartment'\n",
    "        \n",
    "    elif df.loc[i, 'bedrooms'] > 2:\n",
    "        df.loc[i, 'dormitory_type'] = 'house'"
   ]
  },
  {
   "cell_type": "markdown",
   "id": "0767a37d",
   "metadata": {
    "ExecuteTime": {
     "end_time": "2021-08-27T18:23:10.690279Z",
     "start_time": "2021-08-27T18:23:10.682837Z"
    }
   },
   "source": [
    "## “condition_type”\n",
    "- Se o valor da coluna “condition” for menor ou igual à 2 => ‘bad’\n",
    "- Se o valor da coluna “condition” for igual à 3 ou 4 => ‘regular’\n",
    "- Se o valor da coluna “condition” for igual à 5 => ‘good’\n"
   ]
  },
  {
   "cell_type": "code",
   "execution_count": 11,
   "id": "47f0230d",
   "metadata": {
    "ExecuteTime": {
     "end_time": "2022-05-02T09:11:18.484512Z",
     "start_time": "2022-05-02T09:11:18.474751Z"
    }
   },
   "outputs": [],
   "source": [
    "df['condition_type']=df['condition'].apply(lambda x:'bad' if x== '2' else \n",
    "                                                  'regular' if (x==\"3\" or x==\"4\") else \n",
    "                                                  'good' if x==5 else 'NA') \n"
   ]
  },
  {
   "cell_type": "code",
   "execution_count": 12,
   "id": "0fa1edcf",
   "metadata": {
    "ExecuteTime": {
     "end_time": "2022-05-02T09:11:18.502894Z",
     "start_time": "2022-05-02T09:11:18.485500Z"
    }
   },
   "outputs": [
    {
     "name": "stdout",
     "output_type": "stream",
     "text": [
      "Number of Houses in \"regular\" condition is: 19710\n"
     ]
    }
   ],
   "source": [
    "houses = df[df['condition_type'] == 'regular'].shape[0]\n",
    "print( 'Number of Houses in \"regular\" condition is: {}'.format( houses ) )"
   ]
  },
  {
   "cell_type": "code",
   "execution_count": 13,
   "id": "225ac120",
   "metadata": {
    "ExecuteTime": {
     "end_time": "2022-05-02T09:11:18.510701Z",
     "start_time": "2022-05-02T09:11:18.504844Z"
    }
   },
   "outputs": [
    {
     "name": "stdout",
     "output_type": "stream",
     "text": [
      "Number of Houses with water view and bad condition: 1\n"
     ]
    }
   ],
   "source": [
    "houses = df[(df['condition_type'] == 'bad') & (df['waterfront'] == 1)].shape[0]\n",
    "print( \"Number of Houses with water view and bad condition: {}\".format( houses) )"
   ]
  },
  {
   "cell_type": "code",
   "execution_count": 14,
   "id": "484478be",
   "metadata": {
    "ExecuteTime": {
     "end_time": "2022-05-02T09:11:18.520460Z",
     "start_time": "2022-05-02T09:11:18.511676Z"
    }
   },
   "outputs": [
    {
     "name": "stdout",
     "output_type": "stream",
     "text": [
      "Number of new house with good conditional type is: 0\n"
     ]
    }
   ],
   "source": [
    "houses = df[(df['condition_type'] == 'good') & (df['house_age'] ==\"new_house\")].shape[0]\n",
    "print( \"Number of new house with good conditional type is: {}\".format( houses ))"
   ]
  },
  {
   "cell_type": "code",
   "execution_count": 15,
   "id": "d4de5f5a",
   "metadata": {
    "ExecuteTime": {
     "end_time": "2022-05-02T09:11:18.530221Z",
     "start_time": "2022-05-02T09:11:18.521437Z"
    },
    "scrolled": true
   },
   "outputs": [
    {
     "name": "stdout",
     "output_type": "stream",
     "text": [
      "Most expensive studio house: $1247000.0\n"
     ]
    }
   ],
   "source": [
    "max_studio_price = df[df['dormitory_type'] == 'studio']['price'].max()\n",
    "print( \"Most expensive studio house: ${}\".format( max_studio_price ) )"
   ]
  },
  {
   "cell_type": "code",
   "execution_count": 16,
   "id": "46f55a97",
   "metadata": {
    "ExecuteTime": {
     "end_time": "2022-05-02T09:11:18.539981Z",
     "start_time": "2022-05-02T09:11:18.531197Z"
    }
   },
   "outputs": [
    {
     "name": "stdout",
     "output_type": "stream",
     "text": [
      "Number of reformed house in 2014: 0\n"
     ]
    }
   ],
   "source": [
    "houses = df[(df['house_age'] == 'new_house') &\n",
    "(df['yr_renovated'] == 2014 )].shape[0]\n",
    "print( \"Number of reformed house in 2014: {}\".format( houses ) )"
   ]
  },
  {
   "cell_type": "markdown",
   "id": "f30f23fc",
   "metadata": {
    "ExecuteTime": {
     "end_time": "2021-08-27T18:23:10.690279Z",
     "start_time": "2021-08-27T18:23:10.682837Z"
    }
   },
   "source": [
    "## Qual a média do preço de compra dos imóveis por “Nível”? - \n",
    "- Nível 0 -> Preço entre R$ 0 e R$ 321.950 \n",
    "- Nível 1 -> Preço entre R$ 321.950 e R$ 450.000 \n",
    "- Nível 2 -> Preço entre R$ 450.000 e R$ 645.000 \n",
    "- Nível 3 -> Acima de R$ 645.000\n"
   ]
  },
  {
   "cell_type": "code",
   "execution_count": 17,
   "id": "7ce1d00a",
   "metadata": {
    "ExecuteTime": {
     "end_time": "2022-05-02T09:11:18.556572Z",
     "start_time": "2022-05-02T09:11:18.540958Z"
    }
   },
   "outputs": [],
   "source": [
    "df['level']=df['price'].apply(lambda x:'level_00' if (x >=0)&(x<321950) else\n",
    "                                      'level_01' if (x >=321950)&(x<450000) else\n",
    "                                      'level_02' if (x >=45000)&(x<645000) else 'level_03')"
   ]
  },
  {
   "cell_type": "code",
   "execution_count": 18,
   "id": "25cde5c3",
   "metadata": {
    "ExecuteTime": {
     "end_time": "2022-05-02T09:11:18.572191Z",
     "start_time": "2022-05-02T09:11:18.557548Z"
    }
   },
   "outputs": [
    {
     "data": {
      "text/html": [
       "<div>\n",
       "<style scoped>\n",
       "    .dataframe tbody tr th:only-of-type {\n",
       "        vertical-align: middle;\n",
       "    }\n",
       "\n",
       "    .dataframe tbody tr th {\n",
       "        vertical-align: top;\n",
       "    }\n",
       "\n",
       "    .dataframe thead th {\n",
       "        text-align: right;\n",
       "    }\n",
       "</style>\n",
       "<table border=\"1\" class=\"dataframe\">\n",
       "  <thead>\n",
       "    <tr style=\"text-align: right;\">\n",
       "      <th></th>\n",
       "      <th>id</th>\n",
       "      <th>date</th>\n",
       "      <th>price</th>\n",
       "      <th>bedrooms</th>\n",
       "      <th>bathrooms</th>\n",
       "      <th>sqft_living</th>\n",
       "      <th>sqft_lot</th>\n",
       "      <th>floors</th>\n",
       "      <th>waterfront</th>\n",
       "      <th>view</th>\n",
       "      <th>...</th>\n",
       "      <th>yr_renovated</th>\n",
       "      <th>zipcode</th>\n",
       "      <th>lat</th>\n",
       "      <th>long</th>\n",
       "      <th>sqft_living15</th>\n",
       "      <th>sqft_lot15</th>\n",
       "      <th>house_age</th>\n",
       "      <th>dormitory_type</th>\n",
       "      <th>condition_type</th>\n",
       "      <th>level</th>\n",
       "    </tr>\n",
       "  </thead>\n",
       "  <tbody>\n",
       "    <tr>\n",
       "      <th>0</th>\n",
       "      <td>7129300520</td>\n",
       "      <td>2014-10-13</td>\n",
       "      <td>221900.00</td>\n",
       "      <td>3</td>\n",
       "      <td>1.00</td>\n",
       "      <td>1180</td>\n",
       "      <td>5650</td>\n",
       "      <td>1.00</td>\n",
       "      <td>0</td>\n",
       "      <td>0</td>\n",
       "      <td>...</td>\n",
       "      <td>0</td>\n",
       "      <td>98178</td>\n",
       "      <td>47.51</td>\n",
       "      <td>-122.26</td>\n",
       "      <td>1340</td>\n",
       "      <td>5650</td>\n",
       "      <td>old_house</td>\n",
       "      <td>house</td>\n",
       "      <td>regular</td>\n",
       "      <td>level_00</td>\n",
       "    </tr>\n",
       "    <tr>\n",
       "      <th>1</th>\n",
       "      <td>6414100192</td>\n",
       "      <td>2014-12-09</td>\n",
       "      <td>538000.00</td>\n",
       "      <td>3</td>\n",
       "      <td>2.25</td>\n",
       "      <td>2570</td>\n",
       "      <td>7242</td>\n",
       "      <td>2.00</td>\n",
       "      <td>0</td>\n",
       "      <td>0</td>\n",
       "      <td>...</td>\n",
       "      <td>1991-01-01 00:00:00</td>\n",
       "      <td>98125</td>\n",
       "      <td>47.72</td>\n",
       "      <td>-122.32</td>\n",
       "      <td>1690</td>\n",
       "      <td>7639</td>\n",
       "      <td>old_house</td>\n",
       "      <td>house</td>\n",
       "      <td>regular</td>\n",
       "      <td>level_02</td>\n",
       "    </tr>\n",
       "    <tr>\n",
       "      <th>2</th>\n",
       "      <td>5631500400</td>\n",
       "      <td>2015-02-25</td>\n",
       "      <td>180000.00</td>\n",
       "      <td>2</td>\n",
       "      <td>1.00</td>\n",
       "      <td>770</td>\n",
       "      <td>10000</td>\n",
       "      <td>1.00</td>\n",
       "      <td>0</td>\n",
       "      <td>0</td>\n",
       "      <td>...</td>\n",
       "      <td>0</td>\n",
       "      <td>98028</td>\n",
       "      <td>47.74</td>\n",
       "      <td>-122.23</td>\n",
       "      <td>2720</td>\n",
       "      <td>8062</td>\n",
       "      <td>new_house</td>\n",
       "      <td>apartment</td>\n",
       "      <td>regular</td>\n",
       "      <td>level_00</td>\n",
       "    </tr>\n",
       "    <tr>\n",
       "      <th>3</th>\n",
       "      <td>2487200875</td>\n",
       "      <td>2014-12-09</td>\n",
       "      <td>604000.00</td>\n",
       "      <td>4</td>\n",
       "      <td>3.00</td>\n",
       "      <td>1960</td>\n",
       "      <td>5000</td>\n",
       "      <td>1.00</td>\n",
       "      <td>0</td>\n",
       "      <td>0</td>\n",
       "      <td>...</td>\n",
       "      <td>0</td>\n",
       "      <td>98136</td>\n",
       "      <td>47.52</td>\n",
       "      <td>-122.39</td>\n",
       "      <td>1360</td>\n",
       "      <td>5000</td>\n",
       "      <td>old_house</td>\n",
       "      <td>house</td>\n",
       "      <td>NA</td>\n",
       "      <td>level_02</td>\n",
       "    </tr>\n",
       "    <tr>\n",
       "      <th>4</th>\n",
       "      <td>1954400510</td>\n",
       "      <td>2015-02-18</td>\n",
       "      <td>510000.00</td>\n",
       "      <td>3</td>\n",
       "      <td>2.00</td>\n",
       "      <td>1680</td>\n",
       "      <td>8080</td>\n",
       "      <td>1.00</td>\n",
       "      <td>0</td>\n",
       "      <td>0</td>\n",
       "      <td>...</td>\n",
       "      <td>0</td>\n",
       "      <td>98074</td>\n",
       "      <td>47.62</td>\n",
       "      <td>-122.05</td>\n",
       "      <td>1800</td>\n",
       "      <td>7503</td>\n",
       "      <td>new_house</td>\n",
       "      <td>house</td>\n",
       "      <td>regular</td>\n",
       "      <td>level_02</td>\n",
       "    </tr>\n",
       "  </tbody>\n",
       "</table>\n",
       "<p>5 rows × 25 columns</p>\n",
       "</div>"
      ],
      "text/plain": [
       "           id       date     price  bedrooms  bathrooms  sqft_living  \\\n",
       "0  7129300520 2014-10-13 221900.00         3       1.00         1180   \n",
       "1  6414100192 2014-12-09 538000.00         3       2.25         2570   \n",
       "2  5631500400 2015-02-25 180000.00         2       1.00          770   \n",
       "3  2487200875 2014-12-09 604000.00         4       3.00         1960   \n",
       "4  1954400510 2015-02-18 510000.00         3       2.00         1680   \n",
       "\n",
       "   sqft_lot  floors  waterfront  view  ...         yr_renovated  zipcode  \\\n",
       "0      5650    1.00           0     0  ...                    0    98178   \n",
       "1      7242    2.00           0     0  ...  1991-01-01 00:00:00    98125   \n",
       "2     10000    1.00           0     0  ...                    0    98028   \n",
       "3      5000    1.00           0     0  ...                    0    98136   \n",
       "4      8080    1.00           0     0  ...                    0    98074   \n",
       "\n",
       "    lat    long sqft_living15 sqft_lot15  house_age  dormitory_type  \\\n",
       "0 47.51 -122.26          1340       5650  old_house           house   \n",
       "1 47.72 -122.32          1690       7639  old_house           house   \n",
       "2 47.74 -122.23          2720       8062  new_house       apartment   \n",
       "3 47.52 -122.39          1360       5000  old_house           house   \n",
       "4 47.62 -122.05          1800       7503  new_house           house   \n",
       "\n",
       "   condition_type     level  \n",
       "0         regular  level_00  \n",
       "1         regular  level_02  \n",
       "2         regular  level_00  \n",
       "3              NA  level_02  \n",
       "4         regular  level_02  \n",
       "\n",
       "[5 rows x 25 columns]"
      ]
     },
     "execution_count": 18,
     "metadata": {},
     "output_type": "execute_result"
    }
   ],
   "source": [
    "df.head()"
   ]
  },
  {
   "cell_type": "markdown",
   "id": "0c1d88c7",
   "metadata": {},
   "source": [
    "## Qual a média do tamanho da sala de estar dos imóveis por “Size” ? \n",
    "- Size 0 -> Tamanho entre 0 e 1427 sqft \n",
    "- Size 1 -> Tamanho entre 1427 e 1910 sqft \n",
    "- Size 2 -> Tamanho entre 1910 e 2550 sqft \n",
    "- Size 3 -> Tamanho acima de 2550 sqft"
   ]
  },
  {
   "cell_type": "code",
   "execution_count": 19,
   "id": "0c1916fa",
   "metadata": {
    "ExecuteTime": {
     "end_time": "2022-05-02T09:11:18.588781Z",
     "start_time": "2022-05-02T09:11:18.573165Z"
    },
    "code_folding": []
   },
   "outputs": [],
   "source": [
    "df['size']=df['sqft_living'].apply(lambda x:'s00' if (x >=0)&(x<1427) else\n",
    "                                      's01' if (x >=1427)&(x<1910) else\n",
    "                                      's02' if (x >=1910)&(x<2550) else 's03')"
   ]
  },
  {
   "cell_type": "code",
   "execution_count": 20,
   "id": "a4004260",
   "metadata": {
    "ExecuteTime": {
     "end_time": "2022-05-02T09:11:18.600493Z",
     "start_time": "2022-05-02T09:11:18.589757Z"
    }
   },
   "outputs": [
    {
     "data": {
      "text/html": [
       "<div>\n",
       "<style scoped>\n",
       "    .dataframe tbody tr th:only-of-type {\n",
       "        vertical-align: middle;\n",
       "    }\n",
       "\n",
       "    .dataframe tbody tr th {\n",
       "        vertical-align: top;\n",
       "    }\n",
       "\n",
       "    .dataframe thead th {\n",
       "        text-align: right;\n",
       "    }\n",
       "</style>\n",
       "<table border=\"1\" class=\"dataframe\">\n",
       "  <thead>\n",
       "    <tr style=\"text-align: right;\">\n",
       "      <th></th>\n",
       "      <th>size</th>\n",
       "      <th>sqft_living</th>\n",
       "    </tr>\n",
       "  </thead>\n",
       "  <tbody>\n",
       "    <tr>\n",
       "      <th>0</th>\n",
       "      <td>s00</td>\n",
       "      <td>1123.78</td>\n",
       "    </tr>\n",
       "    <tr>\n",
       "      <th>1</th>\n",
       "      <td>s01</td>\n",
       "      <td>1661.20</td>\n",
       "    </tr>\n",
       "    <tr>\n",
       "      <th>2</th>\n",
       "      <td>s02</td>\n",
       "      <td>2202.70</td>\n",
       "    </tr>\n",
       "    <tr>\n",
       "      <th>3</th>\n",
       "      <td>s03</td>\n",
       "      <td>3318.99</td>\n",
       "    </tr>\n",
       "  </tbody>\n",
       "</table>\n",
       "</div>"
      ],
      "text/plain": [
       "  size  sqft_living\n",
       "0  s00      1123.78\n",
       "1  s01      1661.20\n",
       "2  s02      2202.70\n",
       "3  s03      3318.99"
      ]
     },
     "execution_count": 20,
     "metadata": {},
     "output_type": "execute_result"
    }
   ],
   "source": [
    "df[['size','sqft_living']].groupby('size').mean().reset_index()"
   ]
  },
  {
   "cell_type": "code",
   "execution_count": 21,
   "id": "bf671f39",
   "metadata": {
    "ExecuteTime": {
     "end_time": "2022-05-02T09:11:18.607325Z",
     "start_time": "2022-05-02T09:11:18.601468Z"
    }
   },
   "outputs": [],
   "source": [
    "df['size']=df['sqft_above']"
   ]
  },
  {
   "cell_type": "markdown",
   "id": "c21930e8",
   "metadata": {},
   "source": [
    "## Data Vizualization"
   ]
  },
  {
   "cell_type": "code",
   "execution_count": 22,
   "id": "d924e0bb",
   "metadata": {
    "ExecuteTime": {
     "end_time": "2022-05-02T09:11:18.783950Z",
     "start_time": "2022-05-02T09:11:18.608300Z"
    },
    "scrolled": true
   },
   "outputs": [
    {
     "data": {
      "image/png": "[encoded data removed]",
      "text/plain": [
       "<Figure size 1728x864 with 1 Axes>"
      ]
     },
     "metadata": {
      "needs_background": "light"
     },
     "output_type": "display_data"
    }
   ],
   "source": [
    "plt.figure( figsize=(24,12))\n",
    "data = df[['price', 'bedrooms']].groupby( 'bedrooms' ).sum().reset_index()\n",
    "sns.barplot( x='bedrooms', y='price', data=data );"
   ]
  },
  {
   "cell_type": "code",
   "execution_count": 23,
   "id": "9eec1e46",
   "metadata": {
    "ExecuteTime": {
     "end_time": "2022-05-02T09:11:18.956348Z",
     "start_time": "2022-05-02T09:11:18.784895Z"
    }
   },
   "outputs": [
    {
     "data": {
      "image/png": "[encoded data removed]",
      "text/plain": [
       "<Figure size 1728x864 with 1 Axes>"
      ]
     },
     "metadata": {
      "needs_background": "light"
     },
     "output_type": "display_data"
    }
   ],
   "source": [
    "plt.figure( figsize=(24,12))\n",
    "data = df[['price', 'yr_built']].groupby( 'yr_built' ).mean().reset_index()\n",
    "sns.lineplot( x='yr_built', y='price', data=data );"
   ]
  },
  {
   "cell_type": "code",
   "execution_count": 24,
   "id": "773b52fb",
   "metadata": {
    "ExecuteTime": {
     "end_time": "2022-05-02T09:11:19.507789Z",
     "start_time": "2022-05-02T09:11:18.957326Z"
    }
   },
   "outputs": [
    {
     "ename": "ValueError",
     "evalue": "Could not interpret input 'dormitory_type'",
     "output_type": "error",
     "traceback": [
      "\u001b[1;31m---------------------------------------------------------------------------\u001b[0m",
      "\u001b[1;31mValueError\u001b[0m                                Traceback (most recent call last)",
      "Input \u001b[1;32mIn [24]\u001b[0m, in \u001b[0;36m<cell line: 3>\u001b[1;34m()\u001b[0m\n\u001b[0;32m      1\u001b[0m plt\u001b[38;5;241m.\u001b[39mfigure( figsize\u001b[38;5;241m=\u001b[39m(\u001b[38;5;241m24\u001b[39m,\u001b[38;5;241m12\u001b[39m))\n\u001b[0;32m      2\u001b[0m data \u001b[38;5;241m=\u001b[39m df[[\u001b[38;5;124m'\u001b[39m\u001b[38;5;124mprice\u001b[39m\u001b[38;5;124m'\u001b[39m, \u001b[38;5;124m'\u001b[39m\u001b[38;5;124mdormitory_type\u001b[39m\u001b[38;5;124m'\u001b[39m]]\u001b[38;5;241m.\u001b[39mgroupby( \u001b[38;5;124m'\u001b[39m\u001b[38;5;124mdormitory_type\u001b[39m\u001b[38;5;124m'\u001b[39m )\u001b[38;5;241m.\u001b[39mmean()\u001b[38;5;241m.\u001b[39mreset_index()\n\u001b[1;32m----> 3\u001b[0m \u001b[43msns\u001b[49m\u001b[38;5;241;43m.\u001b[39;49m\u001b[43mbarplot\u001b[49m\u001b[43m(\u001b[49m\u001b[43m \u001b[49m\u001b[43mx\u001b[49m\u001b[38;5;241;43m=\u001b[39;49m\u001b[38;5;124;43m'\u001b[39;49m\u001b[38;5;124;43mdormitory_type\u001b[39;49m\u001b[38;5;124;43m'\u001b[39;49m\u001b[43m,\u001b[49m\u001b[43m \u001b[49m\u001b[43my\u001b[49m\u001b[38;5;241;43m=\u001b[39;49m\u001b[38;5;124;43m'\u001b[39;49m\u001b[38;5;124;43mprice\u001b[39;49m\u001b[38;5;124;43m'\u001b[39;49m\u001b[43m,\u001b[49m\u001b[43m \u001b[49m\u001b[43mdf\u001b[49m\u001b[38;5;241;43m=\u001b[39;49m\u001b[43mdata\u001b[49m\u001b[43m \u001b[49m\u001b[43m)\u001b[49m\n",
      "File \u001b[1;32m~\\Anaconda3\\envs\\zero_ds\\lib\\site-packages\\seaborn\\_decorators.py:46\u001b[0m, in \u001b[0;36m_deprecate_positional_args.<locals>.inner_f\u001b[1;34m(*args, **kwargs)\u001b[0m\n\u001b[0;32m     36\u001b[0m     warnings\u001b[38;5;241m.\u001b[39mwarn(\n\u001b[0;32m     37\u001b[0m         \u001b[38;5;124m\"\u001b[39m\u001b[38;5;124mPass the following variable\u001b[39m\u001b[38;5;132;01m{}\u001b[39;00m\u001b[38;5;124m as \u001b[39m\u001b[38;5;132;01m{}\u001b[39;00m\u001b[38;5;124mkeyword arg\u001b[39m\u001b[38;5;132;01m{}\u001b[39;00m\u001b[38;5;124m: \u001b[39m\u001b[38;5;132;01m{}\u001b[39;00m\u001b[38;5;124m. \u001b[39m\u001b[38;5;124m\"\u001b[39m\n\u001b[0;32m     38\u001b[0m         \u001b[38;5;124m\"\u001b[39m\u001b[38;5;124mFrom version 0.12, the only valid positional argument \u001b[39m\u001b[38;5;124m\"\u001b[39m\n\u001b[1;32m   (...)\u001b[0m\n\u001b[0;32m     43\u001b[0m         \u001b[38;5;167;01mFutureWarning\u001b[39;00m\n\u001b[0;32m     44\u001b[0m     )\n\u001b[0;32m     45\u001b[0m kwargs\u001b[38;5;241m.\u001b[39mupdate({k: arg \u001b[38;5;28;01mfor\u001b[39;00m k, arg \u001b[38;5;129;01min\u001b[39;00m \u001b[38;5;28mzip\u001b[39m(sig\u001b[38;5;241m.\u001b[39mparameters, args)})\n\u001b[1;32m---> 46\u001b[0m \u001b[38;5;28;01mreturn\u001b[39;00m \u001b[43mf\u001b[49m\u001b[43m(\u001b[49m\u001b[38;5;241;43m*\u001b[39;49m\u001b[38;5;241;43m*\u001b[39;49m\u001b[43mkwargs\u001b[49m\u001b[43m)\u001b[49m\n",
      "File \u001b[1;32m~\\Anaconda3\\envs\\zero_ds\\lib\\site-packages\\seaborn\\categorical.py:3182\u001b[0m, in \u001b[0;36mbarplot\u001b[1;34m(x, y, hue, data, order, hue_order, estimator, ci, n_boot, units, seed, orient, color, palette, saturation, errcolor, errwidth, capsize, dodge, ax, **kwargs)\u001b[0m\n\u001b[0;32m   3169\u001b[0m \u001b[38;5;129m@_deprecate_positional_args\u001b[39m\n\u001b[0;32m   3170\u001b[0m \u001b[38;5;28;01mdef\u001b[39;00m \u001b[38;5;21mbarplot\u001b[39m(\n\u001b[0;32m   3171\u001b[0m     \u001b[38;5;241m*\u001b[39m,\n\u001b[1;32m   (...)\u001b[0m\n\u001b[0;32m   3179\u001b[0m     \u001b[38;5;241m*\u001b[39m\u001b[38;5;241m*\u001b[39mkwargs,\n\u001b[0;32m   3180\u001b[0m ):\n\u001b[1;32m-> 3182\u001b[0m     plotter \u001b[38;5;241m=\u001b[39m \u001b[43m_BarPlotter\u001b[49m\u001b[43m(\u001b[49m\u001b[43mx\u001b[49m\u001b[43m,\u001b[49m\u001b[43m \u001b[49m\u001b[43my\u001b[49m\u001b[43m,\u001b[49m\u001b[43m \u001b[49m\u001b[43mhue\u001b[49m\u001b[43m,\u001b[49m\u001b[43m \u001b[49m\u001b[43mdata\u001b[49m\u001b[43m,\u001b[49m\u001b[43m \u001b[49m\u001b[43morder\u001b[49m\u001b[43m,\u001b[49m\u001b[43m \u001b[49m\u001b[43mhue_order\u001b[49m\u001b[43m,\u001b[49m\n\u001b[0;32m   3183\u001b[0m \u001b[43m                          \u001b[49m\u001b[43mestimator\u001b[49m\u001b[43m,\u001b[49m\u001b[43m \u001b[49m\u001b[43mci\u001b[49m\u001b[43m,\u001b[49m\u001b[43m \u001b[49m\u001b[43mn_boot\u001b[49m\u001b[43m,\u001b[49m\u001b[43m \u001b[49m\u001b[43munits\u001b[49m\u001b[43m,\u001b[49m\u001b[43m \u001b[49m\u001b[43mseed\u001b[49m\u001b[43m,\u001b[49m\n\u001b[0;32m   3184\u001b[0m \u001b[43m                          \u001b[49m\u001b[43morient\u001b[49m\u001b[43m,\u001b[49m\u001b[43m \u001b[49m\u001b[43mcolor\u001b[49m\u001b[43m,\u001b[49m\u001b[43m \u001b[49m\u001b[43mpalette\u001b[49m\u001b[43m,\u001b[49m\u001b[43m \u001b[49m\u001b[43msaturation\u001b[49m\u001b[43m,\u001b[49m\n\u001b[0;32m   3185\u001b[0m \u001b[43m                          \u001b[49m\u001b[43merrcolor\u001b[49m\u001b[43m,\u001b[49m\u001b[43m \u001b[49m\u001b[43merrwidth\u001b[49m\u001b[43m,\u001b[49m\u001b[43m \u001b[49m\u001b[43mcapsize\u001b[49m\u001b[43m,\u001b[49m\u001b[43m \u001b[49m\u001b[43mdodge\u001b[49m\u001b[43m)\u001b[49m\n\u001b[0;32m   3187\u001b[0m     \u001b[38;5;28;01mif\u001b[39;00m ax \u001b[38;5;129;01mis\u001b[39;00m \u001b[38;5;28;01mNone\u001b[39;00m:\n\u001b[0;32m   3188\u001b[0m         ax \u001b[38;5;241m=\u001b[39m plt\u001b[38;5;241m.\u001b[39mgca()\n",
      "File \u001b[1;32m~\\Anaconda3\\envs\\zero_ds\\lib\\site-packages\\seaborn\\categorical.py:1584\u001b[0m, in \u001b[0;36m_BarPlotter.__init__\u001b[1;34m(self, x, y, hue, data, order, hue_order, estimator, ci, n_boot, units, seed, orient, color, palette, saturation, errcolor, errwidth, capsize, dodge)\u001b[0m\n\u001b[0;32m   1579\u001b[0m \u001b[38;5;28;01mdef\u001b[39;00m \u001b[38;5;21m__init__\u001b[39m(\u001b[38;5;28mself\u001b[39m, x, y, hue, data, order, hue_order,\n\u001b[0;32m   1580\u001b[0m              estimator, ci, n_boot, units, seed,\n\u001b[0;32m   1581\u001b[0m              orient, color, palette, saturation, errcolor,\n\u001b[0;32m   1582\u001b[0m              errwidth, capsize, dodge):\n\u001b[0;32m   1583\u001b[0m     \u001b[38;5;124;03m\"\"\"Initialize the plotter.\"\"\"\u001b[39;00m\n\u001b[1;32m-> 1584\u001b[0m     \u001b[38;5;28;43mself\u001b[39;49m\u001b[38;5;241;43m.\u001b[39;49m\u001b[43mestablish_variables\u001b[49m\u001b[43m(\u001b[49m\u001b[43mx\u001b[49m\u001b[43m,\u001b[49m\u001b[43m \u001b[49m\u001b[43my\u001b[49m\u001b[43m,\u001b[49m\u001b[43m \u001b[49m\u001b[43mhue\u001b[49m\u001b[43m,\u001b[49m\u001b[43m \u001b[49m\u001b[43mdata\u001b[49m\u001b[43m,\u001b[49m\u001b[43m \u001b[49m\u001b[43morient\u001b[49m\u001b[43m,\u001b[49m\n\u001b[0;32m   1585\u001b[0m \u001b[43m                             \u001b[49m\u001b[43morder\u001b[49m\u001b[43m,\u001b[49m\u001b[43m \u001b[49m\u001b[43mhue_order\u001b[49m\u001b[43m,\u001b[49m\u001b[43m \u001b[49m\u001b[43munits\u001b[49m\u001b[43m)\u001b[49m\n\u001b[0;32m   1586\u001b[0m     \u001b[38;5;28mself\u001b[39m\u001b[38;5;241m.\u001b[39mestablish_colors(color, palette, saturation)\n\u001b[0;32m   1587\u001b[0m     \u001b[38;5;28mself\u001b[39m\u001b[38;5;241m.\u001b[39mestimate_statistic(estimator, ci, n_boot, seed)\n",
      "File \u001b[1;32m~\\Anaconda3\\envs\\zero_ds\\lib\\site-packages\\seaborn\\categorical.py:153\u001b[0m, in \u001b[0;36m_CategoricalPlotter.establish_variables\u001b[1;34m(self, x, y, hue, data, orient, order, hue_order, units)\u001b[0m\n\u001b[0;32m    151\u001b[0m     \u001b[38;5;28;01mif\u001b[39;00m \u001b[38;5;28misinstance\u001b[39m(var, \u001b[38;5;28mstr\u001b[39m):\n\u001b[0;32m    152\u001b[0m         err \u001b[38;5;241m=\u001b[39m \u001b[38;5;124m\"\u001b[39m\u001b[38;5;124mCould not interpret input \u001b[39m\u001b[38;5;124m'\u001b[39m\u001b[38;5;132;01m{}\u001b[39;00m\u001b[38;5;124m'\u001b[39m\u001b[38;5;124m\"\u001b[39m\u001b[38;5;241m.\u001b[39mformat(var)\n\u001b[1;32m--> 153\u001b[0m         \u001b[38;5;28;01mraise\u001b[39;00m \u001b[38;5;167;01mValueError\u001b[39;00m(err)\n\u001b[0;32m    155\u001b[0m \u001b[38;5;66;03m# Figure out the plotting orientation\u001b[39;00m\n\u001b[0;32m    156\u001b[0m orient \u001b[38;5;241m=\u001b[39m infer_orient(\n\u001b[0;32m    157\u001b[0m     x, y, orient, require_numeric\u001b[38;5;241m=\u001b[39m\u001b[38;5;28mself\u001b[39m\u001b[38;5;241m.\u001b[39mrequire_numeric\n\u001b[0;32m    158\u001b[0m )\n",
      "\u001b[1;31mValueError\u001b[0m: Could not interpret input 'dormitory_type'"
     ]
    },
    {
     "data": {
      "text/plain": [
       "<Figure size 1728x864 with 0 Axes>"
      ]
     },
     "metadata": {},
     "output_type": "display_data"
    }
   ],
   "source": [
    "plt.figure( figsize=(24,12))\n",
    "data = df[['price', 'dormitory_type']].groupby( 'dormitory_type' ).mean().reset_index()\n",
    "sns.barplot( x='dormitory_type', y='price', df=data );"
   ]
  },
  {
   "cell_type": "markdown",
   "id": "83bc15e6",
   "metadata": {
    "ExecuteTime": {
     "end_time": "2021-08-27T18:48:24.927881Z",
     "start_time": "2021-08-27T18:48:24.921366Z"
    }
   },
   "source": [
    "## Adicione as seguinte informações ao conjunto de dados original: \n",
    "- Place ID: Identificação da localização \n",
    "- OSM Type: Open Street Map type \n",
    "- Country: Nome do País \n",
    "- Country Code: Código do País\n"
   ]
  },
  {
   "cell_type": "code",
   "execution_count": null,
   "id": "5d9e23a6",
   "metadata": {
    "ExecuteTime": {
     "end_time": "2022-05-02T09:11:19.508764Z",
     "start_time": "2022-05-02T09:11:19.508764Z"
    }
   },
   "outputs": [],
   "source": [
    "import pandas as pd\n",
    "from geopy.geocoders import Nominatim\n",
    "df=df.head(10)\n",
    "\n",
    "#Create empty rows\n",
    "df['road']='NA'\n",
    "df['house_number']='NA'\n",
    "df['city']='NA'\n",
    "df['county']='NA'\n",
    "df['state']='NA'\n",
    "df['neighbourhood']='NA'\n",
    "\n",
    "geolocator=Nominatim(user_agent='geoapiExercises')\n",
    "\n",
    "for i in range(len(df)):\n",
    "    print('Loop:{}/{}'.format(i,len(df)))\n",
    "    df\n",
    "    query=str(df.loc[i,'lat'])+','+str(df.loc[i,'long'])\n",
    "\n",
    "#API Request\n",
    "    response=geolocator.reverse(query)\n",
    "\n",
    "#populate df\n",
    "    if 'house_number' in response.raw['address']:\n",
    "        df.loc[i,'house_number']=response.raw['address']['house_number']\n",
    "    if 'road' in response.raw['address']:\n",
    "        df.loc[i,'road']        =response.raw['address']['road']\n",
    "    if 'city' in response.raw['address']:\n",
    "        df.loc[i,'city']        =response.raw['address']['city']\n",
    "    if 'county' in response.raw['address']:\n",
    "        df.loc[i,'county']      =response.raw['address']['county']\n",
    "    if 'state' in response.raw['address']:\n",
    "        df.loc[i,'state']       =response.raw['address']['state']\n",
    "    if 'neighbourhood' in response.raw['address']:\n",
    "        df.loc[i,'neighbourhood']=response.raw['address']['neighbourhood']\n",
    "\n"
   ]
  },
  {
   "cell_type": "code",
   "execution_count": null,
   "id": "7c751c04",
   "metadata": {
    "ExecuteTime": {
     "end_time": "2022-05-02T09:11:19.510717Z",
     "start_time": "2022-05-02T09:11:19.510717Z"
    }
   },
   "outputs": [],
   "source": [
    "#df.to_csv('Datasets/df_complete_lat_long.csv',index=False)\n",
    "df=pd.read_csv('Datasets/df_complete_lat_long.csv',parse_dates=[1,14])"
   ]
  },
  {
   "cell_type": "code",
   "execution_count": null,
   "id": "ac543f6d",
   "metadata": {
    "ExecuteTime": {
     "end_time": "2022-05-02T09:11:19.511693Z",
     "start_time": "2022-05-02T09:11:19.511693Z"
    }
   },
   "outputs": [],
   "source": [
    "df.head()"
   ]
  },
  {
   "cell_type": "code",
   "execution_count": null,
   "id": "8cfec65f",
   "metadata": {
    "ExecuteTime": {
     "end_time": "2022-05-02T09:11:19.512669Z",
     "start_time": "2022-05-02T09:11:19.512669Z"
    },
    "cell_style": "center",
    "scrolled": true
   },
   "outputs": [],
   "source": [
    "%matplotlib inline\n",
    "msno.matrix(df);"
   ]
  },
  {
   "cell_type": "markdown",
   "id": "5394505e",
   "metadata": {
    "ExecuteTime": {
     "end_time": "2021-08-27T18:49:43.440244Z",
     "start_time": "2021-08-27T18:49:43.429031Z"
    },
    "cell_style": "center"
   },
   "source": [
    "## Adicione os seguinte filtros no Mapa: \n",
    "- Tamanho mínimo da área da sala de estar. \n",
    "- Número\n",
    "mínimo de banheiros. \n",
    "- Valor Máximo do Preço. \n",
    "- Tamanho máximo da área do porão. \n",
    "-Filtro das Condições do Imóvel. \n",
    "- Filtro por Ano de Construção.\n"
   ]
  },
  {
   "cell_type": "code",
   "execution_count": null,
   "id": "cf64765d",
   "metadata": {
    "ExecuteTime": {
     "end_time": "2022-05-02T09:11:19.513646Z",
     "start_time": "2022-05-02T09:11:19.513646Z"
    }
   },
   "outputs": [],
   "source": [
    "# Prepare data\n",
    "    \n",
    "df['is_waterfront'] = df['waterfront'].apply( lambda x: 'yes' if x == 1 else 'no' )\n",
    "\n",
    "# # define level of prices\n",
    "\n",
    "df['level']=df['price'].apply(lambda x:  0 if x<=321950 else\n",
    "                                         1 if (x>321950)&(x<=450000)else\n",
    "                                         2 if (x>450000)&(x<=645000)else 3)\n",
    "df['level'] = df['level'].astype(int)\n",
    "\n",
    "# Iteractive buttons\n",
    "\n",
    "price_limit = widgets.IntSlider(\n",
    "    value = int(df['price'].mean()),min = int(df['price'].min()),\n",
    "    max = int(df['price'].max()),step = 1,description='Maximun Price',\n",
    "    disable=False,style={'description_width': 'initial'}\n",
    "    )\n",
    "\n",
    "waterfront_bar = widgets.Dropdown(\n",
    "    options = df['is_waterfront'].unique().tolist(),\n",
    "    value = 'no',\n",
    "    description = 'Water View',\n",
    "    disable=False\n",
    "    )\n",
    "\n",
    "livingroom_limit = widgets.IntSlider(\n",
    "    value = int( df['sqft_living'].mean() ),\n",
    "    min = df['sqft_living'].min(),\n",
    "    max = df['sqft_living'].max(),\n",
    "    step = 1,\n",
    "    description='Minimum Living Room Size',\n",
    "    disable=False,\n",
    "    style={'description_width': 'initial'}\n",
    ")\n",
    "\n",
    "bathroom_limit = widgets.IntSlider(\n",
    "    value = int( df['bathrooms'].mean() ),\n",
    "    min = df['bathrooms'].min(),\n",
    "    max = df['bathrooms'].max(),\n",
    "    step = 1,\n",
    "    description='Minimum Bathroom Number',\n",
    "    disable=False,\n",
    "    style={'description_width': 'initial'}\n",
    ")\n",
    "\n",
    "basement_limit = widgets.IntSlider(\n",
    "    value = int( df['sqft_basement'].mean() ),\n",
    "    min = df['sqft_basement'].min(),\n",
    "    max = df['sqft_basement'].max(),\n",
    "    step = 1,\n",
    "    description='Minimum Basement Size',\n",
    "    disable=False,\n",
    "    style={'description_width': 'initial'}\n",
    ")\n",
    "\n",
    "condition_limit = widgets.IntSlider(\n",
    "    value = int( df['condition'].mean() ),\n",
    "    min = df['condition'].min(),\n",
    "    max = df['condition'].max(),\n",
    "    step = 1,\n",
    "    description='Minimum condition',\n",
    "    disable=False,\n",
    "    style={'description_width': 'initial'}\n",
    ")\n",
    "\n",
    "year_limit = widgets.IntSlider(\n",
    "    value = int( df['yr_built'].mean() ),\n",
    "    min = df['yr_built'].min(),\n",
    "    max = df['yr_built'].max(),\n",
    "    step = 1,\n",
    "    description='Year Built',\n",
    "    disable=False,\n",
    "    style={'description_width': 'initial'}\n",
    ")"
   ]
  },
  {
   "cell_type": "code",
   "execution_count": null,
   "id": "136bf006",
   "metadata": {
    "ExecuteTime": {
     "end_time": "2022-05-02T09:11:19.514621Z",
     "start_time": "2022-05-02T09:11:19.514621Z"
    }
   },
   "outputs": [],
   "source": [
    "def update_map( df, waterfront, limit, livingroom_limit, bathroom_limit,basement_limit, \n",
    "               condition_limit, year_limit ):\n",
    "    houses = df[(df['price'] <= limit) &\n",
    "    (df['is_waterfront'] == waterfront) &\n",
    "    (df['sqft_living'] >= livingroom_limit) &\n",
    "    (df['bathrooms'] >= bathroom_limit) &\n",
    "    (df['sqft_basement'] >= basement_limit) &\n",
    "    (df['condition'] >= condition_limit) &\n",
    "    (df['yr_built'] >= year_limit )][['id', 'lat', 'long', 'price','level']]\n",
    "    \n",
    "#plot map\n",
    "    fig = px.scatter_mapbox( houses,\n",
    "            lat=\"lat\",\n",
    "            lon=\"long\",\n",
    "            size=\"price\",\n",
    "            color=\"level\",\n",
    "            color_continuous_scale=px.colors.cyclical.IceFire,\n",
    "            size_max=15,\n",
    "            zoom=10)\n",
    "\n",
    "    fig.update_layout(mapbox_style=\"open-street-map\")\n",
    "    fig.update_layout(height=600, margin={\"r\":0,\"t\":0,\"l\":0,\"b\":0})\n",
    "    fig.show()                    "
   ]
  },
  {
   "cell_type": "code",
   "execution_count": null,
   "id": "8d59650f",
   "metadata": {
    "ExecuteTime": {
     "end_time": "2022-05-02T09:11:19.515597Z",
     "start_time": "2022-05-02T09:11:19.515597Z"
    }
   },
   "outputs": [],
   "source": [
    "widgets.interactive( update_map,\n",
    "    df=fixed( df ),\n",
    "    waterfront=waterfront_bar,\n",
    "    limit=price_limit,\n",
    "    livingroom_limit=livingroom_limit,\n",
    "    bathroom_limit=bathroom_limit,\n",
    "    basement_limit=basement_limit,\n",
    "    condition_limit=condition_limit,\n",
    "    year_limit=year_limit\n",
    ")"
   ]
  },
  {
   "cell_type": "markdown",
   "id": "7cf32734",
   "metadata": {},
   "source": [
    "## Adicione os seguinte filtros no Dashboard: \n",
    "- Filtro por data disponível para compra. \n",
    "- Filtro por ano de renovação. \n",
    "- Filtro se possui vista para a água ou não."
   ]
  },
  {
   "cell_type": "code",
   "execution_count": 25,
   "id": "4d2949f2",
   "metadata": {
    "ExecuteTime": {
     "end_time": "2022-05-02T09:11:41.164910Z",
     "start_time": "2022-05-02T09:11:40.113147Z"
    }
   },
   "outputs": [
    {
     "ename": "TypeError",
     "evalue": "'<' not supported between instances of 'Timestamp' and 'int'",
     "output_type": "error",
     "traceback": [
      "\u001b[1;31m---------------------------------------------------------------------------\u001b[0m",
      "\u001b[1;31mTypeError\u001b[0m                                 Traceback (most recent call last)",
      "Input \u001b[1;32mIn [25]\u001b[0m, in \u001b[0;36m<cell line: 22>\u001b[1;34m()\u001b[0m\n\u001b[0;32m     11\u001b[0m date_limit \u001b[38;5;241m=\u001b[39m widgets\u001b[38;5;241m.\u001b[39mSelectionSlider(\n\u001b[0;32m     12\u001b[0m options \u001b[38;5;241m=\u001b[39m df[\u001b[38;5;124m'\u001b[39m\u001b[38;5;124mdate\u001b[39m\u001b[38;5;124m'\u001b[39m]\u001b[38;5;241m.\u001b[39msort_values()\u001b[38;5;241m.\u001b[39munique()\u001b[38;5;241m.\u001b[39mtolist(),\n\u001b[0;32m     13\u001b[0m value\u001b[38;5;241m=\u001b[39m\u001b[38;5;124m'\u001b[39m\u001b[38;5;124m2014-12-01\u001b[39m\u001b[38;5;124m'\u001b[39m,\n\u001b[1;32m   (...)\u001b[0m\n\u001b[0;32m     19\u001b[0m readout\u001b[38;5;241m=\u001b[39m\u001b[38;5;28;01mTrue\u001b[39;00m\n\u001b[0;32m     20\u001b[0m )\n\u001b[0;32m     21\u001b[0m \u001b[38;5;66;03m# # Max Year Renovated\u001b[39;00m\n\u001b[0;32m     22\u001b[0m year_limit \u001b[38;5;241m=\u001b[39m widgets\u001b[38;5;241m.\u001b[39mSelectionSlider(\n\u001b[1;32m---> 23\u001b[0m options \u001b[38;5;241m=\u001b[39m \u001b[43mdf\u001b[49m\u001b[43m[\u001b[49m\u001b[38;5;124;43m'\u001b[39;49m\u001b[38;5;124;43myr_renovated\u001b[39;49m\u001b[38;5;124;43m'\u001b[39;49m\u001b[43m]\u001b[49m\u001b[38;5;241;43m.\u001b[39;49m\u001b[43msort_values\u001b[49m\u001b[43m(\u001b[49m\u001b[43m)\u001b[49m\u001b[38;5;241m.\u001b[39msort_values()\u001b[38;5;241m.\u001b[39munique()\u001b[38;5;241m.\u001b[39mtolist(),\n\u001b[0;32m     24\u001b[0m value\u001b[38;5;241m=\u001b[39m\u001b[38;5;241m2000\u001b[39m,\n\u001b[0;32m     25\u001b[0m description\u001b[38;5;241m=\u001b[39m\u001b[38;5;124m'\u001b[39m\u001b[38;5;124mMax Year\u001b[39m\u001b[38;5;124m'\u001b[39m,\n\u001b[0;32m     26\u001b[0m disable\u001b[38;5;241m=\u001b[39m\u001b[38;5;28;01mFalse\u001b[39;00m,\n\u001b[0;32m     27\u001b[0m continuous_update\u001b[38;5;241m=\u001b[39m\u001b[38;5;28;01mFalse\u001b[39;00m,\n\u001b[0;32m     28\u001b[0m orientation\u001b[38;5;241m=\u001b[39m\u001b[38;5;124m'\u001b[39m\u001b[38;5;124mhorizontal\u001b[39m\u001b[38;5;124m'\u001b[39m,\n\u001b[0;32m     29\u001b[0m style\u001b[38;5;241m=\u001b[39m{\u001b[38;5;124m'\u001b[39m\u001b[38;5;124mdescription_width\u001b[39m\u001b[38;5;124m'\u001b[39m: \u001b[38;5;124m'\u001b[39m\u001b[38;5;124minitial\u001b[39m\u001b[38;5;124m'\u001b[39m},\n\u001b[0;32m     30\u001b[0m readout\u001b[38;5;241m=\u001b[39m\u001b[38;5;28;01mTrue\u001b[39;00m\n\u001b[0;32m     31\u001b[0m )\n\u001b[0;32m     32\u001b[0m \u001b[38;5;66;03m# # Waterfront\u001b[39;00m\n\u001b[0;32m     33\u001b[0m waterfront_limit \u001b[38;5;241m=\u001b[39m widgets\u001b[38;5;241m.\u001b[39mCheckbox(\n\u001b[0;32m     34\u001b[0m value\u001b[38;5;241m=\u001b[39m\u001b[38;5;28;01mFalse\u001b[39;00m,\n\u001b[0;32m     35\u001b[0m description\u001b[38;5;241m=\u001b[39m\u001b[38;5;124m'\u001b[39m\u001b[38;5;124mWaterfront?\u001b[39m\u001b[38;5;124m'\u001b[39m,\n\u001b[0;32m     36\u001b[0m disabled\u001b[38;5;241m=\u001b[39m\u001b[38;5;28;01mFalse\u001b[39;00m,\n\u001b[0;32m     37\u001b[0m indent\u001b[38;5;241m=\u001b[39m\u001b[38;5;28;01mFalse\u001b[39;00m )\n",
      "File \u001b[1;32m~\\Anaconda3\\envs\\zero_ds\\lib\\site-packages\\pandas\\util\\_decorators.py:311\u001b[0m, in \u001b[0;36mdeprecate_nonkeyword_arguments.<locals>.decorate.<locals>.wrapper\u001b[1;34m(*args, **kwargs)\u001b[0m\n\u001b[0;32m    305\u001b[0m \u001b[38;5;28;01mif\u001b[39;00m \u001b[38;5;28mlen\u001b[39m(args) \u001b[38;5;241m>\u001b[39m num_allow_args:\n\u001b[0;32m    306\u001b[0m     warnings\u001b[38;5;241m.\u001b[39mwarn(\n\u001b[0;32m    307\u001b[0m         msg\u001b[38;5;241m.\u001b[39mformat(arguments\u001b[38;5;241m=\u001b[39marguments),\n\u001b[0;32m    308\u001b[0m         \u001b[38;5;167;01mFutureWarning\u001b[39;00m,\n\u001b[0;32m    309\u001b[0m         stacklevel\u001b[38;5;241m=\u001b[39mstacklevel,\n\u001b[0;32m    310\u001b[0m     )\n\u001b[1;32m--> 311\u001b[0m \u001b[38;5;28;01mreturn\u001b[39;00m \u001b[43mfunc\u001b[49m\u001b[43m(\u001b[49m\u001b[38;5;241;43m*\u001b[39;49m\u001b[43margs\u001b[49m\u001b[43m,\u001b[49m\u001b[43m \u001b[49m\u001b[38;5;241;43m*\u001b[39;49m\u001b[38;5;241;43m*\u001b[39;49m\u001b[43mkwargs\u001b[49m\u001b[43m)\u001b[49m\n",
      "File \u001b[1;32m~\\Anaconda3\\envs\\zero_ds\\lib\\site-packages\\pandas\\core\\series.py:3526\u001b[0m, in \u001b[0;36mSeries.sort_values\u001b[1;34m(self, axis, ascending, inplace, kind, na_position, ignore_index, key)\u001b[0m\n\u001b[0;32m   3524\u001b[0m \u001b[38;5;66;03m# GH 35922. Make sorting stable by leveraging nargsort\u001b[39;00m\n\u001b[0;32m   3525\u001b[0m values_to_sort \u001b[38;5;241m=\u001b[39m ensure_key_mapped(\u001b[38;5;28mself\u001b[39m, key)\u001b[38;5;241m.\u001b[39m_values \u001b[38;5;28;01mif\u001b[39;00m key \u001b[38;5;28;01melse\u001b[39;00m \u001b[38;5;28mself\u001b[39m\u001b[38;5;241m.\u001b[39m_values\n\u001b[1;32m-> 3526\u001b[0m sorted_index \u001b[38;5;241m=\u001b[39m \u001b[43mnargsort\u001b[49m\u001b[43m(\u001b[49m\u001b[43mvalues_to_sort\u001b[49m\u001b[43m,\u001b[49m\u001b[43m \u001b[49m\u001b[43mkind\u001b[49m\u001b[43m,\u001b[49m\u001b[43m \u001b[49m\u001b[38;5;28;43mbool\u001b[39;49m\u001b[43m(\u001b[49m\u001b[43mascending\u001b[49m\u001b[43m)\u001b[49m\u001b[43m,\u001b[49m\u001b[43m \u001b[49m\u001b[43mna_position\u001b[49m\u001b[43m)\u001b[49m\n\u001b[0;32m   3528\u001b[0m result \u001b[38;5;241m=\u001b[39m \u001b[38;5;28mself\u001b[39m\u001b[38;5;241m.\u001b[39m_constructor(\n\u001b[0;32m   3529\u001b[0m     \u001b[38;5;28mself\u001b[39m\u001b[38;5;241m.\u001b[39m_values[sorted_index], index\u001b[38;5;241m=\u001b[39m\u001b[38;5;28mself\u001b[39m\u001b[38;5;241m.\u001b[39mindex[sorted_index]\n\u001b[0;32m   3530\u001b[0m )\n\u001b[0;32m   3532\u001b[0m \u001b[38;5;28;01mif\u001b[39;00m ignore_index:\n",
      "File \u001b[1;32m~\\Anaconda3\\envs\\zero_ds\\lib\\site-packages\\pandas\\core\\sorting.py:417\u001b[0m, in \u001b[0;36mnargsort\u001b[1;34m(items, kind, ascending, na_position, key, mask)\u001b[0m\n\u001b[0;32m    415\u001b[0m     non_nans \u001b[38;5;241m=\u001b[39m non_nans[::\u001b[38;5;241m-\u001b[39m\u001b[38;5;241m1\u001b[39m]\n\u001b[0;32m    416\u001b[0m     non_nan_idx \u001b[38;5;241m=\u001b[39m non_nan_idx[::\u001b[38;5;241m-\u001b[39m\u001b[38;5;241m1\u001b[39m]\n\u001b[1;32m--> 417\u001b[0m indexer \u001b[38;5;241m=\u001b[39m non_nan_idx[\u001b[43mnon_nans\u001b[49m\u001b[38;5;241;43m.\u001b[39;49m\u001b[43margsort\u001b[49m\u001b[43m(\u001b[49m\u001b[43mkind\u001b[49m\u001b[38;5;241;43m=\u001b[39;49m\u001b[43mkind\u001b[49m\u001b[43m)\u001b[49m]\n\u001b[0;32m    418\u001b[0m \u001b[38;5;28;01mif\u001b[39;00m \u001b[38;5;129;01mnot\u001b[39;00m ascending:\n\u001b[0;32m    419\u001b[0m     indexer \u001b[38;5;241m=\u001b[39m indexer[::\u001b[38;5;241m-\u001b[39m\u001b[38;5;241m1\u001b[39m]\n",
      "\u001b[1;31mTypeError\u001b[0m: '<' not supported between instances of 'Timestamp' and 'int'"
     ]
    }
   ],
   "source": [
    "# Change df format\n",
    "df['year'] = pd.to_datetime( df['date'] ).dt.strftime( '%Y' )\n",
    "df['date'] = pd.to_datetime( df['date'] ).dt.strftime( '%Y-%m-%d' )\n",
    "df['year_week'] = pd.to_datetime( df['date'] ).dt.strftime( '%Y-%U' )\n",
    "\n",
    "# # ----------------------------\n",
    "# # Filtering\n",
    "# # ----------------------------\n",
    "\n",
    "# Widget to control df\n",
    "date_limit = widgets.SelectionSlider(\n",
    "options = df['date'].sort_values().unique().tolist(),\n",
    "value='2014-12-01',\n",
    "description='Max Available Date',\n",
    "disable=False,\n",
    "continuous_update=False,\n",
    "orientation='horizontal',\n",
    "style={'description_width': 'initial'},\n",
    "readout=True\n",
    ")\n",
    "# # Max Year Renovated\n",
    "year_limit = widgets.SelectionSlider(\n",
    "options = df['yr_renovated'].sort_values().sort_values().unique().tolist(),\n",
    "value=2000,\n",
    "description='Max Year',\n",
    "disable=False,\n",
    "continuous_update=False,\n",
    "orientation='horizontal',\n",
    "style={'description_width': 'initial'},\n",
    "readout=True\n",
    ")\n",
    "# # Waterfront\n",
    "waterfront_limit = widgets.Checkbox(\n",
    "value=False,\n",
    "description='Waterfront?',\n",
    "disabled=False,\n",
    "indent=False )\n",
    "    \n",
    "def update_map( df, date_limit, year_limit, waterfront_limit ):\n",
    "    # Filter df\n",
    "    df = df[(df['date'] <= date_limit) & \n",
    "            (df['yr_renovated'] >= year_limit) & \n",
    "            (df['waterfront'] == waterfront_limit)].copy()\n",
    "    \n",
    "    fig = plt.figure( figsize=(24, 12) )\n",
    "    specs = gridspec.GridSpec( ncols=2, nrows=2, figure=fig )\n",
    "    \n",
    "    ax1 = fig.add_subplot( specs[0, :] ) # First Row\n",
    "    ax2 = fig.add_subplot( specs[1, 0] ) # First Row First Column\n",
    "    ax3 = fig.add_subplot( specs[1, 1] ) # Second Row First Column\n",
    "    \n",
    "    # First Graph\n",
    "    by_year = df[['price', 'year']].groupby( 'year' ).count().reset_index()\n",
    "    sns.barplot( x = 'year', y ='price', data=by_year, ax=ax1)\n",
    "    \n",
    "#   # Second Graph\n",
    "\n",
    "    by_day = df[['price', 'date']].groupby( 'date' ).mean().reset_index()\n",
    "    sns.lineplot( x='date', y='price',data=by_day, ax=ax2)\n",
    "    ax2.set_title( \"Title: Avg Price by Day\" )\n",
    "    \n",
    "#   # Third Graph\n",
    "    \n",
    "    df['year_week'] = pd.to_datetime( df['date'] ).dt.strftime( '%Y-%U' )\n",
    "    by_week_of_year = df[['price', 'year_week']].groupby( 'year_week' ).mean().reset_index()\n",
    "    sns.barplot( x='year_week', y='price', data=by_week_of_year,ax=ax3 )\n",
    "    ax3.set_title( \"Title: Avg Price by Week of Year\" )\n",
    "    \n",
    "    plt.xticks( rotation=60);\n",
    "\n"
   ]
  },
  {
   "cell_type": "code",
   "execution_count": null,
   "id": "dfa03864",
   "metadata": {
    "ExecuteTime": {
     "end_time": "2022-05-02T09:11:19.517549Z",
     "start_time": "2022-05-02T09:11:19.517549Z"
    }
   },
   "outputs": [],
   "source": [
    "widgets.interactive( update_map,df = fixed(df),\n",
    "date_limit=date_limit,\n",
    "year_limit=year_limit,\n",
    "waterfront_limit=waterfront_limit )"
   ]
  },
  {
   "cell_type": "code",
   "execution_count": null,
   "id": "b84f96dd",
   "metadata": {},
   "outputs": [],
   "source": []
  },
  {
   "cell_type": "code",
   "execution_count": null,
   "id": "5a7fe9c8",
   "metadata": {},
   "outputs": [],
   "source": []
  }
 ],
 "metadata": {
  "hide_input": false,
  "kernelspec": {
   "display_name": "Python 3 (ipykernel)",
   "language": "python",
   "name": "python3"
  },
  "language_info": {
   "codemirror_mode": {
    "name": "ipython",
    "version": 3
   },
   "file_extension": ".py",
   "mimetype": "text/x-python",
   "name": "python",
   "nbconvert_exporter": "python",
   "pygments_lexer": "ipython3",
   "version": "3.8.13"
  },
  "latex_envs": {
   "LaTeX_envs_menu_present": true,
   "autoclose": false,
   "autocomplete": true,
   "bibliofile": "biblio.bib",
   "cite_by": "apalike",
   "current_citInitial": 1,
   "eqLabelWithNumbers": true,
   "eqNumInitial": 1,
   "hotkeys": {
    "equation": "Ctrl-E",
    "itemize": "Ctrl-I"
   },
   "labels_anchors": false,
   "latex_user_defs": false,
   "report_style_numbering": false,
   "user_envs_cfg": false
  },
  "nbTranslate": {
   "displayLangs": [
    "*"
   ],
   "hotkey": "alt-t",
   "langInMainMenu": true,
   "sourceLang": "en",
   "targetLang": "fr",
   "useGoogleTranslate": true
  },
  "toc": {
   "base_numbering": 1,
   "nav_menu": {},
   "number_sections": true,
   "sideBar": true,
   "skip_h1_title": false,
   "title_cell": "Table of Contents",
   "title_sidebar": "Contents",
   "toc_cell": false,
   "toc_position": {
    "height": "calc(100% - 180px)",
    "left": "10px",
    "top": "150px",
    "width": "411px"
   },
   "toc_section_display": true,
   "toc_window_display": true
  }
 },
 "nbformat": 4,
 "nbformat_minor": 5
}
