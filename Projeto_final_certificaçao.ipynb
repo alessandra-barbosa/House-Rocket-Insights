{
 "cells": [
  {
   "cell_type": "markdown",
   "id": "1d2f67c5",
   "metadata": {},
   "source": [
    "# Projeto final"
   ]
  },
  {
   "cell_type": "markdown",
   "id": "ead7c6b1",
   "metadata": {},
   "source": [
    "## Business question\n",
    "O investidor James Bauer gostaria de diversificar seus negócios e começar a investir em imóveis. \n",
    "Ele definiu que compraria imóveis na cidade de Nova York, nos Estados Unidos. \n",
    "Por ser um dos locais mais caros para se viver no País, ele acredita que obterá um retorno satisfatório de seus investimentos caso loque imóveis na cidade. \n",
    "\n",
    "Como todas as suas decisões são tomadas com base em dados, ele contratou você, cientista de dados, para ajudá-lo nessa empreitada.\n",
    "James Bauer planeja inicialmente locar os imóveis adquiridos e por isso ele definiu que irá utilizar a plataforma Airbnb para esse fim. Para isso, ele lhe entregou uma base de dados públicos da empresa, contendo os dados do comportamento dos hosts e de seus imóveis.\n",
    "\n",
    "### O Desafio\n",
    "James Bauer o contratou para realizar o estudo da base de dados fornecida e ajudá-lo com a escolha das regiões onde:\n",
    "- há maior locação e maiores preços,\n",
    "- fiquem em regiões favoráveis da cidade de Nova York, pois ele acredita que essas características irão ajudá-lo a recuperar o dinheiro investido na aquisição desses imóveis mais rapidamente. \n",
    "\n",
    "https://www.kaggle.com/datasets/dgomonov/new-york-city-airbnb-open-data"
   ]
  },
  {
   "cell_type": "markdown",
   "id": "7251c6fb",
   "metadata": {},
   "source": [
    "### Roteiro\n",
    "1. Entenda o problema de negócio e suas perguntas:\n",
    "  -  a. Por que o investidor fez essas perguntas?\n",
    "  -  b. Se você fosse ele, por que essas informações seriam úteis para você?\n",
    "  -  c. Anote as suas respostas e possíveis causas para as perguntas terem\n",
    "sido feitas.\n",
    "2. Colete os dados:\n",
    "    - a. Os dados estão disponíveis no link neste post\n",
    "3. Faça uma limpeza nos dados:\n",
    "    - a. Entenda as variáveis disponíveis na base de dados fazendo uma\n",
    "tabela de estatística descritiva.\n",
    "    - b. Verifique se há dados faltantes e quais estratégias poderiam ser\n",
    "utilizadas para preenchê-los.\n",
    "4. Levante hipóteses sobre o comportamento do Negócio:\n",
    "    - a. Por exemplo:\n",
    "        - i. Imóveis que são alugados por inteiro possuem o valor do\n",
    "aluguel mais caro?\n",
    "        - ii. A região de “Manhattan” possui, na média, aluguéis mais caros\n",
    "que as outras regiões?\n",
    "    - b. Valide as suas hipóteses com testes estatísticos e gráficos.\n",
    "5. Explore os dados e responda as perguntas:\n",
    "    - a. Comece respondendo as perguntas sem usar programação, para planejar a sua solução. Ou seja, responda primeiro como você faria para responder a pergunta. Por exemplo: Calcularia a média dos valores dos aluguéis dos imóveis de uma determinada região de um determinado bairro.\n",
    "    - b. Com o planejamento feito, implemente os passos/ações utilizando a linguagem de programação escolhida.\n",
    "    - c. Se necessário, utilize gráficos para consolidar e validar a sua resposta.\n",
    "    - d. Caso uma pergunta específica se mostre falsa, encontre a situação ou fato que a torne falsa. Por exemplo, os imóveis da região de “Manhattan” possuem os aluguéis mais baratos? Caso essa pergunta seja falsa, verifique qual a região que possui os aluguéis mais baratos.\n",
    "6. Deixe suas respostas disponíveis:\n",
    "    - a. Pense e planeje uma solução para deixar os seus Insights e as respostas disponíveis para o investidor possa acessá-las"
   ]
  },
  {
   "cell_type": "markdown",
   "id": "50a15ce5",
   "metadata": {},
   "source": [
    "## Dataset"
   ]
  },
  {
   "cell_type": "markdown",
   "id": "4c4e8a73",
   "metadata": {},
   "source": [
    "### Imports"
   ]
  },
  {
   "cell_type": "code",
   "execution_count": 297,
   "id": "b7f460fe",
   "metadata": {
    "ExecuteTime": {
     "end_time": "2022-07-24T12:58:52.027755Z",
     "start_time": "2022-07-24T12:58:52.015787Z"
    }
   },
   "outputs": [],
   "source": [
    "import numpy as np\n",
    "import pandas as pd\n",
    "import seaborn as sns\n",
    "from matplotlib import gridspec\n",
    "from matplotlib import pyplot as plt\n",
    "import ipywidgets as widgets\n",
    "import plotly.express as px\n",
    "from ipywidgets import interact, interactive, fixed, interact_manual\n",
    "from datetime import datetime\n"
   ]
  },
  {
   "cell_type": "markdown",
   "id": "d370a4d0",
   "metadata": {},
   "source": [
    "### Auxiliary functions "
   ]
  },
  {
   "cell_type": "code",
   "execution_count": 245,
   "id": "9b73dffc",
   "metadata": {
    "ExecuteTime": {
     "end_time": "2022-07-24T11:37:13.375393Z",
     "start_time": "2022-07-24T11:37:13.365421Z"
    }
   },
   "outputs": [],
   "source": [
    "## # Supress Scientific Notation\n",
    "\n",
    "np.set_printoptions(suppress=True)\n",
    "pd.set_option('display.float_format', '{:.2f}'.format)"
   ]
  },
  {
   "cell_type": "markdown",
   "id": "b49fc34f",
   "metadata": {},
   "source": [
    "### Loading data"
   ]
  },
  {
   "cell_type": "code",
   "execution_count": 265,
   "id": "e57dcf6b",
   "metadata": {
    "ExecuteTime": {
     "end_time": "2022-07-24T11:41:09.558239Z",
     "start_time": "2022-07-24T11:41:09.406645Z"
    }
   },
   "outputs": [],
   "source": [
    "df=pd.read_csv('Datasets/AB_NYC_2019.csv')"
   ]
  },
  {
   "cell_type": "markdown",
   "id": "fd4e3d26",
   "metadata": {},
   "source": [
    "## Dataset info"
   ]
  },
  {
   "cell_type": "code",
   "execution_count": 266,
   "id": "82dfae01",
   "metadata": {
    "ExecuteTime": {
     "end_time": "2022-07-24T11:41:10.548527Z",
     "start_time": "2022-07-24T11:41:10.541546Z"
    }
   },
   "outputs": [
    {
     "data": {
      "text/plain": [
       "Index(['id', 'name', 'host_id', 'host_name', 'neighbourhood_group',\n",
       "       'neighbourhood', 'latitude', 'longitude', 'room_type', 'price',\n",
       "       'minimum_nights', 'number_of_reviews', 'last_review',\n",
       "       'reviews_per_month', 'calculated_host_listings_count',\n",
       "       'availability_365'],\n",
       "      dtype='object')"
      ]
     },
     "execution_count": 266,
     "metadata": {},
     "output_type": "execute_result"
    }
   ],
   "source": [
    "df.columns"
   ]
  },
  {
   "cell_type": "markdown",
   "id": "88e3554f",
   "metadata": {
    "ExecuteTime": {
     "end_time": "2022-07-24T08:50:54.172657Z",
     "start_time": "2022-07-24T08:50:54.126773Z"
    }
   },
   "source": [
    "| Attributes     | Meaning                                                                                                                                                                                              |\n",
    "|----------------|------------------------------------------------------------------------------------------------------------------------------------------------------------------------------------------------------|\n",
    "| id             | Unico ID para cada transaçao                                                                                                                                                                        |\n",
    "| name           | Nome da habitacao                                                                                                                                                                               |\n",
    "| host_id        |                                                                                                                                              Unico Id para cada hospede                               |\n",
    "| host_name       | Nome hospede                                                                                                                                                                                   |\n",
    "| neighbourhood_group      | Grupo da vizinhança                                                                                                                  |\n",
    "| neighbourhood     | Vizinhança                                                                                                                        |\n",
    "| latitude    | Latitude                                                                                                                                               |\n",
    "| longitude       | Longitude                                                                          |\n",
    "| room_type       | Tipo de habitaçao                                                                          |\n",
    "| price       | Preço aluguel                                                                          |\n",
    "| minimum_nights       | Minimo de noites                                                                      | |number_of_reviews       | Numero de reviews                                                          \n",
    "| last_review       | Ultima review     \n",
    "| reviews_per_month       | Review por mes     \n",
    "| calculated_host_listings_count       | Qtd de lista de hospedes     \n",
    "| availability_365       | Disponibilidade por mes    \n",
    "\n",
    "\n"
   ]
  },
  {
   "cell_type": "code",
   "execution_count": 267,
   "id": "dc36c77b",
   "metadata": {
    "ExecuteTime": {
     "end_time": "2022-07-24T11:41:11.662683Z",
     "start_time": "2022-07-24T11:41:11.635754Z"
    },
    "scrolled": false
   },
   "outputs": [
    {
     "data": {
      "text/html": [
       "<div>\n",
       "<style scoped>\n",
       "    .dataframe tbody tr th:only-of-type {\n",
       "        vertical-align: middle;\n",
       "    }\n",
       "\n",
       "    .dataframe tbody tr th {\n",
       "        vertical-align: top;\n",
       "    }\n",
       "\n",
       "    .dataframe thead th {\n",
       "        text-align: right;\n",
       "    }\n",
       "</style>\n",
       "<table border=\"1\" class=\"dataframe\">\n",
       "  <thead>\n",
       "    <tr style=\"text-align: right;\">\n",
       "      <th></th>\n",
       "      <th>id</th>\n",
       "      <th>name</th>\n",
       "      <th>host_id</th>\n",
       "      <th>host_name</th>\n",
       "      <th>neighbourhood_group</th>\n",
       "      <th>neighbourhood</th>\n",
       "      <th>latitude</th>\n",
       "      <th>longitude</th>\n",
       "      <th>room_type</th>\n",
       "      <th>price</th>\n",
       "      <th>minimum_nights</th>\n",
       "      <th>number_of_reviews</th>\n",
       "      <th>last_review</th>\n",
       "      <th>reviews_per_month</th>\n",
       "      <th>calculated_host_listings_count</th>\n",
       "      <th>availability_365</th>\n",
       "    </tr>\n",
       "  </thead>\n",
       "  <tbody>\n",
       "    <tr>\n",
       "      <th>0</th>\n",
       "      <td>2539</td>\n",
       "      <td>Clean &amp; quiet apt home by the park</td>\n",
       "      <td>2787</td>\n",
       "      <td>John</td>\n",
       "      <td>Brooklyn</td>\n",
       "      <td>Kensington</td>\n",
       "      <td>40.65</td>\n",
       "      <td>-73.97</td>\n",
       "      <td>Private room</td>\n",
       "      <td>149</td>\n",
       "      <td>1</td>\n",
       "      <td>9</td>\n",
       "      <td>2018-10-19</td>\n",
       "      <td>0.21</td>\n",
       "      <td>6</td>\n",
       "      <td>365</td>\n",
       "    </tr>\n",
       "    <tr>\n",
       "      <th>1</th>\n",
       "      <td>2595</td>\n",
       "      <td>Skylit Midtown Castle</td>\n",
       "      <td>2845</td>\n",
       "      <td>Jennifer</td>\n",
       "      <td>Manhattan</td>\n",
       "      <td>Midtown</td>\n",
       "      <td>40.75</td>\n",
       "      <td>-73.98</td>\n",
       "      <td>Entire home/apt</td>\n",
       "      <td>225</td>\n",
       "      <td>1</td>\n",
       "      <td>45</td>\n",
       "      <td>2019-05-21</td>\n",
       "      <td>0.38</td>\n",
       "      <td>2</td>\n",
       "      <td>355</td>\n",
       "    </tr>\n",
       "    <tr>\n",
       "      <th>2</th>\n",
       "      <td>3647</td>\n",
       "      <td>THE VILLAGE OF HARLEM....NEW YORK !</td>\n",
       "      <td>4632</td>\n",
       "      <td>Elisabeth</td>\n",
       "      <td>Manhattan</td>\n",
       "      <td>Harlem</td>\n",
       "      <td>40.81</td>\n",
       "      <td>-73.94</td>\n",
       "      <td>Private room</td>\n",
       "      <td>150</td>\n",
       "      <td>3</td>\n",
       "      <td>0</td>\n",
       "      <td>NaN</td>\n",
       "      <td>NaN</td>\n",
       "      <td>1</td>\n",
       "      <td>365</td>\n",
       "    </tr>\n",
       "    <tr>\n",
       "      <th>3</th>\n",
       "      <td>3831</td>\n",
       "      <td>Cozy Entire Floor of Brownstone</td>\n",
       "      <td>4869</td>\n",
       "      <td>LisaRoxanne</td>\n",
       "      <td>Brooklyn</td>\n",
       "      <td>Clinton Hill</td>\n",
       "      <td>40.69</td>\n",
       "      <td>-73.96</td>\n",
       "      <td>Entire home/apt</td>\n",
       "      <td>89</td>\n",
       "      <td>1</td>\n",
       "      <td>270</td>\n",
       "      <td>2019-07-05</td>\n",
       "      <td>4.64</td>\n",
       "      <td>1</td>\n",
       "      <td>194</td>\n",
       "    </tr>\n",
       "    <tr>\n",
       "      <th>4</th>\n",
       "      <td>5022</td>\n",
       "      <td>Entire Apt: Spacious Studio/Loft by central park</td>\n",
       "      <td>7192</td>\n",
       "      <td>Laura</td>\n",
       "      <td>Manhattan</td>\n",
       "      <td>East Harlem</td>\n",
       "      <td>40.80</td>\n",
       "      <td>-73.94</td>\n",
       "      <td>Entire home/apt</td>\n",
       "      <td>80</td>\n",
       "      <td>10</td>\n",
       "      <td>9</td>\n",
       "      <td>2018-11-19</td>\n",
       "      <td>0.10</td>\n",
       "      <td>1</td>\n",
       "      <td>0</td>\n",
       "    </tr>\n",
       "  </tbody>\n",
       "</table>\n",
       "</div>"
      ],
      "text/plain": [
       "     id                                              name  host_id  \\\n",
       "0  2539                Clean & quiet apt home by the park     2787   \n",
       "1  2595                             Skylit Midtown Castle     2845   \n",
       "2  3647               THE VILLAGE OF HARLEM....NEW YORK !     4632   \n",
       "3  3831                   Cozy Entire Floor of Brownstone     4869   \n",
       "4  5022  Entire Apt: Spacious Studio/Loft by central park     7192   \n",
       "\n",
       "     host_name neighbourhood_group neighbourhood  latitude  longitude  \\\n",
       "0         John            Brooklyn    Kensington     40.65     -73.97   \n",
       "1     Jennifer           Manhattan       Midtown     40.75     -73.98   \n",
       "2    Elisabeth           Manhattan        Harlem     40.81     -73.94   \n",
       "3  LisaRoxanne            Brooklyn  Clinton Hill     40.69     -73.96   \n",
       "4        Laura           Manhattan   East Harlem     40.80     -73.94   \n",
       "\n",
       "         room_type  price  minimum_nights  number_of_reviews last_review  \\\n",
       "0     Private room    149               1                  9  2018-10-19   \n",
       "1  Entire home/apt    225               1                 45  2019-05-21   \n",
       "2     Private room    150               3                  0         NaN   \n",
       "3  Entire home/apt     89               1                270  2019-07-05   \n",
       "4  Entire home/apt     80              10                  9  2018-11-19   \n",
       "\n",
       "   reviews_per_month  calculated_host_listings_count  availability_365  \n",
       "0               0.21                               6               365  \n",
       "1               0.38                               2               355  \n",
       "2                NaN                               1               365  \n",
       "3               4.64                               1               194  \n",
       "4               0.10                               1                 0  "
      ]
     },
     "execution_count": 267,
     "metadata": {},
     "output_type": "execute_result"
    }
   ],
   "source": [
    "df.head()"
   ]
  },
  {
   "cell_type": "code",
   "execution_count": 305,
   "id": "4b10b294",
   "metadata": {
    "ExecuteTime": {
     "end_time": "2022-07-24T13:05:48.093376Z",
     "start_time": "2022-07-24T13:05:48.039521Z"
    },
    "cell_style": "center",
    "scrolled": false
   },
   "outputs": [
    {
     "name": "stdout",
     "output_type": "stream",
     "text": [
      "<class 'pandas.core.frame.DataFrame'>\n",
      "RangeIndex: 48895 entries, 0 to 48894\n",
      "Data columns (total 16 columns):\n",
      " #   Column                          Non-Null Count  Dtype         \n",
      "---  ------                          --------------  -----         \n",
      " 0   id                              48895 non-null  int64         \n",
      " 1   name                            48879 non-null  object        \n",
      " 2   host_id                         48895 non-null  int64         \n",
      " 3   host_name                       48874 non-null  object        \n",
      " 4   neighbourhood_group             48895 non-null  object        \n",
      " 5   neighbourhood                   48895 non-null  object        \n",
      " 6   latitude                        48895 non-null  float64       \n",
      " 7   longitude                       48895 non-null  float64       \n",
      " 8   room_type                       48895 non-null  object        \n",
      " 9   price                           48895 non-null  int64         \n",
      " 10  minimum_nights                  48895 non-null  int64         \n",
      " 11  number_of_reviews               48895 non-null  int64         \n",
      " 12  last_review                     38843 non-null  datetime64[ns]\n",
      " 13  reviews_per_month               38843 non-null  float64       \n",
      " 14  calculated_host_listings_count  48895 non-null  int64         \n",
      " 15  availability_365                48895 non-null  int64         \n",
      "dtypes: datetime64[ns](1), float64(3), int64(7), object(5)\n",
      "memory usage: 6.0+ MB\n"
     ]
    }
   ],
   "source": [
    "df.info()"
   ]
  },
  {
   "cell_type": "code",
   "execution_count": 306,
   "id": "a34785d6",
   "metadata": {
    "ExecuteTime": {
     "end_time": "2022-07-24T13:06:09.416445Z",
     "start_time": "2022-07-24T13:06:09.387337Z"
    }
   },
   "outputs": [],
   "source": [
    "df['last_review'] =pd.to_datetime(df['last_review'], format='%Y-%m-%d') "
   ]
  },
  {
   "cell_type": "code",
   "execution_count": 307,
   "id": "e6e86874",
   "metadata": {
    "ExecuteTime": {
     "end_time": "2022-07-24T13:06:09.872041Z",
     "start_time": "2022-07-24T13:06:09.864065Z"
    },
    "cell_style": "center",
    "scrolled": false
   },
   "outputs": [
    {
     "name": "stdout",
     "output_type": "stream",
     "text": [
      "Number of houses available for purchase: 48895\n",
      "Features by house: 16\n"
     ]
    }
   ],
   "source": [
    "print( 'Number of houses available for purchase: {}'.format( df.shape[0] ) )\n",
    "print( 'Features by house: {}'.format( df.shape[1] ) )"
   ]
  },
  {
   "cell_type": "markdown",
   "id": "10a000c7",
   "metadata": {},
   "source": [
    "## Clean Data"
   ]
  },
  {
   "cell_type": "code",
   "execution_count": 270,
   "id": "f04f0f26",
   "metadata": {
    "ExecuteTime": {
     "end_time": "2022-07-24T11:41:16.509038Z",
     "start_time": "2022-07-24T11:41:16.461515Z"
    },
    "scrolled": true
   },
   "outputs": [
    {
     "data": {
      "text/html": [
       "<div>\n",
       "<style scoped>\n",
       "    .dataframe tbody tr th:only-of-type {\n",
       "        vertical-align: middle;\n",
       "    }\n",
       "\n",
       "    .dataframe tbody tr th {\n",
       "        vertical-align: top;\n",
       "    }\n",
       "\n",
       "    .dataframe thead th {\n",
       "        text-align: right;\n",
       "    }\n",
       "</style>\n",
       "<table border=\"1\" class=\"dataframe\">\n",
       "  <thead>\n",
       "    <tr style=\"text-align: right;\">\n",
       "      <th></th>\n",
       "      <th>0</th>\n",
       "    </tr>\n",
       "  </thead>\n",
       "  <tbody>\n",
       "    <tr>\n",
       "      <th>id</th>\n",
       "      <td>0</td>\n",
       "    </tr>\n",
       "    <tr>\n",
       "      <th>name</th>\n",
       "      <td>16</td>\n",
       "    </tr>\n",
       "    <tr>\n",
       "      <th>host_id</th>\n",
       "      <td>0</td>\n",
       "    </tr>\n",
       "    <tr>\n",
       "      <th>host_name</th>\n",
       "      <td>21</td>\n",
       "    </tr>\n",
       "    <tr>\n",
       "      <th>neighbourhood_group</th>\n",
       "      <td>0</td>\n",
       "    </tr>\n",
       "    <tr>\n",
       "      <th>neighbourhood</th>\n",
       "      <td>0</td>\n",
       "    </tr>\n",
       "    <tr>\n",
       "      <th>latitude</th>\n",
       "      <td>0</td>\n",
       "    </tr>\n",
       "    <tr>\n",
       "      <th>longitude</th>\n",
       "      <td>0</td>\n",
       "    </tr>\n",
       "    <tr>\n",
       "      <th>room_type</th>\n",
       "      <td>0</td>\n",
       "    </tr>\n",
       "    <tr>\n",
       "      <th>price</th>\n",
       "      <td>0</td>\n",
       "    </tr>\n",
       "    <tr>\n",
       "      <th>minimum_nights</th>\n",
       "      <td>0</td>\n",
       "    </tr>\n",
       "    <tr>\n",
       "      <th>number_of_reviews</th>\n",
       "      <td>0</td>\n",
       "    </tr>\n",
       "    <tr>\n",
       "      <th>last_review</th>\n",
       "      <td>10052</td>\n",
       "    </tr>\n",
       "    <tr>\n",
       "      <th>reviews_per_month</th>\n",
       "      <td>10052</td>\n",
       "    </tr>\n",
       "    <tr>\n",
       "      <th>calculated_host_listings_count</th>\n",
       "      <td>0</td>\n",
       "    </tr>\n",
       "    <tr>\n",
       "      <th>availability_365</th>\n",
       "      <td>0</td>\n",
       "    </tr>\n",
       "  </tbody>\n",
       "</table>\n",
       "</div>"
      ],
      "text/plain": [
       "                                    0\n",
       "id                                  0\n",
       "name                               16\n",
       "host_id                             0\n",
       "host_name                          21\n",
       "neighbourhood_group                 0\n",
       "neighbourhood                       0\n",
       "latitude                            0\n",
       "longitude                           0\n",
       "room_type                           0\n",
       "price                               0\n",
       "minimum_nights                      0\n",
       "number_of_reviews                   0\n",
       "last_review                     10052\n",
       "reviews_per_month               10052\n",
       "calculated_host_listings_count      0\n",
       "availability_365                    0"
      ]
     },
     "execution_count": 270,
     "metadata": {},
     "output_type": "execute_result"
    }
   ],
   "source": [
    "df.isnull().sum().to_frame()\n"
   ]
  },
  {
   "cell_type": "code",
   "execution_count": 271,
   "id": "98168f77",
   "metadata": {
    "ExecuteTime": {
     "end_time": "2022-07-24T11:41:17.266182Z",
     "start_time": "2022-07-24T11:41:17.257206Z"
    }
   },
   "outputs": [],
   "source": [
    "df1=df.copy()"
   ]
  },
  {
   "cell_type": "code",
   "execution_count": 272,
   "id": "920f2e01",
   "metadata": {
    "ExecuteTime": {
     "end_time": "2022-07-24T11:41:19.981817Z",
     "start_time": "2022-07-24T11:41:19.922313Z"
    }
   },
   "outputs": [],
   "source": [
    "df1=df1.dropna()"
   ]
  },
  {
   "cell_type": "code",
   "execution_count": 273,
   "id": "3fd7f731",
   "metadata": {
    "ExecuteTime": {
     "end_time": "2022-07-24T11:41:20.928874Z",
     "start_time": "2022-07-24T11:41:20.883995Z"
    },
    "scrolled": true
   },
   "outputs": [
    {
     "data": {
      "text/html": [
       "<div>\n",
       "<style scoped>\n",
       "    .dataframe tbody tr th:only-of-type {\n",
       "        vertical-align: middle;\n",
       "    }\n",
       "\n",
       "    .dataframe tbody tr th {\n",
       "        vertical-align: top;\n",
       "    }\n",
       "\n",
       "    .dataframe thead th {\n",
       "        text-align: right;\n",
       "    }\n",
       "</style>\n",
       "<table border=\"1\" class=\"dataframe\">\n",
       "  <thead>\n",
       "    <tr style=\"text-align: right;\">\n",
       "      <th></th>\n",
       "      <th>0</th>\n",
       "    </tr>\n",
       "  </thead>\n",
       "  <tbody>\n",
       "    <tr>\n",
       "      <th>id</th>\n",
       "      <td>0</td>\n",
       "    </tr>\n",
       "    <tr>\n",
       "      <th>name</th>\n",
       "      <td>0</td>\n",
       "    </tr>\n",
       "    <tr>\n",
       "      <th>host_id</th>\n",
       "      <td>0</td>\n",
       "    </tr>\n",
       "    <tr>\n",
       "      <th>host_name</th>\n",
       "      <td>0</td>\n",
       "    </tr>\n",
       "    <tr>\n",
       "      <th>neighbourhood_group</th>\n",
       "      <td>0</td>\n",
       "    </tr>\n",
       "    <tr>\n",
       "      <th>neighbourhood</th>\n",
       "      <td>0</td>\n",
       "    </tr>\n",
       "    <tr>\n",
       "      <th>latitude</th>\n",
       "      <td>0</td>\n",
       "    </tr>\n",
       "    <tr>\n",
       "      <th>longitude</th>\n",
       "      <td>0</td>\n",
       "    </tr>\n",
       "    <tr>\n",
       "      <th>room_type</th>\n",
       "      <td>0</td>\n",
       "    </tr>\n",
       "    <tr>\n",
       "      <th>price</th>\n",
       "      <td>0</td>\n",
       "    </tr>\n",
       "    <tr>\n",
       "      <th>minimum_nights</th>\n",
       "      <td>0</td>\n",
       "    </tr>\n",
       "    <tr>\n",
       "      <th>number_of_reviews</th>\n",
       "      <td>0</td>\n",
       "    </tr>\n",
       "    <tr>\n",
       "      <th>last_review</th>\n",
       "      <td>0</td>\n",
       "    </tr>\n",
       "    <tr>\n",
       "      <th>reviews_per_month</th>\n",
       "      <td>0</td>\n",
       "    </tr>\n",
       "    <tr>\n",
       "      <th>calculated_host_listings_count</th>\n",
       "      <td>0</td>\n",
       "    </tr>\n",
       "    <tr>\n",
       "      <th>availability_365</th>\n",
       "      <td>0</td>\n",
       "    </tr>\n",
       "  </tbody>\n",
       "</table>\n",
       "</div>"
      ],
      "text/plain": [
       "                                0\n",
       "id                              0\n",
       "name                            0\n",
       "host_id                         0\n",
       "host_name                       0\n",
       "neighbourhood_group             0\n",
       "neighbourhood                   0\n",
       "latitude                        0\n",
       "longitude                       0\n",
       "room_type                       0\n",
       "price                           0\n",
       "minimum_nights                  0\n",
       "number_of_reviews               0\n",
       "last_review                     0\n",
       "reviews_per_month               0\n",
       "calculated_host_listings_count  0\n",
       "availability_365                0"
      ]
     },
     "execution_count": 273,
     "metadata": {},
     "output_type": "execute_result"
    }
   ],
   "source": [
    "df1.isnull().sum().to_frame()\n"
   ]
  },
  {
   "cell_type": "code",
   "execution_count": 276,
   "id": "c9fa87a0",
   "metadata": {
    "ExecuteTime": {
     "end_time": "2022-07-24T11:42:07.667131Z",
     "start_time": "2022-07-24T11:42:07.652207Z"
    }
   },
   "outputs": [],
   "source": [
    "df_desc=df1[['name',  'host_name', 'neighbourhood_group',\n",
    "       'neighbourhood', 'room_type', 'price',\n",
    "       'minimum_nights', 'number_of_reviews', 'last_review',\n",
    "       'reviews_per_month', 'calculated_host_listings_count',\n",
    "       'availability_365']]"
   ]
  },
  {
   "cell_type": "code",
   "execution_count": 274,
   "id": "0dfa59df",
   "metadata": {
    "ExecuteTime": {
     "end_time": "2022-07-24T11:41:32.692477Z",
     "start_time": "2022-07-24T11:41:32.673491Z"
    }
   },
   "outputs": [],
   "source": [
    "df_num=df1.select_dtypes(include=['int64','float64'])"
   ]
  },
  {
   "cell_type": "code",
   "execution_count": 284,
   "id": "a61eaad1",
   "metadata": {
    "ExecuteTime": {
     "end_time": "2022-07-24T11:45:02.696439Z",
     "start_time": "2022-07-24T11:45:02.679128Z"
    }
   },
   "outputs": [],
   "source": [
    "df_str=df1.select_dtypes(exclude=['int64','float64'])"
   ]
  },
  {
   "cell_type": "code",
   "execution_count": 285,
   "id": "2f16d8c5",
   "metadata": {
    "ExecuteTime": {
     "end_time": "2022-07-24T11:46:09.225990Z",
     "start_time": "2022-07-24T11:46:09.221000Z"
    }
   },
   "outputs": [],
   "source": [
    "df_id=df1[['id','host_id']]"
   ]
  },
  {
   "cell_type": "code",
   "execution_count": 283,
   "id": "ba06dbf9",
   "metadata": {
    "ExecuteTime": {
     "end_time": "2022-07-24T11:45:01.486575Z",
     "start_time": "2022-07-24T11:45:01.428729Z"
    },
    "scrolled": false
   },
   "outputs": [
    {
     "data": {
      "text/html": [
       "<div>\n",
       "<style scoped>\n",
       "    .dataframe tbody tr th:only-of-type {\n",
       "        vertical-align: middle;\n",
       "    }\n",
       "\n",
       "    .dataframe tbody tr th {\n",
       "        vertical-align: top;\n",
       "    }\n",
       "\n",
       "    .dataframe thead th {\n",
       "        text-align: right;\n",
       "    }\n",
       "</style>\n",
       "<table border=\"1\" class=\"dataframe\">\n",
       "  <thead>\n",
       "    <tr style=\"text-align: right;\">\n",
       "      <th></th>\n",
       "      <th>count</th>\n",
       "      <th>mean</th>\n",
       "      <th>std</th>\n",
       "      <th>min</th>\n",
       "      <th>25%</th>\n",
       "      <th>50%</th>\n",
       "      <th>75%</th>\n",
       "      <th>max</th>\n",
       "    </tr>\n",
       "  </thead>\n",
       "  <tbody>\n",
       "    <tr>\n",
       "      <th>price</th>\n",
       "      <td>38821.00</td>\n",
       "      <td>142.33</td>\n",
       "      <td>196.99</td>\n",
       "      <td>0.00</td>\n",
       "      <td>69.00</td>\n",
       "      <td>101.00</td>\n",
       "      <td>170.00</td>\n",
       "      <td>10000.00</td>\n",
       "    </tr>\n",
       "    <tr>\n",
       "      <th>minimum_nights</th>\n",
       "      <td>38821.00</td>\n",
       "      <td>5.87</td>\n",
       "      <td>17.39</td>\n",
       "      <td>1.00</td>\n",
       "      <td>1.00</td>\n",
       "      <td>2.00</td>\n",
       "      <td>4.00</td>\n",
       "      <td>1250.00</td>\n",
       "    </tr>\n",
       "    <tr>\n",
       "      <th>number_of_reviews</th>\n",
       "      <td>38821.00</td>\n",
       "      <td>29.29</td>\n",
       "      <td>48.18</td>\n",
       "      <td>1.00</td>\n",
       "      <td>3.00</td>\n",
       "      <td>9.00</td>\n",
       "      <td>33.00</td>\n",
       "      <td>629.00</td>\n",
       "    </tr>\n",
       "    <tr>\n",
       "      <th>reviews_per_month</th>\n",
       "      <td>38821.00</td>\n",
       "      <td>1.37</td>\n",
       "      <td>1.68</td>\n",
       "      <td>0.01</td>\n",
       "      <td>0.19</td>\n",
       "      <td>0.72</td>\n",
       "      <td>2.02</td>\n",
       "      <td>58.50</td>\n",
       "    </tr>\n",
       "    <tr>\n",
       "      <th>calculated_host_listings_count</th>\n",
       "      <td>38821.00</td>\n",
       "      <td>5.17</td>\n",
       "      <td>26.30</td>\n",
       "      <td>1.00</td>\n",
       "      <td>1.00</td>\n",
       "      <td>1.00</td>\n",
       "      <td>2.00</td>\n",
       "      <td>327.00</td>\n",
       "    </tr>\n",
       "    <tr>\n",
       "      <th>availability_365</th>\n",
       "      <td>38821.00</td>\n",
       "      <td>114.89</td>\n",
       "      <td>129.53</td>\n",
       "      <td>0.00</td>\n",
       "      <td>0.00</td>\n",
       "      <td>55.00</td>\n",
       "      <td>229.00</td>\n",
       "      <td>365.00</td>\n",
       "    </tr>\n",
       "  </tbody>\n",
       "</table>\n",
       "</div>"
      ],
      "text/plain": [
       "                                  count   mean    std  min   25%    50%  \\\n",
       "price                          38821.00 142.33 196.99 0.00 69.00 101.00   \n",
       "minimum_nights                 38821.00   5.87  17.39 1.00  1.00   2.00   \n",
       "number_of_reviews              38821.00  29.29  48.18 1.00  3.00   9.00   \n",
       "reviews_per_month              38821.00   1.37   1.68 0.01  0.19   0.72   \n",
       "calculated_host_listings_count 38821.00   5.17  26.30 1.00  1.00   1.00   \n",
       "availability_365               38821.00 114.89 129.53 0.00  0.00  55.00   \n",
       "\n",
       "                                  75%      max  \n",
       "price                          170.00 10000.00  \n",
       "minimum_nights                   4.00  1250.00  \n",
       "number_of_reviews               33.00   629.00  \n",
       "reviews_per_month                2.02    58.50  \n",
       "calculated_host_listings_count   2.00   327.00  \n",
       "availability_365               229.00   365.00  "
      ]
     },
     "execution_count": 283,
     "metadata": {},
     "output_type": "execute_result"
    }
   ],
   "source": [
    "df_desc.describe().transpose()"
   ]
  },
  {
   "cell_type": "code",
   "execution_count": 290,
   "id": "db4f19bc",
   "metadata": {
    "ExecuteTime": {
     "end_time": "2022-07-24T11:48:10.296747Z",
     "start_time": "2022-07-24T11:48:10.241745Z"
    },
    "scrolled": false
   },
   "outputs": [
    {
     "data": {
      "text/html": [
       "<div>\n",
       "<style scoped>\n",
       "    .dataframe tbody tr th:only-of-type {\n",
       "        vertical-align: middle;\n",
       "    }\n",
       "\n",
       "    .dataframe tbody tr th {\n",
       "        vertical-align: top;\n",
       "    }\n",
       "\n",
       "    .dataframe thead th {\n",
       "        text-align: right;\n",
       "    }\n",
       "</style>\n",
       "<table border=\"1\" class=\"dataframe\">\n",
       "  <thead>\n",
       "    <tr style=\"text-align: right;\">\n",
       "      <th></th>\n",
       "      <th>count</th>\n",
       "      <th>unique</th>\n",
       "      <th>top</th>\n",
       "      <th>freq</th>\n",
       "    </tr>\n",
       "  </thead>\n",
       "  <tbody>\n",
       "    <tr>\n",
       "      <th>id</th>\n",
       "      <td>38821</td>\n",
       "      <td>38821</td>\n",
       "      <td>2539</td>\n",
       "      <td>1</td>\n",
       "    </tr>\n",
       "    <tr>\n",
       "      <th>host_id</th>\n",
       "      <td>38821</td>\n",
       "      <td>30232</td>\n",
       "      <td>219517861</td>\n",
       "      <td>207</td>\n",
       "    </tr>\n",
       "  </tbody>\n",
       "</table>\n",
       "</div>"
      ],
      "text/plain": [
       "         count unique        top freq\n",
       "id       38821  38821       2539    1\n",
       "host_id  38821  30232  219517861  207"
      ]
     },
     "execution_count": 290,
     "metadata": {},
     "output_type": "execute_result"
    }
   ],
   "source": [
    "df_id=df_id.astype(str)\n",
    "df_id.describe().transpose()"
   ]
  },
  {
   "cell_type": "code",
   "execution_count": 282,
   "id": "dc929e0c",
   "metadata": {
    "ExecuteTime": {
     "end_time": "2022-07-24T11:43:49.268259Z",
     "start_time": "2022-07-24T11:43:49.204966Z"
    },
    "scrolled": true
   },
   "outputs": [
    {
     "data": {
      "text/html": [
       "<div>\n",
       "<style scoped>\n",
       "    .dataframe tbody tr th:only-of-type {\n",
       "        vertical-align: middle;\n",
       "    }\n",
       "\n",
       "    .dataframe tbody tr th {\n",
       "        vertical-align: top;\n",
       "    }\n",
       "\n",
       "    .dataframe thead th {\n",
       "        text-align: right;\n",
       "    }\n",
       "</style>\n",
       "<table border=\"1\" class=\"dataframe\">\n",
       "  <thead>\n",
       "    <tr style=\"text-align: right;\">\n",
       "      <th></th>\n",
       "      <th>count</th>\n",
       "      <th>unique</th>\n",
       "      <th>top</th>\n",
       "      <th>freq</th>\n",
       "    </tr>\n",
       "  </thead>\n",
       "  <tbody>\n",
       "    <tr>\n",
       "      <th>name</th>\n",
       "      <td>38821</td>\n",
       "      <td>38253</td>\n",
       "      <td>Home away from home</td>\n",
       "      <td>12</td>\n",
       "    </tr>\n",
       "    <tr>\n",
       "      <th>host_name</th>\n",
       "      <td>38821</td>\n",
       "      <td>9885</td>\n",
       "      <td>Michael</td>\n",
       "      <td>335</td>\n",
       "    </tr>\n",
       "    <tr>\n",
       "      <th>neighbourhood_group</th>\n",
       "      <td>38821</td>\n",
       "      <td>5</td>\n",
       "      <td>Manhattan</td>\n",
       "      <td>16621</td>\n",
       "    </tr>\n",
       "    <tr>\n",
       "      <th>neighbourhood</th>\n",
       "      <td>38821</td>\n",
       "      <td>218</td>\n",
       "      <td>Williamsburg</td>\n",
       "      <td>3163</td>\n",
       "    </tr>\n",
       "    <tr>\n",
       "      <th>room_type</th>\n",
       "      <td>38821</td>\n",
       "      <td>3</td>\n",
       "      <td>Entire home/apt</td>\n",
       "      <td>20321</td>\n",
       "    </tr>\n",
       "    <tr>\n",
       "      <th>last_review</th>\n",
       "      <td>38821</td>\n",
       "      <td>1764</td>\n",
       "      <td>2019-06-23</td>\n",
       "      <td>1413</td>\n",
       "    </tr>\n",
       "  </tbody>\n",
       "</table>\n",
       "</div>"
      ],
      "text/plain": [
       "                     count unique                  top   freq\n",
       "name                 38821  38253  Home away from home     12\n",
       "host_name            38821   9885              Michael    335\n",
       "neighbourhood_group  38821      5            Manhattan  16621\n",
       "neighbourhood        38821    218         Williamsburg   3163\n",
       "room_type            38821      3      Entire home/apt  20321\n",
       "last_review          38821   1764           2019-06-23   1413"
      ]
     },
     "execution_count": 282,
     "metadata": {},
     "output_type": "execute_result"
    }
   ],
   "source": [
    "df_str.describe().transpose()"
   ]
  },
  {
   "cell_type": "code",
   "execution_count": 278,
   "id": "b1daff11",
   "metadata": {
    "ExecuteTime": {
     "end_time": "2022-07-24T11:42:31.248325Z",
     "start_time": "2022-07-24T11:42:31.244335Z"
    }
   },
   "outputs": [],
   "source": [
    "#df1['last_review'].astype(int)## trasnformar em  data"
   ]
  },
  {
   "cell_type": "markdown",
   "id": "ab4224a4",
   "metadata": {},
   "source": [
    "# Respostas"
   ]
  },
  {
   "cell_type": "markdown",
   "id": "3ac003db",
   "metadata": {
    "ExecuteTime": {
     "end_time": "2022-07-24T08:12:06.698552Z",
     "start_time": "2022-07-24T08:12:06.691993Z"
    }
   },
   "source": [
    "## 1. Qual o `id` do imóvel com o aluguel (diária) mais caro da base de dados?"
   ]
  },
  {
   "cell_type": "code",
   "execution_count": 222,
   "id": "e55bcd37",
   "metadata": {
    "ExecuteTime": {
     "end_time": "2022-07-24T11:28:18.848065Z",
     "start_time": "2022-07-24T11:28:18.824132Z"
    }
   },
   "outputs": [
    {
     "data": {
      "text/html": [
       "<div>\n",
       "<style scoped>\n",
       "    .dataframe tbody tr th:only-of-type {\n",
       "        vertical-align: middle;\n",
       "    }\n",
       "\n",
       "    .dataframe tbody tr th {\n",
       "        vertical-align: top;\n",
       "    }\n",
       "\n",
       "    .dataframe thead th {\n",
       "        text-align: right;\n",
       "    }\n",
       "</style>\n",
       "<table border=\"1\" class=\"dataframe\">\n",
       "  <thead>\n",
       "    <tr style=\"text-align: right;\">\n",
       "      <th></th>\n",
       "      <th>id</th>\n",
       "      <th>name</th>\n",
       "      <th>price</th>\n",
       "    </tr>\n",
       "  </thead>\n",
       "  <tbody>\n",
       "    <tr>\n",
       "      <th>9151</th>\n",
       "      <td>7003697</td>\n",
       "      <td>Furnished room in Astoria apartment</td>\n",
       "      <td>10000</td>\n",
       "    </tr>\n",
       "    <tr>\n",
       "      <th>17692</th>\n",
       "      <td>13894339</td>\n",
       "      <td>Luxury 1 bedroom apt. -stunning Manhattan views</td>\n",
       "      <td>10000</td>\n",
       "    </tr>\n",
       "    <tr>\n",
       "      <th>12342</th>\n",
       "      <td>9528920</td>\n",
       "      <td>Quiet, Clean, Lit @ LES &amp; Chinatown</td>\n",
       "      <td>9999</td>\n",
       "    </tr>\n",
       "    <tr>\n",
       "      <th>6530</th>\n",
       "      <td>4737930</td>\n",
       "      <td>Spanish Harlem Apt</td>\n",
       "      <td>9999</td>\n",
       "    </tr>\n",
       "    <tr>\n",
       "      <th>30268</th>\n",
       "      <td>23377410</td>\n",
       "      <td>Beautiful/Spacious 1 bed luxury flat-TriBeCa/Soho</td>\n",
       "      <td>8500</td>\n",
       "    </tr>\n",
       "  </tbody>\n",
       "</table>\n",
       "</div>"
      ],
      "text/plain": [
       "             id                                               name  price\n",
       "9151    7003697                Furnished room in Astoria apartment  10000\n",
       "17692  13894339    Luxury 1 bedroom apt. -stunning Manhattan views  10000\n",
       "12342   9528920                Quiet, Clean, Lit @ LES & Chinatown   9999\n",
       "6530    4737930                                 Spanish Harlem Apt   9999\n",
       "30268  23377410  Beautiful/Spacious 1 bed luxury flat-TriBeCa/Soho   8500"
      ]
     },
     "execution_count": 222,
     "metadata": {},
     "output_type": "execute_result"
    }
   ],
   "source": [
    "df[['id','name','price']].sort_values('price',axis=0, ascending=False).head(5)"
   ]
  },
  {
   "cell_type": "markdown",
   "id": "6b3f2f9c",
   "metadata": {},
   "source": [
    "## 2. Qual o `id` do imóvel com o aluguel (diária) mais barato da base de dados?\n"
   ]
  },
  {
   "cell_type": "code",
   "execution_count": 223,
   "id": "890c9688",
   "metadata": {
    "ExecuteTime": {
     "end_time": "2022-07-24T11:28:41.056672Z",
     "start_time": "2022-07-24T11:28:41.037688Z"
    }
   },
   "outputs": [
    {
     "data": {
      "text/html": [
       "<div>\n",
       "<style scoped>\n",
       "    .dataframe tbody tr th:only-of-type {\n",
       "        vertical-align: middle;\n",
       "    }\n",
       "\n",
       "    .dataframe tbody tr th {\n",
       "        vertical-align: top;\n",
       "    }\n",
       "\n",
       "    .dataframe thead th {\n",
       "        text-align: right;\n",
       "    }\n",
       "</style>\n",
       "<table border=\"1\" class=\"dataframe\">\n",
       "  <thead>\n",
       "    <tr style=\"text-align: right;\">\n",
       "      <th></th>\n",
       "      <th>id</th>\n",
       "      <th>name</th>\n",
       "      <th>price</th>\n",
       "    </tr>\n",
       "  </thead>\n",
       "  <tbody>\n",
       "    <tr>\n",
       "      <th>23161</th>\n",
       "      <td>18750597</td>\n",
       "      <td>Huge Brooklyn Brownstone Living, Close to it all.</td>\n",
       "      <td>0</td>\n",
       "    </tr>\n",
       "    <tr>\n",
       "      <th>25433</th>\n",
       "      <td>20333471</td>\n",
       "      <td>★Hostel Style Room | Ideal Traveling Buddies★</td>\n",
       "      <td>0</td>\n",
       "    </tr>\n",
       "    <tr>\n",
       "      <th>25634</th>\n",
       "      <td>20523843</td>\n",
       "      <td>MARTIAL LOFT 3: REDEMPTION (upstairs, 2nd room)</td>\n",
       "      <td>0</td>\n",
       "    </tr>\n",
       "    <tr>\n",
       "      <th>25753</th>\n",
       "      <td>20608117</td>\n",
       "      <td>Sunny, Quiet Room in Greenpoint</td>\n",
       "      <td>0</td>\n",
       "    </tr>\n",
       "    <tr>\n",
       "      <th>25778</th>\n",
       "      <td>20624541</td>\n",
       "      <td>Modern apartment in the heart of Williamsburg</td>\n",
       "      <td>0</td>\n",
       "    </tr>\n",
       "    <tr>\n",
       "      <th>25794</th>\n",
       "      <td>20639628</td>\n",
       "      <td>Spacious comfortable master bedroom with nice ...</td>\n",
       "      <td>0</td>\n",
       "    </tr>\n",
       "    <tr>\n",
       "      <th>25795</th>\n",
       "      <td>20639792</td>\n",
       "      <td>Contemporary bedroom in brownstone with nice view</td>\n",
       "      <td>0</td>\n",
       "    </tr>\n",
       "    <tr>\n",
       "      <th>26841</th>\n",
       "      <td>21291569</td>\n",
       "      <td>Coliving in Brooklyn! Modern design / Shared room</td>\n",
       "      <td>0</td>\n",
       "    </tr>\n",
       "    <tr>\n",
       "      <th>25796</th>\n",
       "      <td>20639914</td>\n",
       "      <td>Cozy yet spacious private brownstone bedroom</td>\n",
       "      <td>0</td>\n",
       "    </tr>\n",
       "    <tr>\n",
       "      <th>26866</th>\n",
       "      <td>21304320</td>\n",
       "      <td>Best Coliving space ever! Shared room.</td>\n",
       "      <td>0</td>\n",
       "    </tr>\n",
       "    <tr>\n",
       "      <th>22287</th>\n",
       "      <td>17979764</td>\n",
       "      <td>Jen Apt</td>\n",
       "      <td>10</td>\n",
       "    </tr>\n",
       "    <tr>\n",
       "      <th>33225</th>\n",
       "      <td>26235873</td>\n",
       "      <td>Voted #1 Airbnb In NYC</td>\n",
       "      <td>10</td>\n",
       "    </tr>\n",
       "    <tr>\n",
       "      <th>47218</th>\n",
       "      <td>35642891</td>\n",
       "      <td>Beautiful room in Bushwick</td>\n",
       "      <td>10</td>\n",
       "    </tr>\n",
       "    <tr>\n",
       "      <th>32810</th>\n",
       "      <td>25839759</td>\n",
       "      <td>Gigantic Sunny Room in Park Slope-Private Back...</td>\n",
       "      <td>10</td>\n",
       "    </tr>\n",
       "    <tr>\n",
       "      <th>35386</th>\n",
       "      <td>28071998</td>\n",
       "      <td>Cozy room in a three-bedroom House</td>\n",
       "      <td>10</td>\n",
       "    </tr>\n",
       "  </tbody>\n",
       "</table>\n",
       "</div>"
      ],
      "text/plain": [
       "             id                                               name  price\n",
       "23161  18750597  Huge Brooklyn Brownstone Living, Close to it all.      0\n",
       "25433  20333471      ★Hostel Style Room | Ideal Traveling Buddies★      0\n",
       "25634  20523843    MARTIAL LOFT 3: REDEMPTION (upstairs, 2nd room)      0\n",
       "25753  20608117                    Sunny, Quiet Room in Greenpoint      0\n",
       "25778  20624541      Modern apartment in the heart of Williamsburg      0\n",
       "25794  20639628  Spacious comfortable master bedroom with nice ...      0\n",
       "25795  20639792  Contemporary bedroom in brownstone with nice view      0\n",
       "26841  21291569  Coliving in Brooklyn! Modern design / Shared room      0\n",
       "25796  20639914       Cozy yet spacious private brownstone bedroom      0\n",
       "26866  21304320             Best Coliving space ever! Shared room.      0\n",
       "22287  17979764                                            Jen Apt     10\n",
       "33225  26235873                             Voted #1 Airbnb In NYC     10\n",
       "47218  35642891                         Beautiful room in Bushwick     10\n",
       "32810  25839759  Gigantic Sunny Room in Park Slope-Private Back...     10\n",
       "35386  28071998                 Cozy room in a three-bedroom House     10"
      ]
     },
     "execution_count": 223,
     "metadata": {},
     "output_type": "execute_result"
    }
   ],
   "source": [
    "df[['id','name','price']].sort_values('price',axis=0, ascending=True).head(15)"
   ]
  },
  {
   "cell_type": "markdown",
   "id": "c43ae7c8",
   "metadata": {},
   "source": [
    "## 3. Qual o `id` do imóvel que foi mais locado da base de dados?\n"
   ]
  },
  {
   "cell_type": "code",
   "execution_count": 167,
   "id": "c4d27973",
   "metadata": {
    "ExecuteTime": {
     "end_time": "2022-07-24T10:48:25.175135Z",
     "start_time": "2022-07-24T10:48:25.085374Z"
    }
   },
   "outputs": [
    {
     "data": {
      "text/html": [
       "<div>\n",
       "<style scoped>\n",
       "    .dataframe tbody tr th:only-of-type {\n",
       "        vertical-align: middle;\n",
       "    }\n",
       "\n",
       "    .dataframe tbody tr th {\n",
       "        vertical-align: top;\n",
       "    }\n",
       "\n",
       "    .dataframe thead th {\n",
       "        text-align: right;\n",
       "    }\n",
       "</style>\n",
       "<table border=\"1\" class=\"dataframe\">\n",
       "  <thead>\n",
       "    <tr style=\"text-align: right;\">\n",
       "      <th></th>\n",
       "      <th>id</th>\n",
       "      <th>price</th>\n",
       "    </tr>\n",
       "    <tr>\n",
       "      <th>name</th>\n",
       "      <th></th>\n",
       "      <th></th>\n",
       "    </tr>\n",
       "  </thead>\n",
       "  <tbody>\n",
       "    <tr>\n",
       "      <th>Hillside Hotel</th>\n",
       "      <td>18</td>\n",
       "      <td>18</td>\n",
       "    </tr>\n",
       "    <tr>\n",
       "      <th>Home away from home</th>\n",
       "      <td>17</td>\n",
       "      <td>17</td>\n",
       "    </tr>\n",
       "    <tr>\n",
       "      <th>New york Multi-unit building</th>\n",
       "      <td>16</td>\n",
       "      <td>16</td>\n",
       "    </tr>\n",
       "    <tr>\n",
       "      <th>Brooklyn Apartment</th>\n",
       "      <td>12</td>\n",
       "      <td>12</td>\n",
       "    </tr>\n",
       "    <tr>\n",
       "      <th>Private Room</th>\n",
       "      <td>11</td>\n",
       "      <td>11</td>\n",
       "    </tr>\n",
       "  </tbody>\n",
       "</table>\n",
       "</div>"
      ],
      "text/plain": [
       "                              id  price\n",
       "name                                   \n",
       "Hillside Hotel                18     18\n",
       "Home away from home           17     17\n",
       "New york Multi-unit building  16     16\n",
       "Brooklyn Apartment            12     12\n",
       "Private Room                  11     11"
      ]
     },
     "execution_count": 167,
     "metadata": {},
     "output_type": "execute_result"
    }
   ],
   "source": [
    "df[['id','name','price']].groupby(['name']).count().sort_values('price', ascending=False).head()"
   ]
  },
  {
   "cell_type": "markdown",
   "id": "3242984b",
   "metadata": {
    "ExecuteTime": {
     "end_time": "2022-07-24T08:44:08.013643Z",
     "start_time": "2022-07-24T08:44:08.006683Z"
    }
   },
   "source": [
    "## 4. Qual o `id` do imóvel que ficou mais tempo com o anúncio disponível, em\n",
    "dias, para locação na base de dados?"
   ]
  },
  {
   "cell_type": "code",
   "execution_count": null,
   "id": "54e50a3a",
   "metadata": {
    "hide_input": true
   },
   "outputs": [],
   "source": []
  }
 ],
 "metadata": {
  "hide_input": false,
  "kernelspec": {
   "display_name": "Python 3 (ipykernel)",
   "language": "python",
   "name": "python3"
  },
  "language_info": {
   "codemirror_mode": {
    "name": "ipython",
    "version": 3
   },
   "file_extension": ".py",
   "mimetype": "text/x-python",
   "name": "python",
   "nbconvert_exporter": "python",
   "pygments_lexer": "ipython3",
   "version": "3.8.13"
  },
  "latex_envs": {
   "LaTeX_envs_menu_present": true,
   "autoclose": false,
   "autocomplete": true,
   "bibliofile": "biblio.bib",
   "cite_by": "apalike",
   "current_citInitial": 1,
   "eqLabelWithNumbers": true,
   "eqNumInitial": 1,
   "hotkeys": {
    "equation": "Ctrl-E",
    "itemize": "Ctrl-I"
   },
   "labels_anchors": false,
   "latex_user_defs": false,
   "report_style_numbering": false,
   "user_envs_cfg": false
  },
  "nbTranslate": {
   "displayLangs": [
    "*"
   ],
   "hotkey": "alt-t",
   "langInMainMenu": true,
   "sourceLang": "en",
   "targetLang": "fr",
   "useGoogleTranslate": true
  },
  "toc": {
   "base_numbering": "0",
   "nav_menu": {},
   "number_sections": true,
   "sideBar": true,
   "skip_h1_title": false,
   "title_cell": "Table of Contents",
   "title_sidebar": "Contents",
   "toc_cell": false,
   "toc_position": {
    "height": "calc(100% - 180px)",
    "left": "10px",
    "top": "150px",
    "width": "411px"
   },
   "toc_section_display": true,
   "toc_window_display": true
  }
 },
 "nbformat": 4,
 "nbformat_minor": 5
}
