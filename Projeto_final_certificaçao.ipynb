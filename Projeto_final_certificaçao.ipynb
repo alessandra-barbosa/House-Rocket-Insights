{
 "cells": [
  {
   "cell_type": "markdown",
   "id": "1d2f67c5",
   "metadata": {},
   "source": [
    "# Projeto final"
   ]
  },
  {
   "cell_type": "markdown",
   "id": "ead7c6b1",
   "metadata": {},
   "source": [
    "## Business question\n",
    "O investidor James Bauer gostaria de diversificar seus negócios e começar a investir em imóveis. \n",
    "Ele definiu que compraria imóveis na cidade de Nova York, nos Estados Unidos. \n",
    "Por ser um dos locais mais caros para se viver no País, ele acredita que obterá um retorno satisfatório de seus investimentos caso loque imóveis na cidade. \n",
    "\n",
    "Como todas as suas decisões são tomadas com base em dados, ele contratou você, cientista de dados, para ajudá-lo nessa empreitada.\n",
    "James Bauer planeja inicialmente locar os imóveis adquiridos e por isso ele definiu que irá utilizar a plataforma Airbnb para esse fim. Para isso, ele lhe entregou uma base de dados públicos da empresa, contendo os dados do comportamento dos hosts e de seus imóveis.\n",
    "\n",
    "### O Desafio\n",
    "James Bauer o contratou para realizar o estudo da base de dados fornecida e ajudá-lo com a escolha das regiões onde:\n",
    "- há maior locação e maiores preços,\n",
    "- fiquem em regiões favoráveis da cidade de Nova York, pois ele acredita que essas características irão ajudá-lo a recuperar o dinheiro investido na aquisição desses imóveis mais rapidamente. \n",
    "\n",
    "https://www.kaggle.com/datasets/dgomonov/new-york-city-airbnb-open-data"
   ]
  },
  {
   "cell_type": "markdown",
   "id": "7251c6fb",
   "metadata": {},
   "source": [
    "### Roteiro\n",
    "1. Entenda o problema de negócio e suas perguntas:\n",
    "  -  a. Por que o investidor fez essas perguntas?\n",
    "  -  b. Se você fosse ele, por que essas informações seriam úteis para você?\n",
    "  -  c. Anote as suas respostas e possíveis causas para as perguntas terem\n",
    "sido feitas.\n",
    "2. Colete os dados:\n",
    "    - a. Os dados estão disponíveis no link neste post\n",
    "3. Faça uma limpeza nos dados:\n",
    "    - a. Entenda as variáveis disponíveis na base de dados fazendo uma\n",
    "tabela de estatística descritiva.\n",
    "    - b. Verifique se há dados faltantes e quais estratégias poderiam ser\n",
    "utilizadas para preenchê-los.\n",
    "4. Levante hipóteses sobre o comportamento do Negócio:\n",
    "    - a. Por exemplo:\n",
    "        - i. Imóveis que são alugados por inteiro possuem o valor do\n",
    "aluguel mais caro?\n",
    "        - ii. A região de “Manhattan” possui, na média, aluguéis mais caros\n",
    "que as outras regiões?\n",
    "    - b. Valide as suas hipóteses com testes estatísticos e gráficos.\n",
    "5. Explore os dados e responda as perguntas:\n",
    "    - a. Comece respondendo as perguntas sem usar programação, para planejar a sua solução. Ou seja, responda primeiro como você faria para responder a pergunta. Por exemplo: Calcularia a média dos valores dos aluguéis dos imóveis de uma determinada região de um determinado bairro.\n",
    "    - b. Com o planejamento feito, implemente os passos/ações utilizando a linguagem de programação escolhida.\n",
    "    - c. Se necessário, utilize gráficos para consolidar e validar a sua resposta.\n",
    "    - d. Caso uma pergunta específica se mostre falsa, encontre a situação ou fato que a torne falsa. Por exemplo, os imóveis da região de “Manhattan” possuem os aluguéis mais baratos? Caso essa pergunta seja falsa, verifique qual a região que possui os aluguéis mais baratos.\n",
    "6. Deixe suas respostas disponíveis:\n",
    "    - a. Pense e planeje uma solução para deixar os seus Insights e as respostas disponíveis para o investidor possa acessá-las"
   ]
  },
  {
   "cell_type": "markdown",
   "id": "50a15ce5",
   "metadata": {},
   "source": [
    "## Dataset"
   ]
  },
  {
   "cell_type": "markdown",
   "id": "4c4e8a73",
   "metadata": {},
   "source": [
    "### Imports"
   ]
  },
  {
   "cell_type": "code",
   "execution_count": 2,
   "id": "b7f460fe",
   "metadata": {
    "ExecuteTime": {
     "end_time": "2022-07-24T16:56:34.015498Z",
     "start_time": "2022-07-24T16:56:29.388442Z"
    }
   },
   "outputs": [],
   "source": [
    "import numpy as np\n",
    "import pandas as pd\n",
    "import seaborn as sns\n",
    "from matplotlib import gridspec\n",
    "from matplotlib import pyplot as plt\n",
    "import ipywidgets as widgets\n",
    "import plotly.express as px\n",
    "from ipywidgets import interact, interactive, fixed, interact_manual\n",
    "from datetime import datetime\n"
   ]
  },
  {
   "cell_type": "markdown",
   "id": "d370a4d0",
   "metadata": {},
   "source": [
    "### Auxiliary functions "
   ]
  },
  {
   "cell_type": "code",
   "execution_count": 47,
   "id": "9b73dffc",
   "metadata": {
    "ExecuteTime": {
     "end_time": "2022-07-24T17:07:27.343689Z",
     "start_time": "2022-07-24T17:07:27.335713Z"
    }
   },
   "outputs": [],
   "source": [
    "## # Supress Scientific Notation\n",
    "\n",
    "np.set_printoptions(suppress=True)\n",
    "pd.set_option('display.float_format', '{:.2f}'.format)"
   ]
  },
  {
   "cell_type": "markdown",
   "id": "b49fc34f",
   "metadata": {},
   "source": [
    "### Loading data"
   ]
  },
  {
   "cell_type": "code",
   "execution_count": 190,
   "id": "e57dcf6b",
   "metadata": {
    "ExecuteTime": {
     "end_time": "2022-07-24T17:47:41.819507Z",
     "start_time": "2022-07-24T17:47:41.679393Z"
    }
   },
   "outputs": [],
   "source": [
    "df=pd.read_csv('Datasets/AB_NYC_2019.csv')"
   ]
  },
  {
   "cell_type": "markdown",
   "id": "fd4e3d26",
   "metadata": {},
   "source": [
    "## Dataset info"
   ]
  },
  {
   "cell_type": "markdown",
   "id": "88e3554f",
   "metadata": {
    "ExecuteTime": {
     "end_time": "2022-07-24T08:50:54.172657Z",
     "start_time": "2022-07-24T08:50:54.126773Z"
    }
   },
   "source": [
    "| Attributes     | Meaning                                                                                                                                                                                              |\n",
    "|----------------|------------------------------------------------------------------------------------------------------------------------------------------------------------------------------------------------------|\n",
    "| id             | Unico ID para cada transaçao                                                                                                                                                                        |\n",
    "| name           | Nome da habitacao                                                                                                                                                                               |\n",
    "| host_id        |                                                                                                                                              Unico Id para cada hospede                               |\n",
    "| host_name       | Nome hospede                                                                                                                                                                                   |\n",
    "| neighbourhood_group      | Grupo da vizinhança                                                                                                                  |\n",
    "| neighbourhood     | Vizinhança                                                                                                                        |\n",
    "| latitude    | Latitude                                                                                                                                               |\n",
    "| longitude       | Longitude                                                                          |\n",
    "| room_type       | Tipo de habitaçao                                                                          |\n",
    "| price       | Preço aluguel                                                                          |\n",
    "| minimum_nights       | Minimo de noites                                                                      | |number_of_reviews       | Numero de reviews                                                          \n",
    "| last_review       | Ultima review     \n",
    "| reviews_per_month       | Review por mes     \n",
    "| calculated_host_listings_count       | Qtd de lista de hospedes     \n",
    "| availability_365       | Anuncio Disponibilidade em dias   \n",
    "\n",
    "\n"
   ]
  },
  {
   "cell_type": "code",
   "execution_count": 191,
   "id": "dc36c77b",
   "metadata": {
    "ExecuteTime": {
     "end_time": "2022-07-24T17:47:51.756212Z",
     "start_time": "2022-07-24T17:47:51.736231Z"
    },
    "scrolled": false
   },
   "outputs": [
    {
     "data": {
      "text/html": [
       "<div>\n",
       "<style scoped>\n",
       "    .dataframe tbody tr th:only-of-type {\n",
       "        vertical-align: middle;\n",
       "    }\n",
       "\n",
       "    .dataframe tbody tr th {\n",
       "        vertical-align: top;\n",
       "    }\n",
       "\n",
       "    .dataframe thead th {\n",
       "        text-align: right;\n",
       "    }\n",
       "</style>\n",
       "<table border=\"1\" class=\"dataframe\">\n",
       "  <thead>\n",
       "    <tr style=\"text-align: right;\">\n",
       "      <th></th>\n",
       "      <th>id</th>\n",
       "      <th>name</th>\n",
       "      <th>host_id</th>\n",
       "      <th>host_name</th>\n",
       "      <th>neighbourhood_group</th>\n",
       "      <th>neighbourhood</th>\n",
       "      <th>latitude</th>\n",
       "      <th>longitude</th>\n",
       "      <th>room_type</th>\n",
       "      <th>price</th>\n",
       "      <th>minimum_nights</th>\n",
       "      <th>number_of_reviews</th>\n",
       "      <th>last_review</th>\n",
       "      <th>reviews_per_month</th>\n",
       "      <th>calculated_host_listings_count</th>\n",
       "      <th>availability_365</th>\n",
       "    </tr>\n",
       "  </thead>\n",
       "  <tbody>\n",
       "    <tr>\n",
       "      <th>0</th>\n",
       "      <td>2539</td>\n",
       "      <td>Clean &amp; quiet apt home by the park</td>\n",
       "      <td>2787</td>\n",
       "      <td>John</td>\n",
       "      <td>Brooklyn</td>\n",
       "      <td>Kensington</td>\n",
       "      <td>40.65</td>\n",
       "      <td>-73.97</td>\n",
       "      <td>Private room</td>\n",
       "      <td>149</td>\n",
       "      <td>1</td>\n",
       "      <td>9</td>\n",
       "      <td>2018-10-19</td>\n",
       "      <td>0.21</td>\n",
       "      <td>6</td>\n",
       "      <td>365</td>\n",
       "    </tr>\n",
       "    <tr>\n",
       "      <th>1</th>\n",
       "      <td>2595</td>\n",
       "      <td>Skylit Midtown Castle</td>\n",
       "      <td>2845</td>\n",
       "      <td>Jennifer</td>\n",
       "      <td>Manhattan</td>\n",
       "      <td>Midtown</td>\n",
       "      <td>40.75</td>\n",
       "      <td>-73.98</td>\n",
       "      <td>Entire home/apt</td>\n",
       "      <td>225</td>\n",
       "      <td>1</td>\n",
       "      <td>45</td>\n",
       "      <td>2019-05-21</td>\n",
       "      <td>0.38</td>\n",
       "      <td>2</td>\n",
       "      <td>355</td>\n",
       "    </tr>\n",
       "    <tr>\n",
       "      <th>2</th>\n",
       "      <td>3647</td>\n",
       "      <td>THE VILLAGE OF HARLEM....NEW YORK !</td>\n",
       "      <td>4632</td>\n",
       "      <td>Elisabeth</td>\n",
       "      <td>Manhattan</td>\n",
       "      <td>Harlem</td>\n",
       "      <td>40.81</td>\n",
       "      <td>-73.94</td>\n",
       "      <td>Private room</td>\n",
       "      <td>150</td>\n",
       "      <td>3</td>\n",
       "      <td>0</td>\n",
       "      <td>NaN</td>\n",
       "      <td>NaN</td>\n",
       "      <td>1</td>\n",
       "      <td>365</td>\n",
       "    </tr>\n",
       "    <tr>\n",
       "      <th>3</th>\n",
       "      <td>3831</td>\n",
       "      <td>Cozy Entire Floor of Brownstone</td>\n",
       "      <td>4869</td>\n",
       "      <td>LisaRoxanne</td>\n",
       "      <td>Brooklyn</td>\n",
       "      <td>Clinton Hill</td>\n",
       "      <td>40.69</td>\n",
       "      <td>-73.96</td>\n",
       "      <td>Entire home/apt</td>\n",
       "      <td>89</td>\n",
       "      <td>1</td>\n",
       "      <td>270</td>\n",
       "      <td>2019-07-05</td>\n",
       "      <td>4.64</td>\n",
       "      <td>1</td>\n",
       "      <td>194</td>\n",
       "    </tr>\n",
       "    <tr>\n",
       "      <th>4</th>\n",
       "      <td>5022</td>\n",
       "      <td>Entire Apt: Spacious Studio/Loft by central park</td>\n",
       "      <td>7192</td>\n",
       "      <td>Laura</td>\n",
       "      <td>Manhattan</td>\n",
       "      <td>East Harlem</td>\n",
       "      <td>40.80</td>\n",
       "      <td>-73.94</td>\n",
       "      <td>Entire home/apt</td>\n",
       "      <td>80</td>\n",
       "      <td>10</td>\n",
       "      <td>9</td>\n",
       "      <td>2018-11-19</td>\n",
       "      <td>0.10</td>\n",
       "      <td>1</td>\n",
       "      <td>0</td>\n",
       "    </tr>\n",
       "  </tbody>\n",
       "</table>\n",
       "</div>"
      ],
      "text/plain": [
       "     id                                              name  host_id  \\\n",
       "0  2539                Clean & quiet apt home by the park     2787   \n",
       "1  2595                             Skylit Midtown Castle     2845   \n",
       "2  3647               THE VILLAGE OF HARLEM....NEW YORK !     4632   \n",
       "3  3831                   Cozy Entire Floor of Brownstone     4869   \n",
       "4  5022  Entire Apt: Spacious Studio/Loft by central park     7192   \n",
       "\n",
       "     host_name neighbourhood_group neighbourhood  latitude  longitude  \\\n",
       "0         John            Brooklyn    Kensington     40.65     -73.97   \n",
       "1     Jennifer           Manhattan       Midtown     40.75     -73.98   \n",
       "2    Elisabeth           Manhattan        Harlem     40.81     -73.94   \n",
       "3  LisaRoxanne            Brooklyn  Clinton Hill     40.69     -73.96   \n",
       "4        Laura           Manhattan   East Harlem     40.80     -73.94   \n",
       "\n",
       "         room_type  price  minimum_nights  number_of_reviews last_review  \\\n",
       "0     Private room    149               1                  9  2018-10-19   \n",
       "1  Entire home/apt    225               1                 45  2019-05-21   \n",
       "2     Private room    150               3                  0         NaN   \n",
       "3  Entire home/apt     89               1                270  2019-07-05   \n",
       "4  Entire home/apt     80              10                  9  2018-11-19   \n",
       "\n",
       "   reviews_per_month  calculated_host_listings_count  availability_365  \n",
       "0               0.21                               6               365  \n",
       "1               0.38                               2               355  \n",
       "2                NaN                               1               365  \n",
       "3               4.64                               1               194  \n",
       "4               0.10                               1                 0  "
      ]
     },
     "execution_count": 191,
     "metadata": {},
     "output_type": "execute_result"
    }
   ],
   "source": [
    "df.head()"
   ]
  },
  {
   "cell_type": "code",
   "execution_count": 192,
   "id": "4b10b294",
   "metadata": {
    "ExecuteTime": {
     "end_time": "2022-07-24T17:47:52.732547Z",
     "start_time": "2022-07-24T17:47:52.669679Z"
    },
    "cell_style": "center",
    "scrolled": false
   },
   "outputs": [
    {
     "name": "stdout",
     "output_type": "stream",
     "text": [
      "<class 'pandas.core.frame.DataFrame'>\n",
      "RangeIndex: 48895 entries, 0 to 48894\n",
      "Data columns (total 16 columns):\n",
      " #   Column                          Non-Null Count  Dtype  \n",
      "---  ------                          --------------  -----  \n",
      " 0   id                              48895 non-null  int64  \n",
      " 1   name                            48879 non-null  object \n",
      " 2   host_id                         48895 non-null  int64  \n",
      " 3   host_name                       48874 non-null  object \n",
      " 4   neighbourhood_group             48895 non-null  object \n",
      " 5   neighbourhood                   48895 non-null  object \n",
      " 6   latitude                        48895 non-null  float64\n",
      " 7   longitude                       48895 non-null  float64\n",
      " 8   room_type                       48895 non-null  object \n",
      " 9   price                           48895 non-null  int64  \n",
      " 10  minimum_nights                  48895 non-null  int64  \n",
      " 11  number_of_reviews               48895 non-null  int64  \n",
      " 12  last_review                     38843 non-null  object \n",
      " 13  reviews_per_month               38843 non-null  float64\n",
      " 14  calculated_host_listings_count  48895 non-null  int64  \n",
      " 15  availability_365                48895 non-null  int64  \n",
      "dtypes: float64(3), int64(7), object(6)\n",
      "memory usage: 6.0+ MB\n"
     ]
    }
   ],
   "source": [
    "df.info()"
   ]
  },
  {
   "cell_type": "code",
   "execution_count": 193,
   "id": "a34785d6",
   "metadata": {
    "ExecuteTime": {
     "end_time": "2022-07-24T17:47:53.531185Z",
     "start_time": "2022-07-24T17:47:53.507249Z"
    }
   },
   "outputs": [],
   "source": [
    "df['last_review'] =pd.to_datetime(df['last_review'], format='%Y-%m-%d') "
   ]
  },
  {
   "cell_type": "code",
   "execution_count": 194,
   "id": "6dbf5319",
   "metadata": {
    "ExecuteTime": {
     "end_time": "2022-07-24T17:47:55.518728Z",
     "start_time": "2022-07-24T17:47:55.510749Z"
    }
   },
   "outputs": [
    {
     "data": {
      "text/plain": [
       "48895"
      ]
     },
     "execution_count": 194,
     "metadata": {},
     "output_type": "execute_result"
    }
   ],
   "source": [
    "len(df['id'].unique())"
   ]
  },
  {
   "cell_type": "code",
   "execution_count": 195,
   "id": "e6e86874",
   "metadata": {
    "ExecuteTime": {
     "end_time": "2022-07-24T17:47:56.132760Z",
     "start_time": "2022-07-24T17:47:56.122821Z"
    },
    "cell_style": "center",
    "scrolled": false
   },
   "outputs": [
    {
     "name": "stdout",
     "output_type": "stream",
     "text": [
      "Number of houses available for purchase: 48895\n",
      "Features by house: 16\n"
     ]
    }
   ],
   "source": [
    "print( 'Number of houses available for purchase: {}'.format( df.shape[0] ) )\n",
    "print( 'Features by house: {}'.format( df.shape[1] ) )"
   ]
  },
  {
   "cell_type": "code",
   "execution_count": 196,
   "id": "ba06dbf9",
   "metadata": {
    "ExecuteTime": {
     "end_time": "2022-07-24T17:47:56.717637Z",
     "start_time": "2022-07-24T17:47:56.676711Z"
    },
    "scrolled": true
   },
   "outputs": [
    {
     "data": {
      "text/html": [
       "<div>\n",
       "<style scoped>\n",
       "    .dataframe tbody tr th:only-of-type {\n",
       "        vertical-align: middle;\n",
       "    }\n",
       "\n",
       "    .dataframe tbody tr th {\n",
       "        vertical-align: top;\n",
       "    }\n",
       "\n",
       "    .dataframe thead th {\n",
       "        text-align: right;\n",
       "    }\n",
       "</style>\n",
       "<table border=\"1\" class=\"dataframe\">\n",
       "  <thead>\n",
       "    <tr style=\"text-align: right;\">\n",
       "      <th></th>\n",
       "      <th>count</th>\n",
       "      <th>mean</th>\n",
       "      <th>std</th>\n",
       "      <th>min</th>\n",
       "      <th>25%</th>\n",
       "      <th>50%</th>\n",
       "      <th>75%</th>\n",
       "      <th>max</th>\n",
       "    </tr>\n",
       "  </thead>\n",
       "  <tbody>\n",
       "    <tr>\n",
       "      <th>price</th>\n",
       "      <td>38821.00</td>\n",
       "      <td>142.33</td>\n",
       "      <td>196.99</td>\n",
       "      <td>0.00</td>\n",
       "      <td>69.00</td>\n",
       "      <td>101.00</td>\n",
       "      <td>170.00</td>\n",
       "      <td>10000.00</td>\n",
       "    </tr>\n",
       "    <tr>\n",
       "      <th>minimum_nights</th>\n",
       "      <td>38821.00</td>\n",
       "      <td>5.87</td>\n",
       "      <td>17.39</td>\n",
       "      <td>1.00</td>\n",
       "      <td>1.00</td>\n",
       "      <td>2.00</td>\n",
       "      <td>4.00</td>\n",
       "      <td>1250.00</td>\n",
       "    </tr>\n",
       "    <tr>\n",
       "      <th>number_of_reviews</th>\n",
       "      <td>38821.00</td>\n",
       "      <td>29.29</td>\n",
       "      <td>48.18</td>\n",
       "      <td>1.00</td>\n",
       "      <td>3.00</td>\n",
       "      <td>9.00</td>\n",
       "      <td>33.00</td>\n",
       "      <td>629.00</td>\n",
       "    </tr>\n",
       "    <tr>\n",
       "      <th>reviews_per_month</th>\n",
       "      <td>38821.00</td>\n",
       "      <td>1.37</td>\n",
       "      <td>1.68</td>\n",
       "      <td>0.01</td>\n",
       "      <td>0.19</td>\n",
       "      <td>0.72</td>\n",
       "      <td>2.02</td>\n",
       "      <td>58.50</td>\n",
       "    </tr>\n",
       "    <tr>\n",
       "      <th>calculated_host_listings_count</th>\n",
       "      <td>38821.00</td>\n",
       "      <td>5.17</td>\n",
       "      <td>26.30</td>\n",
       "      <td>1.00</td>\n",
       "      <td>1.00</td>\n",
       "      <td>1.00</td>\n",
       "      <td>2.00</td>\n",
       "      <td>327.00</td>\n",
       "    </tr>\n",
       "    <tr>\n",
       "      <th>availability_365</th>\n",
       "      <td>38821.00</td>\n",
       "      <td>114.89</td>\n",
       "      <td>129.53</td>\n",
       "      <td>0.00</td>\n",
       "      <td>0.00</td>\n",
       "      <td>55.00</td>\n",
       "      <td>229.00</td>\n",
       "      <td>365.00</td>\n",
       "    </tr>\n",
       "  </tbody>\n",
       "</table>\n",
       "</div>"
      ],
      "text/plain": [
       "                                  count   mean    std  min   25%    50%  \\\n",
       "price                          38821.00 142.33 196.99 0.00 69.00 101.00   \n",
       "minimum_nights                 38821.00   5.87  17.39 1.00  1.00   2.00   \n",
       "number_of_reviews              38821.00  29.29  48.18 1.00  3.00   9.00   \n",
       "reviews_per_month              38821.00   1.37   1.68 0.01  0.19   0.72   \n",
       "calculated_host_listings_count 38821.00   5.17  26.30 1.00  1.00   1.00   \n",
       "availability_365               38821.00 114.89 129.53 0.00  0.00  55.00   \n",
       "\n",
       "                                  75%      max  \n",
       "price                          170.00 10000.00  \n",
       "minimum_nights                   4.00  1250.00  \n",
       "number_of_reviews               33.00   629.00  \n",
       "reviews_per_month                2.02    58.50  \n",
       "calculated_host_listings_count   2.00   327.00  \n",
       "availability_365               229.00   365.00  "
      ]
     },
     "execution_count": 196,
     "metadata": {},
     "output_type": "execute_result"
    }
   ],
   "source": [
    "df_desc=df1[['name',  'host_name', 'neighbourhood_group',\n",
    "       'neighbourhood', 'room_type', 'price',\n",
    "       'minimum_nights', 'number_of_reviews', 'last_review',\n",
    "       'reviews_per_month', 'calculated_host_listings_count',\n",
    "       'availability_365']]\n",
    "df_desc.describe().transpose()"
   ]
  },
  {
   "cell_type": "code",
   "execution_count": 197,
   "id": "dc929e0c",
   "metadata": {
    "ExecuteTime": {
     "end_time": "2022-07-24T17:47:57.285577Z",
     "start_time": "2022-07-24T17:47:57.215102Z"
    },
    "scrolled": true
   },
   "outputs": [
    {
     "name": "stderr",
     "output_type": "stream",
     "text": [
      "C:\\Users\\aless\\AppData\\Local\\Temp\\ipykernel_11124\\3528687363.py:2: FutureWarning: Treating datetime data as categorical rather than numeric in `.describe` is deprecated and will be removed in a future version of pandas. Specify `datetime_is_numeric=True` to silence this warning and adopt the future behavior now.\n",
      "  df_str.describe().transpose()\n"
     ]
    },
    {
     "data": {
      "text/html": [
       "<div>\n",
       "<style scoped>\n",
       "    .dataframe tbody tr th:only-of-type {\n",
       "        vertical-align: middle;\n",
       "    }\n",
       "\n",
       "    .dataframe tbody tr th {\n",
       "        vertical-align: top;\n",
       "    }\n",
       "\n",
       "    .dataframe thead th {\n",
       "        text-align: right;\n",
       "    }\n",
       "</style>\n",
       "<table border=\"1\" class=\"dataframe\">\n",
       "  <thead>\n",
       "    <tr style=\"text-align: right;\">\n",
       "      <th></th>\n",
       "      <th>count</th>\n",
       "      <th>unique</th>\n",
       "      <th>top</th>\n",
       "      <th>freq</th>\n",
       "      <th>first</th>\n",
       "      <th>last</th>\n",
       "    </tr>\n",
       "  </thead>\n",
       "  <tbody>\n",
       "    <tr>\n",
       "      <th>name</th>\n",
       "      <td>48879</td>\n",
       "      <td>47905</td>\n",
       "      <td>Hillside Hotel</td>\n",
       "      <td>18</td>\n",
       "      <td>NaT</td>\n",
       "      <td>NaT</td>\n",
       "    </tr>\n",
       "    <tr>\n",
       "      <th>host_name</th>\n",
       "      <td>48874</td>\n",
       "      <td>11452</td>\n",
       "      <td>Michael</td>\n",
       "      <td>417</td>\n",
       "      <td>NaT</td>\n",
       "      <td>NaT</td>\n",
       "    </tr>\n",
       "    <tr>\n",
       "      <th>neighbourhood_group</th>\n",
       "      <td>48895</td>\n",
       "      <td>5</td>\n",
       "      <td>Manhattan</td>\n",
       "      <td>21661</td>\n",
       "      <td>NaT</td>\n",
       "      <td>NaT</td>\n",
       "    </tr>\n",
       "    <tr>\n",
       "      <th>neighbourhood</th>\n",
       "      <td>48895</td>\n",
       "      <td>221</td>\n",
       "      <td>Williamsburg</td>\n",
       "      <td>3920</td>\n",
       "      <td>NaT</td>\n",
       "      <td>NaT</td>\n",
       "    </tr>\n",
       "    <tr>\n",
       "      <th>room_type</th>\n",
       "      <td>48895</td>\n",
       "      <td>3</td>\n",
       "      <td>Entire home/apt</td>\n",
       "      <td>25409</td>\n",
       "      <td>NaT</td>\n",
       "      <td>NaT</td>\n",
       "    </tr>\n",
       "    <tr>\n",
       "      <th>last_review</th>\n",
       "      <td>38843</td>\n",
       "      <td>1764</td>\n",
       "      <td>2019-06-23 00:00:00</td>\n",
       "      <td>1413</td>\n",
       "      <td>2011-03-28</td>\n",
       "      <td>2019-07-08</td>\n",
       "    </tr>\n",
       "  </tbody>\n",
       "</table>\n",
       "</div>"
      ],
      "text/plain": [
       "                     count unique                  top   freq      first  \\\n",
       "name                 48879  47905       Hillside Hotel     18        NaT   \n",
       "host_name            48874  11452              Michael    417        NaT   \n",
       "neighbourhood_group  48895      5            Manhattan  21661        NaT   \n",
       "neighbourhood        48895    221         Williamsburg   3920        NaT   \n",
       "room_type            48895      3      Entire home/apt  25409        NaT   \n",
       "last_review          38843   1764  2019-06-23 00:00:00   1413 2011-03-28   \n",
       "\n",
       "                          last  \n",
       "name                       NaT  \n",
       "host_name                  NaT  \n",
       "neighbourhood_group        NaT  \n",
       "neighbourhood              NaT  \n",
       "room_type                  NaT  \n",
       "last_review         2019-07-08  "
      ]
     },
     "execution_count": 197,
     "metadata": {},
     "output_type": "execute_result"
    }
   ],
   "source": [
    "df_str=df.select_dtypes(exclude=['int64','float64'])\n",
    "df_str.describe().transpose()"
   ]
  },
  {
   "cell_type": "code",
   "execution_count": 198,
   "id": "2f16d8c5",
   "metadata": {
    "ExecuteTime": {
     "end_time": "2022-07-24T17:47:57.990283Z",
     "start_time": "2022-07-24T17:47:57.900011Z"
    }
   },
   "outputs": [
    {
     "data": {
      "text/html": [
       "<div>\n",
       "<style scoped>\n",
       "    .dataframe tbody tr th:only-of-type {\n",
       "        vertical-align: middle;\n",
       "    }\n",
       "\n",
       "    .dataframe tbody tr th {\n",
       "        vertical-align: top;\n",
       "    }\n",
       "\n",
       "    .dataframe thead th {\n",
       "        text-align: right;\n",
       "    }\n",
       "</style>\n",
       "<table border=\"1\" class=\"dataframe\">\n",
       "  <thead>\n",
       "    <tr style=\"text-align: right;\">\n",
       "      <th></th>\n",
       "      <th>count</th>\n",
       "      <th>unique</th>\n",
       "      <th>top</th>\n",
       "      <th>freq</th>\n",
       "    </tr>\n",
       "  </thead>\n",
       "  <tbody>\n",
       "    <tr>\n",
       "      <th>id</th>\n",
       "      <td>48895</td>\n",
       "      <td>48895</td>\n",
       "      <td>2539</td>\n",
       "      <td>1</td>\n",
       "    </tr>\n",
       "    <tr>\n",
       "      <th>host_id</th>\n",
       "      <td>48895</td>\n",
       "      <td>37457</td>\n",
       "      <td>219517861</td>\n",
       "      <td>327</td>\n",
       "    </tr>\n",
       "  </tbody>\n",
       "</table>\n",
       "</div>"
      ],
      "text/plain": [
       "         count unique        top freq\n",
       "id       48895  48895       2539    1\n",
       "host_id  48895  37457  219517861  327"
      ]
     },
     "execution_count": 198,
     "metadata": {},
     "output_type": "execute_result"
    }
   ],
   "source": [
    "df_id=df[['id','host_id']] # depois de drop na \n",
    "df_id=df_id.astype(str)\n",
    "df_id.describe().transpose()"
   ]
  },
  {
   "cell_type": "markdown",
   "id": "10a000c7",
   "metadata": {},
   "source": [
    "## Clean Data"
   ]
  },
  {
   "cell_type": "code",
   "execution_count": 199,
   "id": "f04f0f26",
   "metadata": {
    "ExecuteTime": {
     "end_time": "2022-07-24T17:48:00.053408Z",
     "start_time": "2022-07-24T17:47:59.991379Z"
    },
    "scrolled": true
   },
   "outputs": [
    {
     "data": {
      "text/html": [
       "<div>\n",
       "<style scoped>\n",
       "    .dataframe tbody tr th:only-of-type {\n",
       "        vertical-align: middle;\n",
       "    }\n",
       "\n",
       "    .dataframe tbody tr th {\n",
       "        vertical-align: top;\n",
       "    }\n",
       "\n",
       "    .dataframe thead th {\n",
       "        text-align: right;\n",
       "    }\n",
       "</style>\n",
       "<table border=\"1\" class=\"dataframe\">\n",
       "  <thead>\n",
       "    <tr style=\"text-align: right;\">\n",
       "      <th></th>\n",
       "      <th>0</th>\n",
       "    </tr>\n",
       "  </thead>\n",
       "  <tbody>\n",
       "    <tr>\n",
       "      <th>id</th>\n",
       "      <td>0</td>\n",
       "    </tr>\n",
       "    <tr>\n",
       "      <th>name</th>\n",
       "      <td>16</td>\n",
       "    </tr>\n",
       "    <tr>\n",
       "      <th>host_id</th>\n",
       "      <td>0</td>\n",
       "    </tr>\n",
       "    <tr>\n",
       "      <th>host_name</th>\n",
       "      <td>21</td>\n",
       "    </tr>\n",
       "    <tr>\n",
       "      <th>neighbourhood_group</th>\n",
       "      <td>0</td>\n",
       "    </tr>\n",
       "    <tr>\n",
       "      <th>neighbourhood</th>\n",
       "      <td>0</td>\n",
       "    </tr>\n",
       "    <tr>\n",
       "      <th>latitude</th>\n",
       "      <td>0</td>\n",
       "    </tr>\n",
       "    <tr>\n",
       "      <th>longitude</th>\n",
       "      <td>0</td>\n",
       "    </tr>\n",
       "    <tr>\n",
       "      <th>room_type</th>\n",
       "      <td>0</td>\n",
       "    </tr>\n",
       "    <tr>\n",
       "      <th>price</th>\n",
       "      <td>0</td>\n",
       "    </tr>\n",
       "    <tr>\n",
       "      <th>minimum_nights</th>\n",
       "      <td>0</td>\n",
       "    </tr>\n",
       "    <tr>\n",
       "      <th>number_of_reviews</th>\n",
       "      <td>0</td>\n",
       "    </tr>\n",
       "    <tr>\n",
       "      <th>last_review</th>\n",
       "      <td>10052</td>\n",
       "    </tr>\n",
       "    <tr>\n",
       "      <th>reviews_per_month</th>\n",
       "      <td>10052</td>\n",
       "    </tr>\n",
       "    <tr>\n",
       "      <th>calculated_host_listings_count</th>\n",
       "      <td>0</td>\n",
       "    </tr>\n",
       "    <tr>\n",
       "      <th>availability_365</th>\n",
       "      <td>0</td>\n",
       "    </tr>\n",
       "  </tbody>\n",
       "</table>\n",
       "</div>"
      ],
      "text/plain": [
       "                                    0\n",
       "id                                  0\n",
       "name                               16\n",
       "host_id                             0\n",
       "host_name                          21\n",
       "neighbourhood_group                 0\n",
       "neighbourhood                       0\n",
       "latitude                            0\n",
       "longitude                           0\n",
       "room_type                           0\n",
       "price                               0\n",
       "minimum_nights                      0\n",
       "number_of_reviews                   0\n",
       "last_review                     10052\n",
       "reviews_per_month               10052\n",
       "calculated_host_listings_count      0\n",
       "availability_365                    0"
      ]
     },
     "execution_count": 199,
     "metadata": {},
     "output_type": "execute_result"
    }
   ],
   "source": [
    "df.isnull().sum().to_frame()\n"
   ]
  },
  {
   "cell_type": "code",
   "execution_count": 200,
   "id": "98168f77",
   "metadata": {
    "ExecuteTime": {
     "end_time": "2022-07-24T17:48:00.622768Z",
     "start_time": "2022-07-24T17:48:00.601824Z"
    }
   },
   "outputs": [],
   "source": [
    "df1=df.copy()"
   ]
  },
  {
   "cell_type": "code",
   "execution_count": 201,
   "id": "920f2e01",
   "metadata": {
    "ExecuteTime": {
     "end_time": "2022-07-24T17:48:01.393122Z",
     "start_time": "2022-07-24T17:48:01.336620Z"
    }
   },
   "outputs": [],
   "source": [
    "df1=df1.dropna()"
   ]
  },
  {
   "cell_type": "code",
   "execution_count": 202,
   "id": "3fd7f731",
   "metadata": {
    "ExecuteTime": {
     "end_time": "2022-07-24T17:48:02.067011Z",
     "start_time": "2022-07-24T17:48:02.021338Z"
    },
    "scrolled": true
   },
   "outputs": [
    {
     "data": {
      "text/html": [
       "<div>\n",
       "<style scoped>\n",
       "    .dataframe tbody tr th:only-of-type {\n",
       "        vertical-align: middle;\n",
       "    }\n",
       "\n",
       "    .dataframe tbody tr th {\n",
       "        vertical-align: top;\n",
       "    }\n",
       "\n",
       "    .dataframe thead th {\n",
       "        text-align: right;\n",
       "    }\n",
       "</style>\n",
       "<table border=\"1\" class=\"dataframe\">\n",
       "  <thead>\n",
       "    <tr style=\"text-align: right;\">\n",
       "      <th></th>\n",
       "      <th>0</th>\n",
       "    </tr>\n",
       "  </thead>\n",
       "  <tbody>\n",
       "    <tr>\n",
       "      <th>id</th>\n",
       "      <td>0</td>\n",
       "    </tr>\n",
       "    <tr>\n",
       "      <th>name</th>\n",
       "      <td>0</td>\n",
       "    </tr>\n",
       "    <tr>\n",
       "      <th>host_id</th>\n",
       "      <td>0</td>\n",
       "    </tr>\n",
       "    <tr>\n",
       "      <th>host_name</th>\n",
       "      <td>0</td>\n",
       "    </tr>\n",
       "    <tr>\n",
       "      <th>neighbourhood_group</th>\n",
       "      <td>0</td>\n",
       "    </tr>\n",
       "    <tr>\n",
       "      <th>neighbourhood</th>\n",
       "      <td>0</td>\n",
       "    </tr>\n",
       "    <tr>\n",
       "      <th>latitude</th>\n",
       "      <td>0</td>\n",
       "    </tr>\n",
       "    <tr>\n",
       "      <th>longitude</th>\n",
       "      <td>0</td>\n",
       "    </tr>\n",
       "    <tr>\n",
       "      <th>room_type</th>\n",
       "      <td>0</td>\n",
       "    </tr>\n",
       "    <tr>\n",
       "      <th>price</th>\n",
       "      <td>0</td>\n",
       "    </tr>\n",
       "    <tr>\n",
       "      <th>minimum_nights</th>\n",
       "      <td>0</td>\n",
       "    </tr>\n",
       "    <tr>\n",
       "      <th>number_of_reviews</th>\n",
       "      <td>0</td>\n",
       "    </tr>\n",
       "    <tr>\n",
       "      <th>last_review</th>\n",
       "      <td>0</td>\n",
       "    </tr>\n",
       "    <tr>\n",
       "      <th>reviews_per_month</th>\n",
       "      <td>0</td>\n",
       "    </tr>\n",
       "    <tr>\n",
       "      <th>calculated_host_listings_count</th>\n",
       "      <td>0</td>\n",
       "    </tr>\n",
       "    <tr>\n",
       "      <th>availability_365</th>\n",
       "      <td>0</td>\n",
       "    </tr>\n",
       "  </tbody>\n",
       "</table>\n",
       "</div>"
      ],
      "text/plain": [
       "                                0\n",
       "id                              0\n",
       "name                            0\n",
       "host_id                         0\n",
       "host_name                       0\n",
       "neighbourhood_group             0\n",
       "neighbourhood                   0\n",
       "latitude                        0\n",
       "longitude                       0\n",
       "room_type                       0\n",
       "price                           0\n",
       "minimum_nights                  0\n",
       "number_of_reviews               0\n",
       "last_review                     0\n",
       "reviews_per_month               0\n",
       "calculated_host_listings_count  0\n",
       "availability_365                0"
      ]
     },
     "execution_count": 202,
     "metadata": {},
     "output_type": "execute_result"
    }
   ],
   "source": [
    "df1.isnull().sum().to_frame()\n"
   ]
  },
  {
   "cell_type": "markdown",
   "id": "ab4224a4",
   "metadata": {},
   "source": [
    "# Respostas"
   ]
  },
  {
   "cell_type": "markdown",
   "id": "3ac003db",
   "metadata": {
    "ExecuteTime": {
     "end_time": "2022-07-24T08:12:06.698552Z",
     "start_time": "2022-07-24T08:12:06.691993Z"
    }
   },
   "source": [
    "## 1. Qual o `id` do imóvel com o aluguel (diária) mais caro da base de dados?"
   ]
  },
  {
   "cell_type": "code",
   "execution_count": 203,
   "id": "e55bcd37",
   "metadata": {
    "ExecuteTime": {
     "end_time": "2022-07-24T17:48:04.256700Z",
     "start_time": "2022-07-24T17:48:04.227777Z"
    }
   },
   "outputs": [
    {
     "data": {
      "text/plain": [
       "7003697"
      ]
     },
     "execution_count": 203,
     "metadata": {},
     "output_type": "execute_result"
    }
   ],
   "source": [
    "df[['id','name','price']].sort_values('price',axis=0, ascending=False).reset_index(drop=True)['id'][0]"
   ]
  },
  {
   "cell_type": "code",
   "execution_count": 204,
   "id": "ebada839",
   "metadata": {
    "ExecuteTime": {
     "end_time": "2022-07-24T17:48:04.844742Z",
     "start_time": "2022-07-24T17:48:04.827789Z"
    }
   },
   "outputs": [
    {
     "data": {
      "text/html": [
       "<div>\n",
       "<style scoped>\n",
       "    .dataframe tbody tr th:only-of-type {\n",
       "        vertical-align: middle;\n",
       "    }\n",
       "\n",
       "    .dataframe tbody tr th {\n",
       "        vertical-align: top;\n",
       "    }\n",
       "\n",
       "    .dataframe thead th {\n",
       "        text-align: right;\n",
       "    }\n",
       "</style>\n",
       "<table border=\"1\" class=\"dataframe\">\n",
       "  <thead>\n",
       "    <tr style=\"text-align: right;\">\n",
       "      <th></th>\n",
       "      <th>id</th>\n",
       "      <th>name</th>\n",
       "      <th>price</th>\n",
       "    </tr>\n",
       "  </thead>\n",
       "  <tbody>\n",
       "    <tr>\n",
       "      <th>9151</th>\n",
       "      <td>7003697</td>\n",
       "      <td>Furnished room in Astoria apartment</td>\n",
       "      <td>10000</td>\n",
       "    </tr>\n",
       "    <tr>\n",
       "      <th>17692</th>\n",
       "      <td>13894339</td>\n",
       "      <td>Luxury 1 bedroom apt. -stunning Manhattan views</td>\n",
       "      <td>10000</td>\n",
       "    </tr>\n",
       "    <tr>\n",
       "      <th>29238</th>\n",
       "      <td>22436899</td>\n",
       "      <td>1-BR Lincoln Center</td>\n",
       "      <td>10000</td>\n",
       "    </tr>\n",
       "    <tr>\n",
       "      <th>40433</th>\n",
       "      <td>31340283</td>\n",
       "      <td>2br - The Heart of NYC: Manhattans Lower East ...</td>\n",
       "      <td>9999</td>\n",
       "    </tr>\n",
       "    <tr>\n",
       "      <th>12342</th>\n",
       "      <td>9528920</td>\n",
       "      <td>Quiet, Clean, Lit @ LES &amp; Chinatown</td>\n",
       "      <td>9999</td>\n",
       "    </tr>\n",
       "  </tbody>\n",
       "</table>\n",
       "</div>"
      ],
      "text/plain": [
       "             id                                               name  price\n",
       "9151    7003697                Furnished room in Astoria apartment  10000\n",
       "17692  13894339    Luxury 1 bedroom apt. -stunning Manhattan views  10000\n",
       "29238  22436899                                1-BR Lincoln Center  10000\n",
       "40433  31340283  2br - The Heart of NYC: Manhattans Lower East ...   9999\n",
       "12342   9528920                Quiet, Clean, Lit @ LES & Chinatown   9999"
      ]
     },
     "execution_count": 204,
     "metadata": {},
     "output_type": "execute_result"
    }
   ],
   "source": [
    "df[['id','name','price']].sort_values('price',axis=0, ascending=False).head()"
   ]
  },
  {
   "cell_type": "markdown",
   "id": "6b3f2f9c",
   "metadata": {},
   "source": [
    "## 2. Qual o `id` do imóvel com o aluguel (diária) mais barato da base de dados?\n"
   ]
  },
  {
   "cell_type": "code",
   "execution_count": 205,
   "id": "890c9688",
   "metadata": {
    "ExecuteTime": {
     "end_time": "2022-07-24T17:48:06.582833Z",
     "start_time": "2022-07-24T17:48:06.563883Z"
    }
   },
   "outputs": [
    {
     "data": {
      "text/plain": [
       "20639914"
      ]
     },
     "execution_count": 205,
     "metadata": {},
     "output_type": "execute_result"
    }
   ],
   "source": [
    "df[['id','name','price']].sort_values('price',axis=0, ascending=True).reset_index(drop=True)['id'][0]"
   ]
  },
  {
   "cell_type": "markdown",
   "id": "c43ae7c8",
   "metadata": {},
   "source": [
    "## 3. Qual o `id` do imóvel que foi mais locado da base de dados?\n"
   ]
  },
  {
   "cell_type": "code",
   "execution_count": 206,
   "id": "c4d27973",
   "metadata": {
    "ExecuteTime": {
     "end_time": "2022-07-24T17:48:07.812661Z",
     "start_time": "2022-07-24T17:48:07.735385Z"
    }
   },
   "outputs": [
    {
     "data": {
      "text/html": [
       "<div>\n",
       "<style scoped>\n",
       "    .dataframe tbody tr th:only-of-type {\n",
       "        vertical-align: middle;\n",
       "    }\n",
       "\n",
       "    .dataframe tbody tr th {\n",
       "        vertical-align: top;\n",
       "    }\n",
       "\n",
       "    .dataframe thead th {\n",
       "        text-align: right;\n",
       "    }\n",
       "</style>\n",
       "<table border=\"1\" class=\"dataframe\">\n",
       "  <thead>\n",
       "    <tr style=\"text-align: right;\">\n",
       "      <th></th>\n",
       "      <th>id</th>\n",
       "      <th>price</th>\n",
       "    </tr>\n",
       "    <tr>\n",
       "      <th>name</th>\n",
       "      <th></th>\n",
       "      <th></th>\n",
       "    </tr>\n",
       "  </thead>\n",
       "  <tbody>\n",
       "    <tr>\n",
       "      <th>1 Bed Apt in Utopic Williamsburg</th>\n",
       "      <td>1</td>\n",
       "      <td>1</td>\n",
       "    </tr>\n",
       "    <tr>\n",
       "      <th>2-3 bedroom UWS garden triplex</th>\n",
       "      <td>1</td>\n",
       "      <td>1</td>\n",
       "    </tr>\n",
       "    <tr>\n",
       "      <th>3 bedroom loft in Williamsburg</th>\n",
       "      <td>1</td>\n",
       "      <td>1</td>\n",
       "    </tr>\n",
       "    <tr>\n",
       "      <th>A charming Space in Brooklyn</th>\n",
       "      <td>1</td>\n",
       "      <td>1</td>\n",
       "    </tr>\n",
       "    <tr>\n",
       "      <th>AMAZING TIME SQUARE!!BRICK WALLS!!</th>\n",
       "      <td>1</td>\n",
       "      <td>1</td>\n",
       "    </tr>\n",
       "    <tr>\n",
       "      <th>...</th>\n",
       "      <td>...</td>\n",
       "      <td>...</td>\n",
       "    </tr>\n",
       "    <tr>\n",
       "      <th>한성 韓城 Han B (2F)</th>\n",
       "      <td>1</td>\n",
       "      <td>1</td>\n",
       "    </tr>\n",
       "    <tr>\n",
       "      <th>한성 韓城 Han C (2F)</th>\n",
       "      <td>1</td>\n",
       "      <td>1</td>\n",
       "    </tr>\n",
       "    <tr>\n",
       "      <th>️CENTRALLY LOCATED️- Great for Families + Groups</th>\n",
       "      <td>1</td>\n",
       "      <td>1</td>\n",
       "    </tr>\n",
       "    <tr>\n",
       "      <th>ｳｨﾘｱﾑｽﾞﾊﾞｰｸﾞのかわいいお部屋です2</th>\n",
       "      <td>1</td>\n",
       "      <td>1</td>\n",
       "    </tr>\n",
       "    <tr>\n",
       "      <th>ﾏﾝﾊｯﾀﾝ､駅から徒歩4分でどこに行くのにも便利な場所!女性の方希望,ｷﾚｲなお部屋｡</th>\n",
       "      <td>1</td>\n",
       "      <td>1</td>\n",
       "    </tr>\n",
       "  </tbody>\n",
       "</table>\n",
       "<p>47905 rows × 2 columns</p>\n",
       "</div>"
      ],
      "text/plain": [
       "                                                  id  price\n",
       "name                                                       \n",
       " 1 Bed Apt in Utopic Williamsburg                  1      1\n",
       " 2-3 bedroom UWS garden triplex                    1      1\n",
       " 3 bedroom loft in Williamsburg                    1      1\n",
       " A charming Space in Brooklyn                      1      1\n",
       " AMAZING TIME SQUARE!!BRICK WALLS!!                1      1\n",
       "...                                               ..    ...\n",
       "한성 韓城 Han B (2F)                                   1      1\n",
       "한성 韓城 Han C (2F)                                   1      1\n",
       "️CENTRALLY LOCATED️- Great for Families + Groups   1      1\n",
       "ｳｨﾘｱﾑｽﾞﾊﾞｰｸﾞのかわいいお部屋です2                            1      1\n",
       "ﾏﾝﾊｯﾀﾝ､駅から徒歩4分でどこに行くのにも便利な場所!女性の方希望,ｷﾚｲなお部屋｡       1      1\n",
       "\n",
       "[47905 rows x 2 columns]"
      ]
     },
     "execution_count": 206,
     "metadata": {},
     "output_type": "execute_result"
    }
   ],
   "source": [
    "df[['id','name','price']].groupby(['name']).count()"
   ]
  },
  {
   "cell_type": "code",
   "execution_count": 214,
   "id": "cf2ed440",
   "metadata": {
    "ExecuteTime": {
     "end_time": "2022-07-24T18:22:38.095136Z",
     "start_time": "2022-07-24T18:22:38.088179Z"
    }
   },
   "outputs": [],
   "source": [
    "df['count_home']=1"
   ]
  },
  {
   "cell_type": "code",
   "execution_count": 219,
   "id": "8c98eff5",
   "metadata": {
    "ExecuteTime": {
     "end_time": "2022-07-24T18:24:40.338679Z",
     "start_time": "2022-07-24T18:24:40.247334Z"
    }
   },
   "outputs": [
    {
     "data": {
      "text/plain": [
       "380022985"
      ]
     },
     "execution_count": 219,
     "metadata": {},
     "output_type": "execute_result"
    }
   ],
   "source": [
    "df[['id','name','count_home']].groupby(['name']).sum('count_home').sort_values('count_home', ascending=False).reset_index(drop=True)['id'][0]"
   ]
  },
  {
   "cell_type": "code",
   "execution_count": 220,
   "id": "9d7360a0",
   "metadata": {
    "ExecuteTime": {
     "end_time": "2022-07-24T18:24:56.873142Z",
     "start_time": "2022-07-24T18:24:56.778635Z"
    }
   },
   "outputs": [
    {
     "data": {
      "text/html": [
       "<div>\n",
       "<style scoped>\n",
       "    .dataframe tbody tr th:only-of-type {\n",
       "        vertical-align: middle;\n",
       "    }\n",
       "\n",
       "    .dataframe tbody tr th {\n",
       "        vertical-align: top;\n",
       "    }\n",
       "\n",
       "    .dataframe thead th {\n",
       "        text-align: right;\n",
       "    }\n",
       "</style>\n",
       "<table border=\"1\" class=\"dataframe\">\n",
       "  <thead>\n",
       "    <tr style=\"text-align: right;\">\n",
       "      <th></th>\n",
       "      <th>id</th>\n",
       "      <th>count_home</th>\n",
       "    </tr>\n",
       "    <tr>\n",
       "      <th>name</th>\n",
       "      <th></th>\n",
       "      <th></th>\n",
       "    </tr>\n",
       "  </thead>\n",
       "  <tbody>\n",
       "    <tr>\n",
       "      <th>Hillside Hotel</th>\n",
       "      <td>380022985</td>\n",
       "      <td>18</td>\n",
       "    </tr>\n",
       "    <tr>\n",
       "      <th>Home away from home</th>\n",
       "      <td>457706744</td>\n",
       "      <td>17</td>\n",
       "    </tr>\n",
       "    <tr>\n",
       "      <th>New york Multi-unit building</th>\n",
       "      <td>420810751</td>\n",
       "      <td>16</td>\n",
       "    </tr>\n",
       "    <tr>\n",
       "      <th>Brooklyn Apartment</th>\n",
       "      <td>264207521</td>\n",
       "      <td>12</td>\n",
       "    </tr>\n",
       "    <tr>\n",
       "      <th>Private Room</th>\n",
       "      <td>260163016</td>\n",
       "      <td>11</td>\n",
       "    </tr>\n",
       "  </tbody>\n",
       "</table>\n",
       "</div>"
      ],
      "text/plain": [
       "                                     id  count_home\n",
       "name                                               \n",
       "Hillside Hotel                380022985          18\n",
       "Home away from home           457706744          17\n",
       "New york Multi-unit building  420810751          16\n",
       "Brooklyn Apartment            264207521          12\n",
       "Private Room                  260163016          11"
      ]
     },
     "execution_count": 220,
     "metadata": {},
     "output_type": "execute_result"
    }
   ],
   "source": [
    "df[['id','name','count_home']].groupby(['name']).sum('count_home').sort_values('count_home', ascending=False).head()"
   ]
  },
  {
   "cell_type": "markdown",
   "id": "3242984b",
   "metadata": {
    "ExecuteTime": {
     "end_time": "2022-07-24T08:44:08.013643Z",
     "start_time": "2022-07-24T08:44:08.006683Z"
    }
   },
   "source": [
    "## 4. Qual o `id` do imóvel que ficou mais tempo com o anúncio disponível, em dias, para locação na base de dados?"
   ]
  },
  {
   "cell_type": "code",
   "execution_count": 223,
   "id": "f9f6173f",
   "metadata": {
    "ExecuteTime": {
     "end_time": "2022-07-24T20:05:49.483210Z",
     "start_time": "2022-07-24T20:05:49.396703Z"
    }
   },
   "outputs": [
    {
     "data": {
      "text/html": [
       "<div>\n",
       "<style scoped>\n",
       "    .dataframe tbody tr th:only-of-type {\n",
       "        vertical-align: middle;\n",
       "    }\n",
       "\n",
       "    .dataframe tbody tr th {\n",
       "        vertical-align: top;\n",
       "    }\n",
       "\n",
       "    .dataframe thead th {\n",
       "        text-align: right;\n",
       "    }\n",
       "</style>\n",
       "<table border=\"1\" class=\"dataframe\">\n",
       "  <thead>\n",
       "    <tr style=\"text-align: right;\">\n",
       "      <th></th>\n",
       "      <th>id</th>\n",
       "      <th>count_home</th>\n",
       "      <th>availability_365</th>\n",
       "    </tr>\n",
       "    <tr>\n",
       "      <th>name</th>\n",
       "      <th></th>\n",
       "      <th></th>\n",
       "      <th></th>\n",
       "    </tr>\n",
       "  </thead>\n",
       "  <tbody>\n",
       "    <tr>\n",
       "      <th>Hillside Hotel</th>\n",
       "      <td>380022985</td>\n",
       "      <td>18</td>\n",
       "      <td>5957</td>\n",
       "    </tr>\n",
       "    <tr>\n",
       "      <th>Artsy Private BR in Fort Greene Cumberland</th>\n",
       "      <td>354614035</td>\n",
       "      <td>10</td>\n",
       "      <td>2977</td>\n",
       "    </tr>\n",
       "    <tr>\n",
       "      <th>New york Multi-unit building</th>\n",
       "      <td>420810751</td>\n",
       "      <td>16</td>\n",
       "      <td>2761</td>\n",
       "    </tr>\n",
       "    <tr>\n",
       "      <th>IN MINT CONDITION-STUDIOS EAST 44TH/UNITED NATIONS</th>\n",
       "      <td>124475222</td>\n",
       "      <td>6</td>\n",
       "      <td>2190</td>\n",
       "    </tr>\n",
       "    <tr>\n",
       "      <th>Home away from home</th>\n",
       "      <td>457706744</td>\n",
       "      <td>17</td>\n",
       "      <td>2097</td>\n",
       "    </tr>\n",
       "  </tbody>\n",
       "</table>\n",
       "</div>"
      ],
      "text/plain": [
       "                                                           id  count_home  \\\n",
       "name                                                                        \n",
       "Hillside Hotel                                      380022985          18   \n",
       "Artsy Private BR in Fort Greene Cumberland          354614035          10   \n",
       "New york Multi-unit building                        420810751          16   \n",
       "IN MINT CONDITION-STUDIOS EAST 44TH/UNITED NATIONS  124475222           6   \n",
       "Home away from home                                 457706744          17   \n",
       "\n",
       "                                                    availability_365  \n",
       "name                                                                  \n",
       "Hillside Hotel                                                  5957  \n",
       "Artsy Private BR in Fort Greene Cumberland                      2977  \n",
       "New york Multi-unit building                                    2761  \n",
       "IN MINT CONDITION-STUDIOS EAST 44TH/UNITED NATIONS              2190  \n",
       "Home away from home                                             2097  "
      ]
     },
     "execution_count": 223,
     "metadata": {},
     "output_type": "execute_result"
    }
   ],
   "source": [
    "df[['id','name','count_home','availability_365']].groupby(['name']).sum('count_home').sort_values('availability_365', ascending=False).head()"
   ]
  },
  {
   "cell_type": "code",
   "execution_count": 222,
   "id": "54e50a3a",
   "metadata": {
    "ExecuteTime": {
     "end_time": "2022-07-24T20:05:00.338146Z",
     "start_time": "2022-07-24T20:05:00.252217Z"
    },
    "hide_input": true
   },
   "outputs": [
    {
     "data": {
      "text/plain": [
       "380022985"
      ]
     },
     "execution_count": 222,
     "metadata": {},
     "output_type": "execute_result"
    }
   ],
   "source": [
    "df[['id','name','count_home','availability_365']].groupby(['name']).sum('count_home').sort_values('availability_365', ascending=False).reset_index(drop=True)['id'][0]"
   ]
  },
  {
   "cell_type": "markdown",
   "id": "71f9e743",
   "metadata": {
    "ExecuteTime": {
     "end_time": "2022-07-24T20:12:41.092901Z",
     "start_time": "2022-07-24T20:12:41.002547Z"
    }
   },
   "source": [
    "5. Qual o `id` do imóvel que ficou menos tempo com o anúncio disponível, em\n",
    "dias, para locação na base de dados?\n",
    "6. O imóvel com o maior valor de aluguel (diária) da base de dados é o imóvel\n",
    "que possui mais avaliações na base de dados?\n",
    "7. O imóvel que possui a menor quantidade mínima de diárias para locação é\n",
    "também o imóvel que possui o aluguel mais caro?\n",
    "8. Qual é a média de diárias mínimas para locação de um imóvel?\n",
    "9. Qual é o `id` do imóvel com a quantidade mínima de diárias para locação da\n",
    "base de dados?\n",
    "10.Qual é o `id` do host que possui o imóvel mais alugado na base de dados?\n",
    "11. Qual é o `id` do host que possui o imóvel menos alugado na base de dados?\n",
    "12.Qual é o `id` do host que possui o imóvel com mais avaliações na base de\n",
    "dados?\n",
    "13.Qual é o `id` do host que possui a maior quantidade de imóveis cadastrados\n",
    "na base de dados?\n",
    "14.Qual o `id` do host que possui o imóvel com a última avaliação feita na base\n",
    "de dados?\n",
    "15.Qual o `id` do host que possui mais imóveis ativos dentro da base de dados?\n",
    "16.O host que possui mais imóveis é o host que também possui mais\n",
    "avaliações?\n",
    "17.Qual é a categoria que mais possui imóveis dentro da base de dados?\n",
    "18.Qual é a categoria que menos possui imóveis dentro da base de dados?\n",
    "19.A região de Manhattan é a região que mais possui imóveis ativos para\n",
    "locação, da categoria `Private room`?\n",
    "20.Qual a categoria de imóvel que possui a maior média de tempo de\n",
    "disponibilidade para serem locados da região do `Bronx`? Considere somente\n",
    "imóveis ativos\n",
    "21.Qual a categoria de imóvel ativo que possui o maior valor de aluguel (diária)\n",
    "na região de `Manhattan`?\n",
    "22.A categoria de imóvel `Private Room` é a categoria que fica mais tempo\n",
    "disponível para locação?\n",
    "23.Qual a categoria de imóvel que fica mais tempo disponível, na média, para\n",
    "locação?\n",
    "Alessandra De Assis Barbosa - a.deabarbosa@gmail.com - IP: 101.56.1.1"
   ]
  },
  {
   "cell_type": "markdown",
   "id": "924fd381",
   "metadata": {},
   "source": [
    "24.A categoria de imóvel que fica menos tempo disponível, na média, para\n",
    "locação é a categoria que possui, em média, o menor aluguel (diária)?\n",
    "25.A categoria de imóvel `Entire home/apt` é a categoria que possui, na média, o\n",
    "maior valor de aluguel?\n",
    "26.A categoria de imóvel `Entire home/apt` é a categoria que possui, na média,\n",
    "menos locações?\n",
    "27.A categoria de imóvel `Private Room` na região de `Manhattan`, na média, é\n",
    "a categoria que possui o menor valor (diária) de locação, comparado as\n",
    "outras categorias na mesma região?\n",
    "28.Qual a região que possui a maior quantidade de imóveis?\n",
    "29.Qual a região que possui a menor quantidade de imóveis?\n",
    "30.A região que possui a maior quantidade de imóveis é também a região que\n",
    "possui os imóveis mais locados?\n",
    "31.Qual a região que possui a menor quantidade de imóveis locados dentro da\n",
    "base de dados?\n",
    "32.A região de `Manhattan` é a região que possui, na média, os maiores\n",
    "aluguéis (diárias) dentro da base de dados?\n",
    "33.A região de `Queens` é a região que possui, na média, os menores aluguéis\n",
    "(diárias) dentro da base de dados?\n",
    "34.Qual a região que possui, na média, os imóveis com os menores aluguéis\n",
    "dentro da base de dados?\n",
    "35.Qual a região que possui os imóveis que ficam, na média, menos tempo\n",
    "disponíveis para aluguel? Ou seja, são alugados mais rápidos na média?\n",
    "36.Qual o bairro possui a maior quantidade de imóveis ativos para locação?\n",
    "37.Qual o bairro possui a menor quantidade de imóveis ativos para locação?\n",
    "38.Qual o bairro, e de qual região é esse bairro, que possui o imovel com o\n",
    "maior valor de aluguel?\n",
    "39.Qual o bairro, e de qual região é esse bairro, que possui o imovel com o\n",
    "menor valor de aluguel?\n",
    "40.Qual região que possui o bairro com mais imóveis ativos disponíveis para\n",
    "locação?\n",
    "41.Qual região que possui o bairro com menos imóveis ativos disponíveis para\n",
    "locação?\n",
    "Alessandra De Assis Barbosa - a.deabarbosa@gmail.com - IP: 101.56.1.11\n",
    "42.O Bairro `Upper West Side`, na região de `Manhattan`, é o bairro que possui,\n",
    "na média, o maior aluguel dentro da base de dados?\n",
    "43.Qual é o bairro que possui, na média, o aluguel mais caro da base de dados?\n",
    "44.Qual o melhor bairro para se adquirir um imóvel, visando o maior valor de\n",
    "aluguel, quantidade de revisões feitas ao longo do tempo e quantidade de\n",
    "revisões mensais? Utilize a seguinte fórmula para verificar qual o melhor\n",
    "imóvel:\n",
    "𝑟𝑒𝑛𝑡𝑎𝑏𝑖𝑙𝑖𝑑𝑎𝑑𝑒 =\n",
    "𝑝𝑟𝑖𝑐𝑒 * (𝑚𝑖𝑛𝑖𝑚𝑢𝑚_𝑛𝑖𝑔ℎ𝑡𝑠 + 1) * 𝑛𝑢𝑚𝑏𝑒𝑟_𝑜𝑓_𝑟𝑒𝑣𝑖𝑒𝑤𝑠\n",
    "𝑎𝑣𝑎𝑖𝑙𝑎𝑏𝑖𝑙𝑖𝑡𝑦_365\n",
    "45.Qual a região em que fica o melhor bairro para se adquirir um imóvel, visando\n",
    "a melhor rentabilidade média? Utilize como métrica o índice criado na\n",
    "questão anterior.\n",
    "46.Qual a região em que fica o pior bairro para se adquirir um imóvel, visando a\n",
    "melhor rentabilidade média? Utilize como métrica o índice criado na questão\n",
    "44.\n",
    "47.Levando em conta o bairro encontrado na questão anterior, verifique qual é o\n",
    "`id` do imóvel ativo que possui a pior rentabilidade desse bairro\n",
    "48.Levando em conta o bairro encontrado na questão 45, verifique qual o id do\n",
    "imóvel ativo que possui a melhor rentabilidade desse bairro\n",
    "49.Caso eu, investidor, compre o imóvel da questão anterior com um\n",
    "investimento de U$ 1.000.000,00, quantas vezes eu teria que locá-lo para ter\n",
    "o retorno do investimento feito? Utilize a fórmula abaixo para calcular o tempo\n",
    "de retorno do investimento\n",
    "𝑟𝑒𝑡𝑢𝑟𝑛_𝑖𝑛𝑣𝑒𝑠𝑡𝑚𝑒𝑛𝑡 =\n",
    "𝑖𝑛𝑣𝑒𝑠𝑡𝑚𝑒𝑛𝑡\n",
    "𝑝𝑟𝑖𝑐𝑒 * (𝑚𝑖𝑛𝑖𝑚𝑢𝑚_𝑛𝑖𝑔ℎ𝑡𝑠 + 1)\n",
    "50.Se eu desejasse comprar um imóvel que esteja ativo em um dos bairros\n",
    "abaixo, qual seria o `id` do imóvel com a melhor rentabilidade dentre esses\n",
    "bairros? Utilize o índice calculado na questão 44.\n",
    "● East Harlem\n",
    "● Harlem\n",
    "● Midtown\n",
    "● Morningside Heights\n",
    "Alessandra De Assis Barbosa - a.deabarbosa@gmail.com - IP: 101.56.1.11\n",
    "● Upper West Side\n",
    "● Upper East Side\n",
    "Para responder às perguntas, que contenham mais de um imóvel como resposta,\n",
    "selecione sempre o imóvel que for mais antigo no Dataset. Ou seja, o imóvel que\n",
    "possui a coluna “id” menor.11"
   ]
  },
  {
   "cell_type": "code",
   "execution_count": null,
   "id": "b061f88c",
   "metadata": {},
   "outputs": [],
   "source": []
  }
 ],
 "metadata": {
  "hide_input": false,
  "kernelspec": {
   "display_name": "Python 3 (ipykernel)",
   "language": "python",
   "name": "python3"
  },
  "language_info": {
   "codemirror_mode": {
    "name": "ipython",
    "version": 3
   },
   "file_extension": ".py",
   "mimetype": "text/x-python",
   "name": "python",
   "nbconvert_exporter": "python",
   "pygments_lexer": "ipython3",
   "version": "3.8.13"
  },
  "latex_envs": {
   "LaTeX_envs_menu_present": true,
   "autoclose": false,
   "autocomplete": true,
   "bibliofile": "biblio.bib",
   "cite_by": "apalike",
   "current_citInitial": 1,
   "eqLabelWithNumbers": true,
   "eqNumInitial": 1,
   "hotkeys": {
    "equation": "Ctrl-E",
    "itemize": "Ctrl-I"
   },
   "labels_anchors": false,
   "latex_user_defs": false,
   "report_style_numbering": false,
   "user_envs_cfg": false
  },
  "nbTranslate": {
   "displayLangs": [
    "*"
   ],
   "hotkey": "alt-t",
   "langInMainMenu": true,
   "sourceLang": "en",
   "targetLang": "fr",
   "useGoogleTranslate": true
  },
  "toc": {
   "base_numbering": "0",
   "nav_menu": {},
   "number_sections": true,
   "sideBar": true,
   "skip_h1_title": false,
   "title_cell": "Table of Contents",
   "title_sidebar": "Contents",
   "toc_cell": false,
   "toc_position": {
    "height": "calc(100% - 180px)",
    "left": "10px",
    "top": "150px",
    "width": "411px"
   },
   "toc_section_display": true,
   "toc_window_display": true
  }
 },
 "nbformat": 4,
 "nbformat_minor": 5
}
