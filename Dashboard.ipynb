{
 "cells": [
  {
   "cell_type": "markdown",
   "id": "1d2f67c5",
   "metadata": {},
   "source": [
    "# CEO Questions "
   ]
  },
  {
   "cell_type": "markdown",
   "id": "f217abff",
   "metadata": {},
   "source": [
    "## Business question\n",
    "1. What are the properties that House Rocket should i buy it and at what price?\n",
    "2. Once the house is purchased, what is the best when to sell them and at what price?"
   ]
  },
  {
   "cell_type": "markdown",
   "id": "50a15ce5",
   "metadata": {},
   "source": [
    "## Imports"
   ]
  },
  {
   "cell_type": "code",
   "execution_count": 75,
   "id": "b7f460fe",
   "metadata": {
    "ExecuteTime": {
     "end_time": "2022-05-02T09:28:24.449807Z",
     "start_time": "2022-05-02T09:28:24.442971Z"
    }
   },
   "outputs": [],
   "source": [
    "import numpy as np\n",
    "import pandas as pd\n",
    "import seaborn as sns\n",
    "from matplotlib import gridspec\n",
    "from matplotlib import pyplot as plt\n",
    "import ipywidgets as widgets\n",
    "import plotly.express as px\n",
    "from ipywidgets import interact, interactive, fixed, interact_manual\n",
    "from geopy.geocoders import Nominatim\n",
    "import missingno                                   as msno\n"
   ]
  },
  {
   "cell_type": "markdown",
   "id": "d370a4d0",
   "metadata": {},
   "source": [
    "### Auxiliary functions "
   ]
  },
  {
   "cell_type": "code",
   "execution_count": 76,
   "id": "9b73dffc",
   "metadata": {
    "ExecuteTime": {
     "end_time": "2022-05-02T09:28:25.139223Z",
     "start_time": "2022-05-02T09:28:25.133367Z"
    }
   },
   "outputs": [],
   "source": [
    "## # Supress Scientific Notation\n",
    "\n",
    "np.set_printoptions(suppress=True)\n",
    "pd.set_option('display.float_format', '{:.2f}'.format)"
   ]
  },
  {
   "cell_type": "markdown",
   "id": "b49fc34f",
   "metadata": {},
   "source": [
    "## Loading data"
   ]
  },
  {
   "cell_type": "code",
   "execution_count": 77,
   "id": "e57dcf6b",
   "metadata": {
    "ExecuteTime": {
     "end_time": "2022-05-02T09:28:26.123735Z",
     "start_time": "2022-05-02T09:28:26.067121Z"
    }
   },
   "outputs": [],
   "source": [
    "df=pd.read_csv('Datasets/kc_house_data.csv',parse_dates=[1,14])"
   ]
  },
  {
   "cell_type": "markdown",
   "id": "fd4e3d26",
   "metadata": {},
   "source": [
    "## Dataset info"
   ]
  },
  {
   "cell_type": "code",
   "execution_count": 78,
   "id": "dc36c77b",
   "metadata": {
    "ExecuteTime": {
     "end_time": "2022-05-02T09:28:27.185195Z",
     "start_time": "2022-05-02T09:28:27.171502Z"
    },
    "scrolled": true
   },
   "outputs": [
    {
     "data": {
      "text/html": [
       "<div>\n",
       "<style scoped>\n",
       "    .dataframe tbody tr th:only-of-type {\n",
       "        vertical-align: middle;\n",
       "    }\n",
       "\n",
       "    .dataframe tbody tr th {\n",
       "        vertical-align: top;\n",
       "    }\n",
       "\n",
       "    .dataframe thead th {\n",
       "        text-align: right;\n",
       "    }\n",
       "</style>\n",
       "<table border=\"1\" class=\"dataframe\">\n",
       "  <thead>\n",
       "    <tr style=\"text-align: right;\">\n",
       "      <th></th>\n",
       "      <th>id</th>\n",
       "      <th>date</th>\n",
       "      <th>price</th>\n",
       "      <th>bedrooms</th>\n",
       "      <th>bathrooms</th>\n",
       "      <th>sqft_living</th>\n",
       "      <th>sqft_lot</th>\n",
       "      <th>floors</th>\n",
       "      <th>waterfront</th>\n",
       "      <th>view</th>\n",
       "      <th>...</th>\n",
       "      <th>grade</th>\n",
       "      <th>sqft_above</th>\n",
       "      <th>sqft_basement</th>\n",
       "      <th>yr_built</th>\n",
       "      <th>yr_renovated</th>\n",
       "      <th>zipcode</th>\n",
       "      <th>lat</th>\n",
       "      <th>long</th>\n",
       "      <th>sqft_living15</th>\n",
       "      <th>sqft_lot15</th>\n",
       "    </tr>\n",
       "  </thead>\n",
       "  <tbody>\n",
       "    <tr>\n",
       "      <th>0</th>\n",
       "      <td>7129300520</td>\n",
       "      <td>2014-10-13</td>\n",
       "      <td>221900.00</td>\n",
       "      <td>3</td>\n",
       "      <td>1.00</td>\n",
       "      <td>1180</td>\n",
       "      <td>5650</td>\n",
       "      <td>1.00</td>\n",
       "      <td>0</td>\n",
       "      <td>0</td>\n",
       "      <td>...</td>\n",
       "      <td>7</td>\n",
       "      <td>1180</td>\n",
       "      <td>0</td>\n",
       "      <td>1955-01-01</td>\n",
       "      <td>0</td>\n",
       "      <td>98178</td>\n",
       "      <td>47.51</td>\n",
       "      <td>-122.26</td>\n",
       "      <td>1340</td>\n",
       "      <td>5650</td>\n",
       "    </tr>\n",
       "    <tr>\n",
       "      <th>1</th>\n",
       "      <td>6414100192</td>\n",
       "      <td>2014-12-09</td>\n",
       "      <td>538000.00</td>\n",
       "      <td>3</td>\n",
       "      <td>2.25</td>\n",
       "      <td>2570</td>\n",
       "      <td>7242</td>\n",
       "      <td>2.00</td>\n",
       "      <td>0</td>\n",
       "      <td>0</td>\n",
       "      <td>...</td>\n",
       "      <td>7</td>\n",
       "      <td>2170</td>\n",
       "      <td>400</td>\n",
       "      <td>1951-01-01</td>\n",
       "      <td>1991</td>\n",
       "      <td>98125</td>\n",
       "      <td>47.72</td>\n",
       "      <td>-122.32</td>\n",
       "      <td>1690</td>\n",
       "      <td>7639</td>\n",
       "    </tr>\n",
       "    <tr>\n",
       "      <th>2</th>\n",
       "      <td>5631500400</td>\n",
       "      <td>2015-02-25</td>\n",
       "      <td>180000.00</td>\n",
       "      <td>2</td>\n",
       "      <td>1.00</td>\n",
       "      <td>770</td>\n",
       "      <td>10000</td>\n",
       "      <td>1.00</td>\n",
       "      <td>0</td>\n",
       "      <td>0</td>\n",
       "      <td>...</td>\n",
       "      <td>6</td>\n",
       "      <td>770</td>\n",
       "      <td>0</td>\n",
       "      <td>1933-01-01</td>\n",
       "      <td>0</td>\n",
       "      <td>98028</td>\n",
       "      <td>47.74</td>\n",
       "      <td>-122.23</td>\n",
       "      <td>2720</td>\n",
       "      <td>8062</td>\n",
       "    </tr>\n",
       "    <tr>\n",
       "      <th>3</th>\n",
       "      <td>2487200875</td>\n",
       "      <td>2014-12-09</td>\n",
       "      <td>604000.00</td>\n",
       "      <td>4</td>\n",
       "      <td>3.00</td>\n",
       "      <td>1960</td>\n",
       "      <td>5000</td>\n",
       "      <td>1.00</td>\n",
       "      <td>0</td>\n",
       "      <td>0</td>\n",
       "      <td>...</td>\n",
       "      <td>7</td>\n",
       "      <td>1050</td>\n",
       "      <td>910</td>\n",
       "      <td>1965-01-01</td>\n",
       "      <td>0</td>\n",
       "      <td>98136</td>\n",
       "      <td>47.52</td>\n",
       "      <td>-122.39</td>\n",
       "      <td>1360</td>\n",
       "      <td>5000</td>\n",
       "    </tr>\n",
       "    <tr>\n",
       "      <th>4</th>\n",
       "      <td>1954400510</td>\n",
       "      <td>2015-02-18</td>\n",
       "      <td>510000.00</td>\n",
       "      <td>3</td>\n",
       "      <td>2.00</td>\n",
       "      <td>1680</td>\n",
       "      <td>8080</td>\n",
       "      <td>1.00</td>\n",
       "      <td>0</td>\n",
       "      <td>0</td>\n",
       "      <td>...</td>\n",
       "      <td>8</td>\n",
       "      <td>1680</td>\n",
       "      <td>0</td>\n",
       "      <td>1987-01-01</td>\n",
       "      <td>0</td>\n",
       "      <td>98074</td>\n",
       "      <td>47.62</td>\n",
       "      <td>-122.05</td>\n",
       "      <td>1800</td>\n",
       "      <td>7503</td>\n",
       "    </tr>\n",
       "  </tbody>\n",
       "</table>\n",
       "<p>5 rows × 21 columns</p>\n",
       "</div>"
      ],
      "text/plain": [
       "           id       date     price  bedrooms  bathrooms  sqft_living  \\\n",
       "0  7129300520 2014-10-13 221900.00         3       1.00         1180   \n",
       "1  6414100192 2014-12-09 538000.00         3       2.25         2570   \n",
       "2  5631500400 2015-02-25 180000.00         2       1.00          770   \n",
       "3  2487200875 2014-12-09 604000.00         4       3.00         1960   \n",
       "4  1954400510 2015-02-18 510000.00         3       2.00         1680   \n",
       "\n",
       "   sqft_lot  floors  waterfront  view  ...  grade  sqft_above  sqft_basement  \\\n",
       "0      5650    1.00           0     0  ...      7        1180              0   \n",
       "1      7242    2.00           0     0  ...      7        2170            400   \n",
       "2     10000    1.00           0     0  ...      6         770              0   \n",
       "3      5000    1.00           0     0  ...      7        1050            910   \n",
       "4      8080    1.00           0     0  ...      8        1680              0   \n",
       "\n",
       "    yr_built yr_renovated  zipcode   lat    long  sqft_living15  sqft_lot15  \n",
       "0 1955-01-01            0    98178 47.51 -122.26           1340        5650  \n",
       "1 1951-01-01         1991    98125 47.72 -122.32           1690        7639  \n",
       "2 1933-01-01            0    98028 47.74 -122.23           2720        8062  \n",
       "3 1965-01-01            0    98136 47.52 -122.39           1360        5000  \n",
       "4 1987-01-01            0    98074 47.62 -122.05           1800        7503  \n",
       "\n",
       "[5 rows x 21 columns]"
      ]
     },
     "execution_count": 78,
     "metadata": {},
     "output_type": "execute_result"
    }
   ],
   "source": [
    "df.head()"
   ]
  },
  {
   "cell_type": "code",
   "execution_count": 79,
   "id": "4b10b294",
   "metadata": {
    "ExecuteTime": {
     "end_time": "2022-05-02T09:28:28.237385Z",
     "start_time": "2022-05-02T09:28:28.222711Z"
    },
    "cell_style": "center"
   },
   "outputs": [
    {
     "name": "stdout",
     "output_type": "stream",
     "text": [
      "<class 'pandas.core.frame.DataFrame'>\n",
      "RangeIndex: 21613 entries, 0 to 21612\n",
      "Data columns (total 21 columns):\n",
      " #   Column         Non-Null Count  Dtype         \n",
      "---  ------         --------------  -----         \n",
      " 0   id             21613 non-null  int64         \n",
      " 1   date           21613 non-null  datetime64[ns]\n",
      " 2   price          21613 non-null  float64       \n",
      " 3   bedrooms       21613 non-null  int64         \n",
      " 4   bathrooms      21613 non-null  float64       \n",
      " 5   sqft_living    21613 non-null  int64         \n",
      " 6   sqft_lot       21613 non-null  int64         \n",
      " 7   floors         21613 non-null  float64       \n",
      " 8   waterfront     21613 non-null  int64         \n",
      " 9   view           21613 non-null  int64         \n",
      " 10  condition      21613 non-null  int64         \n",
      " 11  grade          21613 non-null  int64         \n",
      " 12  sqft_above     21613 non-null  int64         \n",
      " 13  sqft_basement  21613 non-null  int64         \n",
      " 14  yr_built       21613 non-null  datetime64[ns]\n",
      " 15  yr_renovated   21613 non-null  int64         \n",
      " 16  zipcode        21613 non-null  int64         \n",
      " 17  lat            21613 non-null  float64       \n",
      " 18  long           21613 non-null  float64       \n",
      " 19  sqft_living15  21613 non-null  int64         \n",
      " 20  sqft_lot15     21613 non-null  int64         \n",
      "dtypes: datetime64[ns](2), float64(5), int64(14)\n",
      "memory usage: 3.5 MB\n"
     ]
    }
   ],
   "source": [
    "df.info()"
   ]
  },
  {
   "cell_type": "markdown",
   "id": "bb59a478",
   "metadata": {},
   "source": [
    "### Change types"
   ]
  },
  {
   "cell_type": "code",
   "execution_count": 80,
   "id": "0687892b",
   "metadata": {
    "ExecuteTime": {
     "end_time": "2022-05-02T09:28:32.306485Z",
     "start_time": "2022-05-02T09:28:32.140345Z"
    }
   },
   "outputs": [],
   "source": [
    "df['yr_renovated'] = df['yr_renovated'].apply( lambda x: pd.to_datetime( x,format='%Y') if x > 0 else x )"
   ]
  },
  {
   "cell_type": "markdown",
   "id": "7c3c5ccc",
   "metadata": {
    "ExecuteTime": {
     "end_time": "2022-04-29T10:21:16.597128Z",
     "start_time": "2022-04-29T10:21:16.580310Z"
    }
   },
   "source": [
    "| Attributes     | Meaning                                                                                                                                                                                              |\n",
    "|----------------|------------------------------------------------------------------------------------------------------------------------------------------------------------------------------------------------------|\n",
    "| id             | Unique ID for each home sold                                                                                                                                                                         |\n",
    "| date           | Date of the home sale                                                                                                                                                                                |\n",
    "| price          | Price of each home sold                                                                                                                                                                              |\n",
    "| bedrooms       | Number of bedrooms                                                                                                                                                                                   |\n",
    "| bathrooms      | Number of bathrooms, where .5 accounts for a room with a toilet but no shower                                                                                                                        |\n",
    "| sqft_living    | Square footage of the apartments interior living space                                                                                                                                               |\n",
    "| sqft_lot       | Square footage of the land space                                                                                                                                                                     |\n",
    "| floors         | Number of floors                                                                                                                                                                                     |\n",
    "| waterfront     | A dummy variable for whether the apartment was overlooking the waterfront or not                                                                                                                     |\n",
    "| view           | An index from 0 to 4 of how good the view of the property was                                                                                                                                        |\n",
    "| condition      | An index from 1 to 5 on the condition of the apartment                                                                                                                                               |\n",
    "| grade          | An index from 1 to 13, where 1-3 falls short of building construction and design, 7 has an average level of construction and design, and 11-13 have a high quality level of construction and design. |\n",
    "| sqft_above     | The square footage of the interior housing space that is above ground level                                                                                                                          |\n",
    "| sqft_basement  | The square footage of the interior housing space that is below ground level                                                                                                                          |\n",
    "| yr_built       | The year the house was initially built                                                                                                                                                               |\n",
    "| yr_renovated   | The year of the house’s last renovation                                                                                                                                                              |\n",
    "| zipcode        | What zipcode area the house is in                                                                                                                                                                    |\n",
    "| sqft_living15  | The square footage of interior housing living space for the nearest 15 neighbors                                                                                                                     |\n",
    "| sqft_lot15     | The square footage of the land lots of the nearest 15 neighbors    "
   ]
  },
  {
   "cell_type": "markdown",
   "id": "7ab30ec2",
   "metadata": {},
   "source": [
    "## Insights"
   ]
  },
  {
   "cell_type": "markdown",
   "id": "6282bcb2",
   "metadata": {},
   "source": [
    "1. How many homes are available for purchase?\n",
    "2. How many attributes do houses have?\n",
    "3. What are the attributes of the houses?\n",
    "4. What is the most expensive house (house with the highest sale value)?\n",
    "5. Which house has the most rooms?\n",
    "6. What is the sum total of quarters in the dataset?\n",
    "7. How many houses have 2 bathrooms?\n",
    "8. What is the average price of all houses in the dataset?\n",
    "9. What is the average price of 2 bathroom homes?\n",
    "10. What is the minimum price for 3 bedroom homes?\n",
    "11. How many houses have more than 300 square meters in the living room?\n",
    "Of being?\n",
    "12. How many houses have more than 2 floors?\n",
    "13. How many houses have a sea view?\n",
    "14. Of the houses with sea views, how many have 3 bedrooms?\n",
    "15. Of the houses with more than 300 square meters of living room,\n",
    "how many have more than 2 bathrooms?"
   ]
  },
  {
   "cell_type": "code",
   "execution_count": 81,
   "id": "e6e86874",
   "metadata": {
    "ExecuteTime": {
     "end_time": "2022-05-02T09:28:34.930662Z",
     "start_time": "2022-05-02T09:28:34.925750Z"
    },
    "cell_style": "center",
    "scrolled": true
   },
   "outputs": [
    {
     "name": "stdout",
     "output_type": "stream",
     "text": [
      "Number of houses available for purchase: 21613\n",
      "Features by house: 21\n"
     ]
    }
   ],
   "source": [
    "print( 'Number of houses available for purchase: {}'.format( df.shape[0] ) )\n",
    "print( 'Features by house: {}'.format( df.shape[1] ) )"
   ]
  },
  {
   "cell_type": "code",
   "execution_count": 82,
   "id": "67446100",
   "metadata": {
    "ExecuteTime": {
     "end_time": "2022-05-02T09:28:35.555862Z",
     "start_time": "2022-05-02T09:28:35.515845Z"
    }
   },
   "outputs": [
    {
     "name": "stdout",
     "output_type": "stream",
     "text": [
      "Features by house: 7129300520\n",
      "Features by house: 2402100895\n",
      "summ bedrooms: 72854\n",
      "Total number of houses with 2 bathrooms: 1930\n",
      "Average Price: $540088.14\n",
      "Average Price: $457889.72\n",
      "Min Price: $82000.0\n",
      "There are 21612 Houses with living room grater than 300 square foot\n",
      "There are 782 Houses with the number of floors grater than 2\n",
      "There are 10680 Houses with the number of floors grater than 2\n",
      "There are 127 Houses with waterfront and bedrooms greater then 3\n",
      "There are 11242 Houses with living room greater than 300 and bathrooms bigger than 2\n"
     ]
    }
   ],
   "source": [
    "house_expensive_id = df[['id', 'price']].sort_values('price', ascending=False ).loc[0,'id']\n",
    "print( 'Features by house: {}'.format( house_expensive_id) )\n",
    "house_bedrooms_id = df[['id', 'bedrooms']].sort_values('bedrooms', ascending=False ).iloc[0,0]\n",
    "print( 'Features by house: {}'.format( house_bedrooms_id) )\n",
    "print( 'summ bedrooms: {}'.format( df['bedrooms'].sum() ))\n",
    "data = df.loc[df['bathrooms'] == 2, :]\n",
    "num_houses = len( data )\n",
    "print( 'Total number of houses with 2 bathrooms: {}'.format( num_houses ) )\n",
    "avg_price = np.round( df['price'].mean(), 2 )\n",
    "print( 'Average Price: ${}'.format( avg_price ) )\n",
    "avg_price = np.round( data.loc[data['bathrooms'] == 2, 'price'].mean(), 2 )\n",
    "print( 'Average Price: ${}'.format( avg_price ) )\n",
    "min_price = np.round( df.loc[df['bedrooms'] == 3, 'price'].min(), 2 )\n",
    "print( 'Min Price: ${}'.format( min_price ))\n",
    "houses = df.loc[df['sqft_living'] > 300, 'id'].shape[0]\n",
    "print( 'There are {} Houses with living room grater than 300 square foot'.format( houses ) )\n",
    "houses = df.loc[df['floors'] > 2, 'id'].shape[0]\n",
    "print( 'There are {} Houses with the number of floors grater than 2'.format(houses ) )\n",
    "houses = df.loc[df['floors'] == 1, 'id'].shape[0]\n",
    "print( 'There are {} Houses with the number of floors grater than 2'.format(houses ) )\n",
    "houses = df.loc[(df['waterfront'] == 1) & (df['bedrooms'] > 2), 'id'].shape[0]\n",
    "print( 'There are {} Houses with waterfront and bedrooms greater then 3'.format( houses ) )\n",
    "houses = df.loc[(df['sqft_living'] > 300) & (df['bathrooms'] > 2), 'id'].shape[0]\n",
    "print( 'There are {} Houses with living room greater than 300 and bathrooms bigger than 2'.format( houses ) )\n"
   ]
  },
  {
   "cell_type": "markdown",
   "id": "29f318db",
   "metadata": {},
   "source": [
    "## Feature engineering"
   ]
  },
  {
   "cell_type": "code",
   "execution_count": 153,
   "id": "17bfc790",
   "metadata": {
    "ExecuteTime": {
     "end_time": "2022-05-02T09:52:59.814706Z",
     "start_time": "2022-05-02T09:52:59.805942Z"
    }
   },
   "outputs": [],
   "source": [
    "df['is_waterfront'] = df['waterfront'].apply( lambda x: 'yes' if x == 1 else 'no' )"
   ]
  },
  {
   "cell_type": "markdown",
   "id": "5f8cdcaa",
   "metadata": {},
   "source": [
    "### “house_age”\n",
    "- Se o valor da coluna “date” for maior que 2014-01-01 => ‘new_house’\n",
    "- Se o valor da coluna “date” for menor que 2014-01-01 => ‘old_house’\n"
   ]
  },
  {
   "cell_type": "code",
   "execution_count": 154,
   "id": "9e826348",
   "metadata": {
    "ExecuteTime": {
     "end_time": "2022-05-02T09:53:03.208967Z",
     "start_time": "2022-05-02T09:53:03.198197Z"
    },
    "scrolled": true
   },
   "outputs": [],
   "source": [
    "df['house_age'] = 'NA'\n",
    "df.loc[df['date'] > '2015-01-01', 'house_age'] = 'new_house'\n",
    "df.loc[df['date'] < '2015-01-01', 'house_age'] = 'old_house'"
   ]
  },
  {
   "cell_type": "code",
   "execution_count": 155,
   "id": "fc407a4c",
   "metadata": {
    "ExecuteTime": {
     "end_time": "2022-05-02T09:53:04.985813Z",
     "start_time": "2022-05-02T09:53:04.963366Z"
    }
   },
   "outputs": [
    {
     "data": {
      "text/html": [
       "<div>\n",
       "<style scoped>\n",
       "    .dataframe tbody tr th:only-of-type {\n",
       "        vertical-align: middle;\n",
       "    }\n",
       "\n",
       "    .dataframe tbody tr th {\n",
       "        vertical-align: top;\n",
       "    }\n",
       "\n",
       "    .dataframe thead th {\n",
       "        text-align: right;\n",
       "    }\n",
       "</style>\n",
       "<table border=\"1\" class=\"dataframe\">\n",
       "  <thead>\n",
       "    <tr style=\"text-align: right;\">\n",
       "      <th></th>\n",
       "      <th>house_age</th>\n",
       "      <th>sqft_living</th>\n",
       "      <th>price</th>\n",
       "    </tr>\n",
       "  </thead>\n",
       "  <tbody>\n",
       "    <tr>\n",
       "      <th>0</th>\n",
       "      <td>new_house</td>\n",
       "      <td>2041.29</td>\n",
       "      <td>541988.99</td>\n",
       "    </tr>\n",
       "    <tr>\n",
       "      <th>1</th>\n",
       "      <td>old_house</td>\n",
       "      <td>2098.32</td>\n",
       "      <td>539181.43</td>\n",
       "    </tr>\n",
       "  </tbody>\n",
       "</table>\n",
       "</div>"
      ],
      "text/plain": [
       "   house_age  sqft_living     price\n",
       "0  new_house      2041.29 541988.99\n",
       "1  old_house      2098.32 539181.43"
      ]
     },
     "execution_count": 155,
     "metadata": {},
     "output_type": "execute_result"
    }
   ],
   "source": [
    "df[['house_age','sqft_living','price']].groupby('house_age').mean().reset_index()"
   ]
  },
  {
   "cell_type": "markdown",
   "id": "c8dc8f30",
   "metadata": {},
   "source": [
    "### “dormitory_type”\n",
    "- Se o valor da coluna “bedrooms” for igual à 1 => ‘studio’\n",
    "- Se o valor da coluna “bedrooms” for igual a 2 => ‘apartament’\n",
    "- Se o valor da coluna “bedrooms” for maior que 2 => ‘house’\n"
   ]
  },
  {
   "cell_type": "code",
   "execution_count": 156,
   "id": "7d4c6232",
   "metadata": {
    "ExecuteTime": {
     "end_time": "2022-05-02T09:53:07.921138Z",
     "start_time": "2022-05-02T09:53:05.993953Z"
    }
   },
   "outputs": [],
   "source": [
    "df['dormitory_type'] = 'NA'\n",
    "for i in range( len( df ) ):\n",
    "    if df.loc[i, 'bedrooms'] <= 1:\n",
    "        df.loc[i, 'dormitory_type'] = 'studio'\n",
    "        \n",
    "    elif df.loc[i, 'bedrooms'] <= 2:\n",
    "        df.loc[i, 'dormitory_type'] = 'apartment'\n",
    "        \n",
    "    elif df.loc[i, 'bedrooms'] > 2:\n",
    "        df.loc[i, 'dormitory_type'] = 'house'"
   ]
  },
  {
   "cell_type": "code",
   "execution_count": 157,
   "id": "5039b422",
   "metadata": {
    "ExecuteTime": {
     "end_time": "2022-05-02T09:53:07.940372Z",
     "start_time": "2022-05-02T09:53:07.922804Z"
    }
   },
   "outputs": [
    {
     "data": {
      "text/html": [
       "<div>\n",
       "<style scoped>\n",
       "    .dataframe tbody tr th:only-of-type {\n",
       "        vertical-align: middle;\n",
       "    }\n",
       "\n",
       "    .dataframe tbody tr th {\n",
       "        vertical-align: top;\n",
       "    }\n",
       "\n",
       "    .dataframe thead th {\n",
       "        text-align: right;\n",
       "    }\n",
       "</style>\n",
       "<table border=\"1\" class=\"dataframe\">\n",
       "  <thead>\n",
       "    <tr style=\"text-align: right;\">\n",
       "      <th></th>\n",
       "      <th>dormitory_type</th>\n",
       "      <th>sqft_living</th>\n",
       "      <th>price</th>\n",
       "    </tr>\n",
       "  </thead>\n",
       "  <tbody>\n",
       "    <tr>\n",
       "      <th>0</th>\n",
       "      <td>apartment</td>\n",
       "      <td>1239.75</td>\n",
       "      <td>401372.68</td>\n",
       "    </tr>\n",
       "    <tr>\n",
       "      <th>1</th>\n",
       "      <td>house</td>\n",
       "      <td>2217.31</td>\n",
       "      <td>563092.21</td>\n",
       "    </tr>\n",
       "    <tr>\n",
       "      <th>2</th>\n",
       "      <td>studio</td>\n",
       "      <td>935.09</td>\n",
       "      <td>323275.87</td>\n",
       "    </tr>\n",
       "  </tbody>\n",
       "</table>\n",
       "</div>"
      ],
      "text/plain": [
       "  dormitory_type  sqft_living     price\n",
       "0      apartment      1239.75 401372.68\n",
       "1          house      2217.31 563092.21\n",
       "2         studio       935.09 323275.87"
      ]
     },
     "execution_count": 157,
     "metadata": {},
     "output_type": "execute_result"
    }
   ],
   "source": [
    "df[['dormitory_type','sqft_living','price']].groupby('dormitory_type').mean().reset_index()"
   ]
  },
  {
   "cell_type": "markdown",
   "id": "c421b39e",
   "metadata": {
    "ExecuteTime": {
     "end_time": "2021-08-27T18:23:10.690279Z",
     "start_time": "2021-08-27T18:23:10.682837Z"
    }
   },
   "source": [
    "### “condition_type”\n",
    "- Se o valor da coluna “condition” for menor ou igual à 2 => ‘bad’\n",
    "- Se o valor da coluna “condition” for igual à 3 ou 4 => ‘regular’\n",
    "- Se o valor da coluna “condition” for igual à 5 => ‘good’\n"
   ]
  },
  {
   "cell_type": "code",
   "execution_count": 158,
   "id": "c8a05057",
   "metadata": {
    "ExecuteTime": {
     "end_time": "2022-05-02T09:53:07.955987Z",
     "start_time": "2022-05-02T09:53:07.941354Z"
    }
   },
   "outputs": [],
   "source": [
    "df['condition_type']=df['condition'].apply(lambda x:'bad' if x<= 2 else \n",
    "                                                  'regular' if (x==3 or x==4) else \n",
    "                                                  'good') "
   ]
  },
  {
   "cell_type": "code",
   "execution_count": 159,
   "id": "78b99908",
   "metadata": {
    "ExecuteTime": {
     "end_time": "2022-05-02T09:53:09.286635Z",
     "start_time": "2022-05-02T09:53:09.271014Z"
    }
   },
   "outputs": [
    {
     "data": {
      "text/html": [
       "<div>\n",
       "<style scoped>\n",
       "    .dataframe tbody tr th:only-of-type {\n",
       "        vertical-align: middle;\n",
       "    }\n",
       "\n",
       "    .dataframe tbody tr th {\n",
       "        vertical-align: top;\n",
       "    }\n",
       "\n",
       "    .dataframe thead th {\n",
       "        text-align: right;\n",
       "    }\n",
       "</style>\n",
       "<table border=\"1\" class=\"dataframe\">\n",
       "  <thead>\n",
       "    <tr style=\"text-align: right;\">\n",
       "      <th></th>\n",
       "      <th>condition_type</th>\n",
       "      <th>sqft_living</th>\n",
       "      <th>price</th>\n",
       "    </tr>\n",
       "  </thead>\n",
       "  <tbody>\n",
       "    <tr>\n",
       "      <th>0</th>\n",
       "      <td>bad</td>\n",
       "      <td>1381.24</td>\n",
       "      <td>328348.21</td>\n",
       "    </tr>\n",
       "    <tr>\n",
       "      <th>1</th>\n",
       "      <td>good</td>\n",
       "      <td>2022.91</td>\n",
       "      <td>612418.09</td>\n",
       "    </tr>\n",
       "    <tr>\n",
       "      <th>2</th>\n",
       "      <td>regular</td>\n",
       "      <td>2091.98</td>\n",
       "      <td>536016.01</td>\n",
       "    </tr>\n",
       "  </tbody>\n",
       "</table>\n",
       "</div>"
      ],
      "text/plain": [
       "  condition_type  sqft_living     price\n",
       "0            bad      1381.24 328348.21\n",
       "1           good      2022.91 612418.09\n",
       "2        regular      2091.98 536016.01"
      ]
     },
     "execution_count": 159,
     "metadata": {},
     "output_type": "execute_result"
    }
   ],
   "source": [
    "df[['condition_type','sqft_living','price']].groupby('condition_type').mean().reset_index()"
   ]
  },
  {
   "cell_type": "code",
   "execution_count": 160,
   "id": "3342f2ee",
   "metadata": {
    "ExecuteTime": {
     "end_time": "2022-05-02T09:53:09.957018Z",
     "start_time": "2022-05-02T09:53:09.941366Z"
    }
   },
   "outputs": [
    {
     "name": "stdout",
     "output_type": "stream",
     "text": [
      "Number of Houses in \"regular\" condition is: 19710\n"
     ]
    }
   ],
   "source": [
    "houses = df[df['condition_type'] == 'regular'].shape[0]\n",
    "print( 'Number of Houses in \"regular\" condition is: {}'.format( houses ) )"
   ]
  },
  {
   "cell_type": "code",
   "execution_count": 161,
   "id": "9c5d9741",
   "metadata": {
    "ExecuteTime": {
     "end_time": "2022-05-02T09:53:10.523556Z",
     "start_time": "2022-05-02T09:53:10.513763Z"
    }
   },
   "outputs": [
    {
     "name": "stdout",
     "output_type": "stream",
     "text": [
      "Number of Houses with water view and bad condition: 2\n"
     ]
    }
   ],
   "source": [
    "houses = df[(df['condition_type'] == 'bad') & (df['waterfront'] == 1)].shape[0]\n",
    "print( \"Number of Houses with water view and bad condition: {}\".format( houses) )"
   ]
  },
  {
   "cell_type": "code",
   "execution_count": 162,
   "id": "7f9a62b0",
   "metadata": {
    "ExecuteTime": {
     "end_time": "2022-05-02T09:53:10.920532Z",
     "start_time": "2022-05-02T09:53:10.909758Z"
    }
   },
   "outputs": [
    {
     "name": "stdout",
     "output_type": "stream",
     "text": [
      "Number of new house with good conditional type is: 423\n"
     ]
    }
   ],
   "source": [
    "houses = df[(df['condition_type'] == 'good') & (df['house_age'] ==\"new_house\")].shape[0]\n",
    "print( \"Number of new house with good conditional type is: {}\".format( houses ))"
   ]
  },
  {
   "cell_type": "code",
   "execution_count": 163,
   "id": "5c6b85df",
   "metadata": {
    "ExecuteTime": {
     "end_time": "2022-05-02T09:53:11.574693Z",
     "start_time": "2022-05-02T09:53:11.565877Z"
    },
    "scrolled": true
   },
   "outputs": [
    {
     "name": "stdout",
     "output_type": "stream",
     "text": [
      "Most expensive studio house: $1295650.0\n"
     ]
    }
   ],
   "source": [
    "max_studio_price = df[df['dormitory_type'] == 'studio']['price'].max()\n",
    "print( \"Most expensive studio house: ${}\".format( max_studio_price ) )"
   ]
  },
  {
   "cell_type": "code",
   "execution_count": 164,
   "id": "91fa74ce",
   "metadata": {
    "ExecuteTime": {
     "end_time": "2022-05-02T09:53:12.101964Z",
     "start_time": "2022-05-02T09:53:12.091264Z"
    }
   },
   "outputs": [
    {
     "name": "stdout",
     "output_type": "stream",
     "text": [
      "Number of reformed house in 2014: 0\n"
     ]
    }
   ],
   "source": [
    "houses = df[(df['house_age'] == 'new_house') &\n",
    "(df['yr_renovated'] == 2014 )].shape[0]\n",
    "print( \"Number of reformed house in 2014: {}\".format( houses ) )"
   ]
  },
  {
   "cell_type": "markdown",
   "id": "f30f23fc",
   "metadata": {
    "ExecuteTime": {
     "end_time": "2021-08-27T18:23:10.690279Z",
     "start_time": "2021-08-27T18:23:10.682837Z"
    }
   },
   "source": [
    "### “Level”\n",
    "- Nível 0 -> Preço entre R$ 0 e R$ 321.950 \n",
    "- Nível 1 -> Preço entre R$ 321.950 e R$ 450.000 \n",
    "- Nível 2 -> Preço entre R$ 450.000 e R$ 645.000 \n",
    "- Nível 3 -> Acima de R$ 645.000\n"
   ]
  },
  {
   "cell_type": "code",
   "execution_count": 165,
   "id": "7ce1d00a",
   "metadata": {
    "ExecuteTime": {
     "end_time": "2022-05-02T09:53:14.322896Z",
     "start_time": "2022-05-02T09:53:14.300447Z"
    }
   },
   "outputs": [],
   "source": [
    "df['level']=df['price'].apply(lambda x:'level_00' if (x >=0)&(x<321950) else\n",
    "                                      'level_01' if (x >=321950)&(x<450000) else\n",
    "                                      'level_02' if (x >=45000)&(x<645000) else 'level_03')"
   ]
  },
  {
   "cell_type": "code",
   "execution_count": 166,
   "id": "89733dbb",
   "metadata": {
    "ExecuteTime": {
     "end_time": "2022-05-02T09:53:15.040641Z",
     "start_time": "2022-05-02T09:53:15.024049Z"
    }
   },
   "outputs": [
    {
     "data": {
      "text/html": [
       "<div>\n",
       "<style scoped>\n",
       "    .dataframe tbody tr th:only-of-type {\n",
       "        vertical-align: middle;\n",
       "    }\n",
       "\n",
       "    .dataframe tbody tr th {\n",
       "        vertical-align: top;\n",
       "    }\n",
       "\n",
       "    .dataframe thead th {\n",
       "        text-align: right;\n",
       "    }\n",
       "</style>\n",
       "<table border=\"1\" class=\"dataframe\">\n",
       "  <thead>\n",
       "    <tr style=\"text-align: right;\">\n",
       "      <th></th>\n",
       "      <th>level</th>\n",
       "      <th>sqft_living</th>\n",
       "      <th>price</th>\n",
       "    </tr>\n",
       "  </thead>\n",
       "  <tbody>\n",
       "    <tr>\n",
       "      <th>0</th>\n",
       "      <td>level_00</td>\n",
       "      <td>1465.29</td>\n",
       "      <td>251544.62</td>\n",
       "    </tr>\n",
       "    <tr>\n",
       "      <th>1</th>\n",
       "      <td>level_01</td>\n",
       "      <td>1777.89</td>\n",
       "      <td>383585.21</td>\n",
       "    </tr>\n",
       "    <tr>\n",
       "      <th>2</th>\n",
       "      <td>level_02</td>\n",
       "      <td>2073.77</td>\n",
       "      <td>536164.42</td>\n",
       "    </tr>\n",
       "    <tr>\n",
       "      <th>3</th>\n",
       "      <td>level_03</td>\n",
       "      <td>2994.71</td>\n",
       "      <td>985008.98</td>\n",
       "    </tr>\n",
       "  </tbody>\n",
       "</table>\n",
       "</div>"
      ],
      "text/plain": [
       "      level  sqft_living     price\n",
       "0  level_00      1465.29 251544.62\n",
       "1  level_01      1777.89 383585.21\n",
       "2  level_02      2073.77 536164.42\n",
       "3  level_03      2994.71 985008.98"
      ]
     },
     "execution_count": 166,
     "metadata": {},
     "output_type": "execute_result"
    }
   ],
   "source": [
    "df[['level','sqft_living','price']].groupby('level').mean().reset_index()"
   ]
  },
  {
   "cell_type": "markdown",
   "id": "0c1d88c7",
   "metadata": {},
   "source": [
    "### \"Size\"\n",
    "- Size 0 -> Tamanho entre 0 e 1427 sqft \n",
    "- Size 1 -> Tamanho entre 1427 e 1910 sqft \n",
    "- Size 2 -> Tamanho entre 1910 e 2550 sqft \n",
    "- Size 3 -> Tamanho acima de 2550 sqft"
   ]
  },
  {
   "cell_type": "code",
   "execution_count": 167,
   "id": "0c1916fa",
   "metadata": {
    "ExecuteTime": {
     "end_time": "2022-05-02T09:53:17.206212Z",
     "start_time": "2022-05-02T09:53:17.193559Z"
    },
    "code_folding": []
   },
   "outputs": [],
   "source": [
    "df['size']=df['sqft_living'].apply(lambda x:'s00' if (x >=0)&(x<1427) else\n",
    "                                      's01' if (x >=1427)&(x<1910) else\n",
    "                                      's02' if (x >=1910)&(x<2550) else 's03')"
   ]
  },
  {
   "cell_type": "code",
   "execution_count": 168,
   "id": "a4004260",
   "metadata": {
    "ExecuteTime": {
     "end_time": "2022-05-02T09:53:18.143575Z",
     "start_time": "2022-05-02T09:53:18.120152Z"
    }
   },
   "outputs": [
    {
     "data": {
      "text/html": [
       "<div>\n",
       "<style scoped>\n",
       "    .dataframe tbody tr th:only-of-type {\n",
       "        vertical-align: middle;\n",
       "    }\n",
       "\n",
       "    .dataframe tbody tr th {\n",
       "        vertical-align: top;\n",
       "    }\n",
       "\n",
       "    .dataframe thead th {\n",
       "        text-align: right;\n",
       "    }\n",
       "</style>\n",
       "<table border=\"1\" class=\"dataframe\">\n",
       "  <thead>\n",
       "    <tr style=\"text-align: right;\">\n",
       "      <th></th>\n",
       "      <th>size</th>\n",
       "      <th>sqft_living</th>\n",
       "      <th>price</th>\n",
       "    </tr>\n",
       "  </thead>\n",
       "  <tbody>\n",
       "    <tr>\n",
       "      <th>0</th>\n",
       "      <td>s00</td>\n",
       "      <td>1123.78</td>\n",
       "      <td>339029.47</td>\n",
       "    </tr>\n",
       "    <tr>\n",
       "      <th>1</th>\n",
       "      <td>s01</td>\n",
       "      <td>1661.20</td>\n",
       "      <td>420923.49</td>\n",
       "    </tr>\n",
       "    <tr>\n",
       "      <th>2</th>\n",
       "      <td>s02</td>\n",
       "      <td>2202.70</td>\n",
       "      <td>519925.05</td>\n",
       "    </tr>\n",
       "    <tr>\n",
       "      <th>3</th>\n",
       "      <td>s03</td>\n",
       "      <td>3318.99</td>\n",
       "      <td>877266.49</td>\n",
       "    </tr>\n",
       "  </tbody>\n",
       "</table>\n",
       "</div>"
      ],
      "text/plain": [
       "  size  sqft_living     price\n",
       "0  s00      1123.78 339029.47\n",
       "1  s01      1661.20 420923.49\n",
       "2  s02      2202.70 519925.05\n",
       "3  s03      3318.99 877266.49"
      ]
     },
     "execution_count": 168,
     "metadata": {},
     "output_type": "execute_result"
    }
   ],
   "source": [
    "df[['size','sqft_living','price']].groupby('size').mean().reset_index()"
   ]
  },
  {
   "cell_type": "markdown",
   "id": "d608569d",
   "metadata": {},
   "source": [
    "## Data Vizualization"
   ]
  },
  {
   "cell_type": "code",
   "execution_count": 169,
   "id": "6133622a",
   "metadata": {
    "ExecuteTime": {
     "end_time": "2022-05-02T09:53:19.664684Z",
     "start_time": "2022-05-02T09:53:19.482294Z"
    },
    "scrolled": true
   },
   "outputs": [
    {
     "data": {
      "image/png": "[encoded data removed]",
      "text/plain": [
       "<Figure size 1728x864 with 1 Axes>"
      ]
     },
     "metadata": {
      "needs_background": "light"
     },
     "output_type": "display_data"
    }
   ],
   "source": [
    "plt.figure( figsize=(24,12))\n",
    "data = df[['price', 'bedrooms']].groupby( 'bedrooms' ).mean().reset_index()\n",
    "sns.barplot( x='bedrooms', y='price', data=data );"
   ]
  },
  {
   "cell_type": "code",
   "execution_count": 172,
   "id": "bf1f57b6",
   "metadata": {
    "ExecuteTime": {
     "end_time": "2022-05-02T09:53:27.113027Z",
     "start_time": "2022-05-02T09:53:26.890504Z"
    }
   },
   "outputs": [
    {
     "data": {
      "image/png": "[encoded data removed]",
      "text/plain": [
       "<Figure size 1728x864 with 1 Axes>"
      ]
     },
     "metadata": {
      "needs_background": "light"
     },
     "output_type": "display_data"
    }
   ],
   "source": [
    "plt.figure( figsize=(24,12))\n",
    "data = df[['price', 'yr_built']].groupby( 'yr_built' ).mean().reset_index()\n",
    "sns.lineplot( x='yr_built', y='price', data=data );"
   ]
  },
  {
   "cell_type": "code",
   "execution_count": 173,
   "id": "c4f32b9f",
   "metadata": {
    "ExecuteTime": {
     "end_time": "2022-05-02T09:53:33.278352Z",
     "start_time": "2022-05-02T09:53:28.503086Z"
    }
   },
   "outputs": [
    {
     "name": "stdout",
     "output_type": "stream",
     "text": [
      "Loop:0/10\n",
      "Loop:1/10\n",
      "Loop:2/10\n",
      "Loop:3/10\n",
      "Loop:4/10\n",
      "Loop:5/10\n",
      "Loop:6/10\n",
      "Loop:7/10\n",
      "Loop:8/10\n",
      "Loop:9/10\n"
     ]
    }
   ],
   "source": [
    "df=df.head(10)\n",
    "\n",
    "#Create empty rows\n",
    "df['road']='NA'\n",
    "df['house_number']='NA'\n",
    "df['city']='NA'\n",
    "df['county']='NA'\n",
    "df['state']='NA'\n",
    "df['neighbourhood']='NA'\n",
    "\n",
    "geolocator=Nominatim(user_agent='geoapiExercises')\n",
    "\n",
    "for i in range(len(df)):\n",
    "    print('Loop:{}/{}'.format(i,len(df)))\n",
    "    df\n",
    "    query=str(df.loc[i,'lat'])+','+str(df.loc[i,'long'])\n",
    "\n",
    "#API Request\n",
    "    response=geolocator.reverse(query)\n",
    "\n",
    "#populate df\n",
    "    if 'house_number' in response.raw['address']:\n",
    "        df.loc[i,'house_number']=response.raw['address']['house_number']\n",
    "    if 'road' in response.raw['address']:\n",
    "        df.loc[i,'road']        =response.raw['address']['road']\n",
    "    if 'city' in response.raw['address']:\n",
    "        df.loc[i,'city']        =response.raw['address']['city']\n",
    "    if 'county' in response.raw['address']:\n",
    "        df.loc[i,'county']      =response.raw['address']['county']\n",
    "    if 'state' in response.raw['address']:\n",
    "        df.loc[i,'state']       =response.raw['address']['state']\n",
    "    if 'neighbourhood' in response.raw['address']:\n",
    "        df.loc[i,'neighbourhood']=response.raw['address']['neighbourhood']\n",
    "\n"
   ]
  },
  {
   "cell_type": "code",
   "execution_count": 235,
   "id": "c3735e11",
   "metadata": {
    "ExecuteTime": {
     "end_time": "2022-05-02T10:13:04.850414Z",
     "start_time": "2022-05-02T10:13:04.742079Z"
    }
   },
   "outputs": [
    {
     "data": {
      "text/html": [
       "<div>\n",
       "<style scoped>\n",
       "    .dataframe tbody tr th:only-of-type {\n",
       "        vertical-align: middle;\n",
       "    }\n",
       "\n",
       "    .dataframe tbody tr th {\n",
       "        vertical-align: top;\n",
       "    }\n",
       "\n",
       "    .dataframe thead th {\n",
       "        text-align: right;\n",
       "    }\n",
       "</style>\n",
       "<table border=\"1\" class=\"dataframe\">\n",
       "  <thead>\n",
       "    <tr style=\"text-align: right;\">\n",
       "      <th></th>\n",
       "      <th>id</th>\n",
       "      <th>date</th>\n",
       "      <th>price</th>\n",
       "      <th>bedrooms</th>\n",
       "      <th>bathrooms</th>\n",
       "      <th>sqft_living</th>\n",
       "      <th>sqft_lot</th>\n",
       "      <th>floors</th>\n",
       "      <th>waterfront</th>\n",
       "      <th>view</th>\n",
       "      <th>...</th>\n",
       "      <th>dormitory_type</th>\n",
       "      <th>condition_type</th>\n",
       "      <th>level</th>\n",
       "      <th>size</th>\n",
       "      <th>road</th>\n",
       "      <th>house_number</th>\n",
       "      <th>city</th>\n",
       "      <th>county</th>\n",
       "      <th>state</th>\n",
       "      <th>neighbourhood</th>\n",
       "    </tr>\n",
       "  </thead>\n",
       "  <tbody>\n",
       "    <tr>\n",
       "      <th>0</th>\n",
       "      <td>7129300520</td>\n",
       "      <td>2014-10-13</td>\n",
       "      <td>221900.00</td>\n",
       "      <td>3</td>\n",
       "      <td>1.00</td>\n",
       "      <td>1180</td>\n",
       "      <td>5650</td>\n",
       "      <td>1.00</td>\n",
       "      <td>0</td>\n",
       "      <td>0</td>\n",
       "      <td>...</td>\n",
       "      <td>house</td>\n",
       "      <td>regular</td>\n",
       "      <td>level_00</td>\n",
       "      <td>1180</td>\n",
       "      <td>61st Avenue South</td>\n",
       "      <td>10012</td>\n",
       "      <td>Seattle</td>\n",
       "      <td>King County</td>\n",
       "      <td>Washington</td>\n",
       "      <td>Rainier Beach</td>\n",
       "    </tr>\n",
       "    <tr>\n",
       "      <th>1</th>\n",
       "      <td>6414100192</td>\n",
       "      <td>2014-12-09</td>\n",
       "      <td>538000.00</td>\n",
       "      <td>3</td>\n",
       "      <td>2.25</td>\n",
       "      <td>2570</td>\n",
       "      <td>7242</td>\n",
       "      <td>2.00</td>\n",
       "      <td>0</td>\n",
       "      <td>0</td>\n",
       "      <td>...</td>\n",
       "      <td>house</td>\n",
       "      <td>regular</td>\n",
       "      <td>level_02</td>\n",
       "      <td>2170</td>\n",
       "      <td>Northeast 127th Street</td>\n",
       "      <td>837</td>\n",
       "      <td>Seattle</td>\n",
       "      <td>King County</td>\n",
       "      <td>Washington</td>\n",
       "      <td>NaN</td>\n",
       "    </tr>\n",
       "    <tr>\n",
       "      <th>2</th>\n",
       "      <td>5631500400</td>\n",
       "      <td>2015-02-25</td>\n",
       "      <td>180000.00</td>\n",
       "      <td>2</td>\n",
       "      <td>1.00</td>\n",
       "      <td>770</td>\n",
       "      <td>10000</td>\n",
       "      <td>1.00</td>\n",
       "      <td>0</td>\n",
       "      <td>0</td>\n",
       "      <td>...</td>\n",
       "      <td>apartment</td>\n",
       "      <td>regular</td>\n",
       "      <td>level_00</td>\n",
       "      <td>770</td>\n",
       "      <td>81st Avenue Northeast</td>\n",
       "      <td>15109</td>\n",
       "      <td>Kenmore</td>\n",
       "      <td>King County</td>\n",
       "      <td>Washington</td>\n",
       "      <td>NaN</td>\n",
       "    </tr>\n",
       "    <tr>\n",
       "      <th>3</th>\n",
       "      <td>2487200875</td>\n",
       "      <td>2014-12-09</td>\n",
       "      <td>604000.00</td>\n",
       "      <td>4</td>\n",
       "      <td>3.00</td>\n",
       "      <td>1960</td>\n",
       "      <td>5000</td>\n",
       "      <td>1.00</td>\n",
       "      <td>0</td>\n",
       "      <td>0</td>\n",
       "      <td>...</td>\n",
       "      <td>house</td>\n",
       "      <td>NaN</td>\n",
       "      <td>level_02</td>\n",
       "      <td>1050</td>\n",
       "      <td>Fauntleroy Way Southwest</td>\n",
       "      <td>9236</td>\n",
       "      <td>Seattle</td>\n",
       "      <td>King County</td>\n",
       "      <td>Washington</td>\n",
       "      <td>Fauntleroy</td>\n",
       "    </tr>\n",
       "    <tr>\n",
       "      <th>4</th>\n",
       "      <td>1954400510</td>\n",
       "      <td>2015-02-18</td>\n",
       "      <td>510000.00</td>\n",
       "      <td>3</td>\n",
       "      <td>2.00</td>\n",
       "      <td>1680</td>\n",
       "      <td>8080</td>\n",
       "      <td>1.00</td>\n",
       "      <td>0</td>\n",
       "      <td>0</td>\n",
       "      <td>...</td>\n",
       "      <td>house</td>\n",
       "      <td>regular</td>\n",
       "      <td>level_02</td>\n",
       "      <td>1680</td>\n",
       "      <td>221st Avenue Northeast</td>\n",
       "      <td>923</td>\n",
       "      <td>Sammamish</td>\n",
       "      <td>King County</td>\n",
       "      <td>Washington</td>\n",
       "      <td>NaN</td>\n",
       "    </tr>\n",
       "  </tbody>\n",
       "</table>\n",
       "<p>5 rows × 32 columns</p>\n",
       "</div>"
      ],
      "text/plain": [
       "           id       date     price  bedrooms  bathrooms  sqft_living  \\\n",
       "0  7129300520 2014-10-13 221900.00         3       1.00         1180   \n",
       "1  6414100192 2014-12-09 538000.00         3       2.25         2570   \n",
       "2  5631500400 2015-02-25 180000.00         2       1.00          770   \n",
       "3  2487200875 2014-12-09 604000.00         4       3.00         1960   \n",
       "4  1954400510 2015-02-18 510000.00         3       2.00         1680   \n",
       "\n",
       "   sqft_lot  floors  waterfront  view  ...  dormitory_type  condition_type  \\\n",
       "0      5650    1.00           0     0  ...           house         regular   \n",
       "1      7242    2.00           0     0  ...           house         regular   \n",
       "2     10000    1.00           0     0  ...       apartment         regular   \n",
       "3      5000    1.00           0     0  ...           house             NaN   \n",
       "4      8080    1.00           0     0  ...           house         regular   \n",
       "\n",
       "      level  size                      road house_number       city  \\\n",
       "0  level_00  1180         61st Avenue South        10012    Seattle   \n",
       "1  level_02  2170    Northeast 127th Street          837    Seattle   \n",
       "2  level_00   770     81st Avenue Northeast        15109    Kenmore   \n",
       "3  level_02  1050  Fauntleroy Way Southwest         9236    Seattle   \n",
       "4  level_02  1680    221st Avenue Northeast          923  Sammamish   \n",
       "\n",
       "        county       state  neighbourhood  \n",
       "0  King County  Washington  Rainier Beach  \n",
       "1  King County  Washington            NaN  \n",
       "2  King County  Washington            NaN  \n",
       "3  King County  Washington     Fauntleroy  \n",
       "4  King County  Washington            NaN  \n",
       "\n",
       "[5 rows x 32 columns]"
      ]
     },
     "execution_count": 235,
     "metadata": {},
     "output_type": "execute_result"
    }
   ],
   "source": [
    "#df.to_csv('Datasets/df_complete_lat_long.csv',index=False)\n",
    "df=pd.read_csv('Datasets/df_complete_lat_long.csv',parse_dates=[1,14,15])\n",
    "df.head()"
   ]
  },
  {
   "cell_type": "code",
   "execution_count": 236,
   "id": "faaafee4",
   "metadata": {
    "ExecuteTime": {
     "end_time": "2022-05-02T10:13:06.289946Z",
     "start_time": "2022-05-02T10:13:05.812682Z"
    },
    "cell_style": "center",
    "scrolled": false
   },
   "outputs": [
    {
     "data": {
      "image/png": "[encoded data removed]",
      "text/plain": [
       "<Figure size 1800x720 with 2 Axes>"
      ]
     },
     "metadata": {
      "needs_background": "light"
     },
     "output_type": "display_data"
    }
   ],
   "source": [
    "%matplotlib inline\n",
    "msno.matrix(df);"
   ]
  },
  {
   "cell_type": "code",
   "execution_count": 265,
   "id": "96e71f29",
   "metadata": {
    "ExecuteTime": {
     "end_time": "2022-05-02T10:22:14.271902Z",
     "start_time": "2022-05-02T10:22:14.266015Z"
    },
    "scrolled": false
   },
   "outputs": [
    {
     "data": {
      "text/plain": [
       "id                         int64\n",
       "date                      object\n",
       "price                    float64\n",
       "bedrooms                   int64\n",
       "bathrooms                float64\n",
       "sqft_living                int64\n",
       "sqft_lot                   int64\n",
       "floors                   float64\n",
       "waterfront                 int64\n",
       "view                       int64\n",
       "condition                  int64\n",
       "grade                      int64\n",
       "sqft_above                 int64\n",
       "sqft_basement              int64\n",
       "yr_built          datetime64[ns]\n",
       "yr_renovated              object\n",
       "zipcode                    int64\n",
       "lat                      float64\n",
       "long                     float64\n",
       "sqft_living15              int64\n",
       "sqft_lot15                 int64\n",
       "house_age                 object\n",
       "dormitory_type            object\n",
       "condition_type            object\n",
       "level                     object\n",
       "size                       int64\n",
       "road                      object\n",
       "house_number              object\n",
       "city                      object\n",
       "county                    object\n",
       "state                     object\n",
       "neighbourhood             object\n",
       "is_waterfront             object\n",
       "year                      object\n",
       "year_week                 object\n",
       "dtype: object"
      ]
     },
     "execution_count": 265,
     "metadata": {},
     "output_type": "execute_result"
    }
   ],
   "source": [
    "df.dtypes"
   ]
  },
  {
   "cell_type": "code",
   "execution_count": 291,
   "id": "462fc559",
   "metadata": {
    "ExecuteTime": {
     "end_time": "2022-05-02T10:31:45.779074Z",
     "start_time": "2022-05-02T10:31:45.481207Z"
    }
   },
   "outputs": [],
   "source": [
    "#data de compra\n",
    "df['date']=pd.to_datetime(df['date']).dt.strftime('%Y-%m-%d')\n",
    "\n",
    "#vista mar sim ou nao\n",
    "df['is_waterfront']=df['waterfront'].apply(lambda x:'yes' if x==1 else 'no')\n",
    "\n",
    "df['year']=pd.to_datetime(df['date']).dt.strftime('%Y')\n",
    "df['year']=df['year'].astype(int)\n"
   ]
  },
  {
   "cell_type": "code",
   "execution_count": 292,
   "id": "209f1f38",
   "metadata": {
    "ExecuteTime": {
     "end_time": "2022-05-02T10:31:46.486909Z",
     "start_time": "2022-05-02T10:31:46.462508Z"
    },
    "scrolled": true
   },
   "outputs": [
    {
     "data": {
      "text/html": [
       "<div>\n",
       "<style scoped>\n",
       "    .dataframe tbody tr th:only-of-type {\n",
       "        vertical-align: middle;\n",
       "    }\n",
       "\n",
       "    .dataframe tbody tr th {\n",
       "        vertical-align: top;\n",
       "    }\n",
       "\n",
       "    .dataframe thead th {\n",
       "        text-align: right;\n",
       "    }\n",
       "</style>\n",
       "<table border=\"1\" class=\"dataframe\">\n",
       "  <thead>\n",
       "    <tr style=\"text-align: right;\">\n",
       "      <th></th>\n",
       "      <th>id</th>\n",
       "      <th>date</th>\n",
       "      <th>price</th>\n",
       "      <th>bedrooms</th>\n",
       "      <th>bathrooms</th>\n",
       "      <th>sqft_living</th>\n",
       "      <th>sqft_lot</th>\n",
       "      <th>floors</th>\n",
       "      <th>waterfront</th>\n",
       "      <th>view</th>\n",
       "      <th>...</th>\n",
       "      <th>size</th>\n",
       "      <th>road</th>\n",
       "      <th>house_number</th>\n",
       "      <th>city</th>\n",
       "      <th>county</th>\n",
       "      <th>state</th>\n",
       "      <th>neighbourhood</th>\n",
       "      <th>is_waterfront</th>\n",
       "      <th>year</th>\n",
       "      <th>year_week</th>\n",
       "    </tr>\n",
       "  </thead>\n",
       "  <tbody>\n",
       "    <tr>\n",
       "      <th>0</th>\n",
       "      <td>7129300520</td>\n",
       "      <td>2014-10-13</td>\n",
       "      <td>221900.00</td>\n",
       "      <td>3</td>\n",
       "      <td>1.00</td>\n",
       "      <td>1180</td>\n",
       "      <td>5650</td>\n",
       "      <td>1.00</td>\n",
       "      <td>0</td>\n",
       "      <td>0</td>\n",
       "      <td>...</td>\n",
       "      <td>1180</td>\n",
       "      <td>61st Avenue South</td>\n",
       "      <td>10012</td>\n",
       "      <td>Seattle</td>\n",
       "      <td>King County</td>\n",
       "      <td>Washington</td>\n",
       "      <td>Rainier Beach</td>\n",
       "      <td>no</td>\n",
       "      <td>2014</td>\n",
       "      <td>2014-41</td>\n",
       "    </tr>\n",
       "    <tr>\n",
       "      <th>1</th>\n",
       "      <td>6414100192</td>\n",
       "      <td>2014-12-09</td>\n",
       "      <td>538000.00</td>\n",
       "      <td>3</td>\n",
       "      <td>2.25</td>\n",
       "      <td>2570</td>\n",
       "      <td>7242</td>\n",
       "      <td>2.00</td>\n",
       "      <td>0</td>\n",
       "      <td>0</td>\n",
       "      <td>...</td>\n",
       "      <td>2170</td>\n",
       "      <td>Northeast 127th Street</td>\n",
       "      <td>837</td>\n",
       "      <td>Seattle</td>\n",
       "      <td>King County</td>\n",
       "      <td>Washington</td>\n",
       "      <td>NaN</td>\n",
       "      <td>no</td>\n",
       "      <td>2014</td>\n",
       "      <td>2014-49</td>\n",
       "    </tr>\n",
       "    <tr>\n",
       "      <th>2</th>\n",
       "      <td>5631500400</td>\n",
       "      <td>2015-02-25</td>\n",
       "      <td>180000.00</td>\n",
       "      <td>2</td>\n",
       "      <td>1.00</td>\n",
       "      <td>770</td>\n",
       "      <td>10000</td>\n",
       "      <td>1.00</td>\n",
       "      <td>0</td>\n",
       "      <td>0</td>\n",
       "      <td>...</td>\n",
       "      <td>770</td>\n",
       "      <td>81st Avenue Northeast</td>\n",
       "      <td>15109</td>\n",
       "      <td>Kenmore</td>\n",
       "      <td>King County</td>\n",
       "      <td>Washington</td>\n",
       "      <td>NaN</td>\n",
       "      <td>no</td>\n",
       "      <td>2015</td>\n",
       "      <td>2015-08</td>\n",
       "    </tr>\n",
       "    <tr>\n",
       "      <th>3</th>\n",
       "      <td>2487200875</td>\n",
       "      <td>2014-12-09</td>\n",
       "      <td>604000.00</td>\n",
       "      <td>4</td>\n",
       "      <td>3.00</td>\n",
       "      <td>1960</td>\n",
       "      <td>5000</td>\n",
       "      <td>1.00</td>\n",
       "      <td>0</td>\n",
       "      <td>0</td>\n",
       "      <td>...</td>\n",
       "      <td>1050</td>\n",
       "      <td>Fauntleroy Way Southwest</td>\n",
       "      <td>9236</td>\n",
       "      <td>Seattle</td>\n",
       "      <td>King County</td>\n",
       "      <td>Washington</td>\n",
       "      <td>Fauntleroy</td>\n",
       "      <td>no</td>\n",
       "      <td>2014</td>\n",
       "      <td>2014-49</td>\n",
       "    </tr>\n",
       "    <tr>\n",
       "      <th>4</th>\n",
       "      <td>1954400510</td>\n",
       "      <td>2015-02-18</td>\n",
       "      <td>510000.00</td>\n",
       "      <td>3</td>\n",
       "      <td>2.00</td>\n",
       "      <td>1680</td>\n",
       "      <td>8080</td>\n",
       "      <td>1.00</td>\n",
       "      <td>0</td>\n",
       "      <td>0</td>\n",
       "      <td>...</td>\n",
       "      <td>1680</td>\n",
       "      <td>221st Avenue Northeast</td>\n",
       "      <td>923</td>\n",
       "      <td>Sammamish</td>\n",
       "      <td>King County</td>\n",
       "      <td>Washington</td>\n",
       "      <td>NaN</td>\n",
       "      <td>no</td>\n",
       "      <td>2015</td>\n",
       "      <td>2015-07</td>\n",
       "    </tr>\n",
       "  </tbody>\n",
       "</table>\n",
       "<p>5 rows × 35 columns</p>\n",
       "</div>"
      ],
      "text/plain": [
       "           id        date     price  bedrooms  bathrooms  sqft_living  \\\n",
       "0  7129300520  2014-10-13 221900.00         3       1.00         1180   \n",
       "1  6414100192  2014-12-09 538000.00         3       2.25         2570   \n",
       "2  5631500400  2015-02-25 180000.00         2       1.00          770   \n",
       "3  2487200875  2014-12-09 604000.00         4       3.00         1960   \n",
       "4  1954400510  2015-02-18 510000.00         3       2.00         1680   \n",
       "\n",
       "   sqft_lot  floors  waterfront  view  ...  size                      road  \\\n",
       "0      5650    1.00           0     0  ...  1180         61st Avenue South   \n",
       "1      7242    2.00           0     0  ...  2170    Northeast 127th Street   \n",
       "2     10000    1.00           0     0  ...   770     81st Avenue Northeast   \n",
       "3      5000    1.00           0     0  ...  1050  Fauntleroy Way Southwest   \n",
       "4      8080    1.00           0     0  ...  1680    221st Avenue Northeast   \n",
       "\n",
       "   house_number       city       county       state  neighbourhood  \\\n",
       "0         10012    Seattle  King County  Washington  Rainier Beach   \n",
       "1           837    Seattle  King County  Washington            NaN   \n",
       "2         15109    Kenmore  King County  Washington            NaN   \n",
       "3          9236    Seattle  King County  Washington     Fauntleroy   \n",
       "4           923  Sammamish  King County  Washington            NaN   \n",
       "\n",
       "   is_waterfront  year  year_week  \n",
       "0             no  2014    2014-41  \n",
       "1             no  2014    2014-49  \n",
       "2             no  2015    2015-08  \n",
       "3             no  2014    2014-49  \n",
       "4             no  2015    2015-07  \n",
       "\n",
       "[5 rows x 35 columns]"
      ]
     },
     "execution_count": 292,
     "metadata": {},
     "output_type": "execute_result"
    }
   ],
   "source": [
    "df.head()"
   ]
  },
  {
   "cell_type": "code",
   "execution_count": 303,
   "id": "cf64765d",
   "metadata": {
    "ExecuteTime": {
     "end_time": "2022-05-02T10:34:48.202898Z",
     "start_time": "2022-05-02T10:34:48.163857Z"
    }
   },
   "outputs": [],
   "source": [
    "\n",
    "# Iteractive buttons\n",
    "\n",
    "style={'description_width':'initial'}\n",
    "\n",
    "living_limit=widgets.IntSlider(\n",
    "    value=2080,\n",
    "    min=290,\n",
    "    max=13540,\n",
    "    step=1,\n",
    "    description='Minimum sqft living',\n",
    "    disable=False,\n",
    "    style=style\n",
    ")\n",
    "\n",
    "bathrooms_limit=widgets.IntSlider(\n",
    "    value=2,\n",
    "    min=0,\n",
    "    max=8,\n",
    "    step=1,\n",
    "    description='Minimum bathrooms',\n",
    "    disable=False,\n",
    "    style=style\n",
    ")\n",
    "\n",
    "price_limit=widgets.IntSlider(\n",
    "    value=540000,\n",
    "    min=75000,\n",
    "    max=77000000,\n",
    "    step=1,\n",
    "    description='Maximun price',\n",
    "    disable=False,\n",
    "    style=style\n",
    ")\n",
    "\n",
    "lot_limit=widgets.IntSlider(\n",
    "    value=15100,\n",
    "    min=520,\n",
    "    max=1651359,\n",
    "    step=1,\n",
    "    description='Maximum sqft lot',\n",
    "    disable=False,\n",
    "    style=style\n",
    ")\n"
   ]
  },
  {
   "cell_type": "code",
   "execution_count": 304,
   "id": "136bf006",
   "metadata": {
    "ExecuteTime": {
     "end_time": "2022-05-02T10:34:49.432023Z",
     "start_time": "2022-05-02T10:34:49.424215Z"
    }
   },
   "outputs": [],
   "source": [
    "def update_map(df,living,bathrooms,price,lot):\n",
    "    houses=df[(df['sqft_living']>=living)&(df['bathrooms']>=bathrooms)&(df['price']<=price)&(df['sqft_lot']<=lot)][['id','lat','long','price','sqft_living','bathrooms','sqft_lot']]\n",
    "\n",
    "\n",
    "#5. Plotar o mapa(dentro da funcao)\n",
    "    fig=px.scatter_mapbox(houses,\n",
    "        lat='lat',\n",
    "        lon='long',\n",
    "        color='sqft_living',\n",
    "        size='price',\n",
    "        color_continuous_scale=px.colors.cyclical.IceFire,\n",
    "        size_max=15,\n",
    "        zoom=10)\n",
    "    fig.update_layout(mapbox_style='open-street-map')\n",
    "    fig.update_layout(height=300,margin={'r':0,'t':0,'l':0,'b':0})\n",
    "    fig.show()"
   ]
  },
  {
   "cell_type": "code",
   "execution_count": 305,
   "id": "8d59650f",
   "metadata": {
    "ExecuteTime": {
     "end_time": "2022-05-02T10:34:50.452346Z",
     "start_time": "2022-05-02T10:34:50.339165Z"
    }
   },
   "outputs": [
    {
     "data": {
      "application/vnd.jupyter.widget-view+json": {
       "model_id": "d6d13e27860f4619b2db1b9c540518ea",
       "version_major": 2,
       "version_minor": 0
      },
      "text/plain": [
       "interactive(children=(IntSlider(value=2080, description='Minimum sqft living', max=13540, min=290, style=Slide…"
      ]
     },
     "metadata": {},
     "output_type": "display_data"
    }
   ],
   "source": [
    "widgets.interactive(update_map,df=fixed(df),living=living_limit,bathrooms=bathrooms_limit,price=price_limit,lot=lot_limit)"
   ]
  },
  {
   "cell_type": "code",
   "execution_count": null,
   "id": "b84f96dd",
   "metadata": {},
   "outputs": [],
   "source": []
  },
  {
   "cell_type": "code",
   "execution_count": null,
   "id": "5a7fe9c8",
   "metadata": {},
   "outputs": [],
   "source": []
  },
  {
   "cell_type": "code",
   "execution_count": null,
   "id": "91d29adb",
   "metadata": {},
   "outputs": [],
   "source": []
  }
 ],
 "metadata": {
  "hide_input": false,
  "kernelspec": {
   "display_name": "Python 3 (ipykernel)",
   "language": "python",
   "name": "python3"
  },
  "language_info": {
   "codemirror_mode": {
    "name": "ipython",
    "version": 3
   },
   "file_extension": ".py",
   "mimetype": "text/x-python",
   "name": "python",
   "nbconvert_exporter": "python",
   "pygments_lexer": "ipython3",
   "version": "3.8.13"
  },
  "latex_envs": {
   "LaTeX_envs_menu_present": true,
   "autoclose": false,
   "autocomplete": true,
   "bibliofile": "biblio.bib",
   "cite_by": "apalike",
   "current_citInitial": 1,
   "eqLabelWithNumbers": true,
   "eqNumInitial": 1,
   "hotkeys": {
    "equation": "Ctrl-E",
    "itemize": "Ctrl-I"
   },
   "labels_anchors": false,
   "latex_user_defs": false,
   "report_style_numbering": false,
   "user_envs_cfg": false
  },
  "nbTranslate": {
   "displayLangs": [
    "*"
   ],
   "hotkey": "alt-t",
   "langInMainMenu": true,
   "sourceLang": "en",
   "targetLang": "fr",
   "useGoogleTranslate": true
  },
  "toc": {
   "base_numbering": 1,
   "nav_menu": {},
   "number_sections": true,
   "sideBar": true,
   "skip_h1_title": false,
   "title_cell": "Table of Contents",
   "title_sidebar": "Contents",
   "toc_cell": false,
   "toc_position": {
    "height": "calc(100% - 180px)",
    "left": "10px",
    "top": "150px",
    "width": "411px"
   },
   "toc_section_display": true,
   "toc_window_display": true
  }
 },
 "nbformat": 4,
 "nbformat_minor": 5
}
