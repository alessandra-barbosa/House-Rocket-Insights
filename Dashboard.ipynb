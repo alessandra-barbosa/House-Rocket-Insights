{
 "cells": [
  {
   "cell_type": "markdown",
   "id": "1d2f67c5",
   "metadata": {},
   "source": [
    "# CEO Questions "
   ]
  },
  {
   "cell_type": "markdown",
   "id": "f217abff",
   "metadata": {},
   "source": [
    "## Business question\n",
    "1. What are the properties that House Rocket should i buy it and at what price?\n",
    "2. Once the house is purchased, what is the best when to sell them and at what price?"
   ]
  },
  {
   "cell_type": "markdown",
   "id": "50a15ce5",
   "metadata": {},
   "source": [
    "## Imports"
   ]
  },
  {
   "cell_type": "code",
   "execution_count": 703,
   "id": "b7f460fe",
   "metadata": {
    "ExecuteTime": {
     "end_time": "2022-05-01T10:53:55.049844Z",
     "start_time": "2022-05-01T10:53:55.030894Z"
    }
   },
   "outputs": [],
   "source": [
    "import numpy as np\n",
    "import pandas as pd\n",
    "import seaborn as sns\n",
    "from matplotlib import gridspec\n",
    "from matplotlib import pyplot as plt\n",
    "import ipywidgets as widgets\n",
    "import plotly.express as px\n",
    "from ipywidgets import interact, interactive, fixed, interact_manual\n",
    "from geopy.geocoders import Nominatim\n",
    "import missingno                                   as msno\n"
   ]
  },
  {
   "cell_type": "markdown",
   "id": "d370a4d0",
   "metadata": {},
   "source": [
    "### Auxiliary functions "
   ]
  },
  {
   "cell_type": "code",
   "execution_count": 704,
   "id": "9b73dffc",
   "metadata": {
    "ExecuteTime": {
     "end_time": "2022-05-01T10:53:55.065801Z",
     "start_time": "2022-05-01T10:53:55.051839Z"
    }
   },
   "outputs": [],
   "source": [
    "## # Supress Scientific Notation\n",
    "\n",
    "np.set_printoptions(suppress=True)\n",
    "pd.set_option('display.float_format', '{:.2f}'.format)"
   ]
  },
  {
   "cell_type": "markdown",
   "id": "b49fc34f",
   "metadata": {},
   "source": [
    "## Loading data"
   ]
  },
  {
   "cell_type": "code",
   "execution_count": 705,
   "id": "e57dcf6b",
   "metadata": {
    "ExecuteTime": {
     "end_time": "2022-05-01T10:53:55.113706Z",
     "start_time": "2022-05-01T10:53:55.066798Z"
    }
   },
   "outputs": [],
   "source": [
    "df=pd.read_csv('Datasets/kc_house_data.csv',parse_dates=[1,14])"
   ]
  },
  {
   "cell_type": "markdown",
   "id": "fd4e3d26",
   "metadata": {},
   "source": [
    "## Dataset info"
   ]
  },
  {
   "cell_type": "code",
   "execution_count": 706,
   "id": "dc36c77b",
   "metadata": {
    "ExecuteTime": {
     "end_time": "2022-05-01T10:53:55.129630Z",
     "start_time": "2022-05-01T10:53:55.114671Z"
    },
    "scrolled": true
   },
   "outputs": [
    {
     "data": {
      "text/html": [
       "<div>\n",
       "<style scoped>\n",
       "    .dataframe tbody tr th:only-of-type {\n",
       "        vertical-align: middle;\n",
       "    }\n",
       "\n",
       "    .dataframe tbody tr th {\n",
       "        vertical-align: top;\n",
       "    }\n",
       "\n",
       "    .dataframe thead th {\n",
       "        text-align: right;\n",
       "    }\n",
       "</style>\n",
       "<table border=\"1\" class=\"dataframe\">\n",
       "  <thead>\n",
       "    <tr style=\"text-align: right;\">\n",
       "      <th></th>\n",
       "      <th>id</th>\n",
       "      <th>date</th>\n",
       "      <th>price</th>\n",
       "      <th>bedrooms</th>\n",
       "      <th>bathrooms</th>\n",
       "      <th>sqft_living</th>\n",
       "      <th>sqft_lot</th>\n",
       "      <th>floors</th>\n",
       "      <th>waterfront</th>\n",
       "      <th>view</th>\n",
       "      <th>...</th>\n",
       "      <th>grade</th>\n",
       "      <th>sqft_above</th>\n",
       "      <th>sqft_basement</th>\n",
       "      <th>yr_built</th>\n",
       "      <th>yr_renovated</th>\n",
       "      <th>zipcode</th>\n",
       "      <th>lat</th>\n",
       "      <th>long</th>\n",
       "      <th>sqft_living15</th>\n",
       "      <th>sqft_lot15</th>\n",
       "    </tr>\n",
       "  </thead>\n",
       "  <tbody>\n",
       "    <tr>\n",
       "      <th>0</th>\n",
       "      <td>7129300520</td>\n",
       "      <td>2014-10-13</td>\n",
       "      <td>221900.00</td>\n",
       "      <td>3</td>\n",
       "      <td>1.00</td>\n",
       "      <td>1180</td>\n",
       "      <td>5650</td>\n",
       "      <td>1.00</td>\n",
       "      <td>0</td>\n",
       "      <td>0</td>\n",
       "      <td>...</td>\n",
       "      <td>7</td>\n",
       "      <td>1180</td>\n",
       "      <td>0</td>\n",
       "      <td>1955-01-01</td>\n",
       "      <td>0</td>\n",
       "      <td>98178</td>\n",
       "      <td>47.51</td>\n",
       "      <td>-122.26</td>\n",
       "      <td>1340</td>\n",
       "      <td>5650</td>\n",
       "    </tr>\n",
       "    <tr>\n",
       "      <th>1</th>\n",
       "      <td>6414100192</td>\n",
       "      <td>2014-12-09</td>\n",
       "      <td>538000.00</td>\n",
       "      <td>3</td>\n",
       "      <td>2.25</td>\n",
       "      <td>2570</td>\n",
       "      <td>7242</td>\n",
       "      <td>2.00</td>\n",
       "      <td>0</td>\n",
       "      <td>0</td>\n",
       "      <td>...</td>\n",
       "      <td>7</td>\n",
       "      <td>2170</td>\n",
       "      <td>400</td>\n",
       "      <td>1951-01-01</td>\n",
       "      <td>1991</td>\n",
       "      <td>98125</td>\n",
       "      <td>47.72</td>\n",
       "      <td>-122.32</td>\n",
       "      <td>1690</td>\n",
       "      <td>7639</td>\n",
       "    </tr>\n",
       "    <tr>\n",
       "      <th>2</th>\n",
       "      <td>5631500400</td>\n",
       "      <td>2015-02-25</td>\n",
       "      <td>180000.00</td>\n",
       "      <td>2</td>\n",
       "      <td>1.00</td>\n",
       "      <td>770</td>\n",
       "      <td>10000</td>\n",
       "      <td>1.00</td>\n",
       "      <td>0</td>\n",
       "      <td>0</td>\n",
       "      <td>...</td>\n",
       "      <td>6</td>\n",
       "      <td>770</td>\n",
       "      <td>0</td>\n",
       "      <td>1933-01-01</td>\n",
       "      <td>0</td>\n",
       "      <td>98028</td>\n",
       "      <td>47.74</td>\n",
       "      <td>-122.23</td>\n",
       "      <td>2720</td>\n",
       "      <td>8062</td>\n",
       "    </tr>\n",
       "    <tr>\n",
       "      <th>3</th>\n",
       "      <td>2487200875</td>\n",
       "      <td>2014-12-09</td>\n",
       "      <td>604000.00</td>\n",
       "      <td>4</td>\n",
       "      <td>3.00</td>\n",
       "      <td>1960</td>\n",
       "      <td>5000</td>\n",
       "      <td>1.00</td>\n",
       "      <td>0</td>\n",
       "      <td>0</td>\n",
       "      <td>...</td>\n",
       "      <td>7</td>\n",
       "      <td>1050</td>\n",
       "      <td>910</td>\n",
       "      <td>1965-01-01</td>\n",
       "      <td>0</td>\n",
       "      <td>98136</td>\n",
       "      <td>47.52</td>\n",
       "      <td>-122.39</td>\n",
       "      <td>1360</td>\n",
       "      <td>5000</td>\n",
       "    </tr>\n",
       "    <tr>\n",
       "      <th>4</th>\n",
       "      <td>1954400510</td>\n",
       "      <td>2015-02-18</td>\n",
       "      <td>510000.00</td>\n",
       "      <td>3</td>\n",
       "      <td>2.00</td>\n",
       "      <td>1680</td>\n",
       "      <td>8080</td>\n",
       "      <td>1.00</td>\n",
       "      <td>0</td>\n",
       "      <td>0</td>\n",
       "      <td>...</td>\n",
       "      <td>8</td>\n",
       "      <td>1680</td>\n",
       "      <td>0</td>\n",
       "      <td>1987-01-01</td>\n",
       "      <td>0</td>\n",
       "      <td>98074</td>\n",
       "      <td>47.62</td>\n",
       "      <td>-122.05</td>\n",
       "      <td>1800</td>\n",
       "      <td>7503</td>\n",
       "    </tr>\n",
       "  </tbody>\n",
       "</table>\n",
       "<p>5 rows × 21 columns</p>\n",
       "</div>"
      ],
      "text/plain": [
       "           id       date     price  bedrooms  bathrooms  sqft_living  \\\n",
       "0  7129300520 2014-10-13 221900.00         3       1.00         1180   \n",
       "1  6414100192 2014-12-09 538000.00         3       2.25         2570   \n",
       "2  5631500400 2015-02-25 180000.00         2       1.00          770   \n",
       "3  2487200875 2014-12-09 604000.00         4       3.00         1960   \n",
       "4  1954400510 2015-02-18 510000.00         3       2.00         1680   \n",
       "\n",
       "   sqft_lot  floors  waterfront  view  ...  grade  sqft_above  sqft_basement  \\\n",
       "0      5650    1.00           0     0  ...      7        1180              0   \n",
       "1      7242    2.00           0     0  ...      7        2170            400   \n",
       "2     10000    1.00           0     0  ...      6         770              0   \n",
       "3      5000    1.00           0     0  ...      7        1050            910   \n",
       "4      8080    1.00           0     0  ...      8        1680              0   \n",
       "\n",
       "    yr_built yr_renovated  zipcode   lat    long  sqft_living15  sqft_lot15  \n",
       "0 1955-01-01            0    98178 47.51 -122.26           1340        5650  \n",
       "1 1951-01-01         1991    98125 47.72 -122.32           1690        7639  \n",
       "2 1933-01-01            0    98028 47.74 -122.23           2720        8062  \n",
       "3 1965-01-01            0    98136 47.52 -122.39           1360        5000  \n",
       "4 1987-01-01            0    98074 47.62 -122.05           1800        7503  \n",
       "\n",
       "[5 rows x 21 columns]"
      ]
     },
     "execution_count": 706,
     "metadata": {},
     "output_type": "execute_result"
    }
   ],
   "source": [
    "df.head()"
   ]
  },
  {
   "cell_type": "code",
   "execution_count": 707,
   "id": "4b10b294",
   "metadata": {
    "ExecuteTime": {
     "end_time": "2022-05-01T10:53:55.144590Z",
     "start_time": "2022-05-01T10:53:55.130628Z"
    },
    "cell_style": "center"
   },
   "outputs": [
    {
     "name": "stdout",
     "output_type": "stream",
     "text": [
      "<class 'pandas.core.frame.DataFrame'>\n",
      "RangeIndex: 21613 entries, 0 to 21612\n",
      "Data columns (total 21 columns):\n",
      " #   Column         Non-Null Count  Dtype         \n",
      "---  ------         --------------  -----         \n",
      " 0   id             21613 non-null  int64         \n",
      " 1   date           21613 non-null  datetime64[ns]\n",
      " 2   price          21613 non-null  float64       \n",
      " 3   bedrooms       21613 non-null  int64         \n",
      " 4   bathrooms      21613 non-null  float64       \n",
      " 5   sqft_living    21613 non-null  int64         \n",
      " 6   sqft_lot       21613 non-null  int64         \n",
      " 7   floors         21613 non-null  float64       \n",
      " 8   waterfront     21613 non-null  int64         \n",
      " 9   view           21613 non-null  int64         \n",
      " 10  condition      21613 non-null  int64         \n",
      " 11  grade          21613 non-null  int64         \n",
      " 12  sqft_above     21613 non-null  int64         \n",
      " 13  sqft_basement  21613 non-null  int64         \n",
      " 14  yr_built       21613 non-null  datetime64[ns]\n",
      " 15  yr_renovated   21613 non-null  int64         \n",
      " 16  zipcode        21613 non-null  int64         \n",
      " 17  lat            21613 non-null  float64       \n",
      " 18  long           21613 non-null  float64       \n",
      " 19  sqft_living15  21613 non-null  int64         \n",
      " 20  sqft_lot15     21613 non-null  int64         \n",
      "dtypes: datetime64[ns](2), float64(5), int64(14)\n",
      "memory usage: 3.5 MB\n"
     ]
    }
   ],
   "source": [
    "df.info()"
   ]
  },
  {
   "cell_type": "markdown",
   "id": "bb59a478",
   "metadata": {},
   "source": [
    "### Change types"
   ]
  },
  {
   "cell_type": "code",
   "execution_count": 708,
   "id": "0687892b",
   "metadata": {
    "ExecuteTime": {
     "end_time": "2022-05-01T10:53:55.303549Z",
     "start_time": "2022-05-01T10:53:55.145588Z"
    }
   },
   "outputs": [],
   "source": [
    "df['condition'] = df['condition'].astype( str )\n",
    "df['yr_renovated'] = df['yr_renovated'].apply( lambda x: pd.to_datetime( x,format='%Y') if x > 0 else x )"
   ]
  },
  {
   "cell_type": "markdown",
   "id": "7c3c5ccc",
   "metadata": {
    "ExecuteTime": {
     "end_time": "2022-04-29T10:21:16.597128Z",
     "start_time": "2022-04-29T10:21:16.580310Z"
    }
   },
   "source": [
    "| Attributes     | Meaning                                                                                                                                                                                              |\n",
    "|----------------|------------------------------------------------------------------------------------------------------------------------------------------------------------------------------------------------------|\n",
    "| id             | Unique ID for each home sold                                                                                                                                                                         |\n",
    "| date           | Date of the home sale                                                                                                                                                                                |\n",
    "| price          | Price of each home sold                                                                                                                                                                              |\n",
    "| bedrooms       | Number of bedrooms                                                                                                                                                                                   |\n",
    "| bathrooms      | Number of bathrooms, where .5 accounts for a room with a toilet but no shower                                                                                                                        |\n",
    "| sqft_living    | Square footage of the apartments interior living space                                                                                                                                               |\n",
    "| sqft_lot       | Square footage of the land space                                                                                                                                                                     |\n",
    "| floors         | Number of floors                                                                                                                                                                                     |\n",
    "| waterfront     | A dummy variable for whether the apartment was overlooking the waterfront or not                                                                                                                     |\n",
    "| view           | An index from 0 to 4 of how good the view of the property was                                                                                                                                        |\n",
    "| condition      | An index from 1 to 5 on the condition of the apartment                                                                                                                                               |\n",
    "| grade          | An index from 1 to 13, where 1-3 falls short of building construction and design, 7 has an average level of construction and design, and 11-13 have a high quality level of construction and design. |\n",
    "| sqft_above     | The square footage of the interior housing space that is above ground level                                                                                                                          |\n",
    "| sqft_basement  | The square footage of the interior housing space that is below ground level                                                                                                                          |\n",
    "| yr_built       | The year the house was initially built                                                                                                                                                               |\n",
    "| yr_renovated   | The year of the house’s last renovation                                                                                                                                                              |\n",
    "| zipcode        | What zipcode area the house is in                                                                                                                                                                    |\n",
    "| sqft_living15  | The square footage of interior housing living space for the nearest 15 neighbors                                                                                                                     |\n",
    "| sqft_lot15     | The square footage of the land lots of the nearest 15 neighbors    "
   ]
  },
  {
   "cell_type": "markdown",
   "id": "7ab30ec2",
   "metadata": {},
   "source": [
    "## Insights"
   ]
  },
  {
   "cell_type": "markdown",
   "id": "6282bcb2",
   "metadata": {},
   "source": [
    "1. How many homes are available for purchase?\n",
    "2. How many attributes do houses have?\n",
    "3. What are the attributes of the houses?\n",
    "4. What is the most expensive house (house with the highest sale value)?\n",
    "5. Which house has the most rooms?\n",
    "6. What is the sum total of quarters in the dataset?\n",
    "7. How many houses have 2 bathrooms?\n",
    "8. What is the average price of all houses in the dataset?\n",
    "9. What is the average price of 2 bathroom homes?\n",
    "10. What is the minimum price for 3 bedroom homes?\n",
    "11. How many houses have more than 300 square meters in the living room?\n",
    "Of being?\n",
    "12. How many houses have more than 2 floors?\n",
    "13. How many houses have a sea view?\n",
    "14. Of the houses with sea views, how many have 3 bedrooms?\n",
    "15. Of the houses with more than 300 square meters of living room,\n",
    "how many have more than 2 bathrooms?"
   ]
  },
  {
   "cell_type": "code",
   "execution_count": 709,
   "id": "e6e86874",
   "metadata": {
    "ExecuteTime": {
     "end_time": "2022-05-01T10:53:55.319563Z",
     "start_time": "2022-05-01T10:53:55.306584Z"
    },
    "cell_style": "center",
    "scrolled": true
   },
   "outputs": [
    {
     "name": "stdout",
     "output_type": "stream",
     "text": [
      "Number of houses available for purchase: 21613\n",
      "Features by house: 21\n"
     ]
    }
   ],
   "source": [
    "print( 'Number of houses available for purchase: {}'.format( df.shape[0] ) )\n",
    "print( 'Features by house: {}'.format( df.shape[1] ) )"
   ]
  },
  {
   "cell_type": "code",
   "execution_count": 710,
   "id": "67446100",
   "metadata": {
    "ExecuteTime": {
     "end_time": "2022-05-01T10:53:55.351635Z",
     "start_time": "2022-05-01T10:53:55.320716Z"
    }
   },
   "outputs": [
    {
     "name": "stdout",
     "output_type": "stream",
     "text": [
      "Features by house: 7129300520\n",
      "Features by house: 2402100895\n",
      "summ bedrooms: 72854\n",
      "Total number of houses with 2 bathrooms: 1930\n",
      "Average Price: $540088.14\n",
      "Average Price: $457889.72\n",
      "Min Price: $82000.0\n",
      "There are 21612 Houses with living room grater than 300 square foot\n",
      "There are 782 Houses with the number of floors grater than 2\n",
      "There are 10680 Houses with the number of floors grater than 2\n",
      "There are 127 Houses with waterfront and bedrooms greater then 3\n",
      "There are 11242 Houses with living room greater than 300 and bathrooms bigger than 2\n"
     ]
    }
   ],
   "source": [
    "house_expensive_id = df[['id', 'price']].sort_values('price', ascending=False ).loc[0,'id']\n",
    "print( 'Features by house: {}'.format( house_expensive_id) )\n",
    "house_bedrooms_id = df[['id', 'bedrooms']].sort_values('bedrooms', ascending=False ).iloc[0,0]\n",
    "print( 'Features by house: {}'.format( house_bedrooms_id) )\n",
    "print( 'summ bedrooms: {}'.format( df['bedrooms'].sum() ))\n",
    "data = df.loc[df['bathrooms'] == 2, :]\n",
    "num_houses = len( data )\n",
    "print( 'Total number of houses with 2 bathrooms: {}'.format( num_houses ) )\n",
    "avg_price = np.round( df['price'].mean(), 2 )\n",
    "print( 'Average Price: ${}'.format( avg_price ) )\n",
    "avg_price = np.round( data.loc[data['bathrooms'] == 2, 'price'].mean(), 2 )\n",
    "print( 'Average Price: ${}'.format( avg_price ) )\n",
    "min_price = np.round( df.loc[df['bedrooms'] == 3, 'price'].min(), 2 )\n",
    "print( 'Min Price: ${}'.format( min_price ))\n",
    "houses = df.loc[df['sqft_living'] > 300, 'id'].shape[0]\n",
    "print( 'There are {} Houses with living room grater than 300 square foot'.format( houses ) )\n",
    "houses = df.loc[df['floors'] > 2, 'id'].shape[0]\n",
    "print( 'There are {} Houses with the number of floors grater than 2'.format(houses ) )\n",
    "houses = df.loc[df['floors'] == 1, 'id'].shape[0]\n",
    "print( 'There are {} Houses with the number of floors grater than 2'.format(houses ) )\n",
    "houses = df.loc[(df['waterfront'] == 1) & (df['bedrooms'] > 2), 'id'].shape[0]\n",
    "print( 'There are {} Houses with waterfront and bedrooms greater then 3'.format( houses ) )\n",
    "houses = df.loc[(df['sqft_living'] > 300) & (df['bathrooms'] > 2), 'id'].shape[0]\n",
    "print( 'There are {} Houses with living room greater than 300 and bathrooms bigger than 2'.format( houses ) )\n"
   ]
  },
  {
   "cell_type": "markdown",
   "id": "29f318db",
   "metadata": {},
   "source": [
    "## Feature engineering"
   ]
  },
  {
   "cell_type": "markdown",
   "id": "5f8cdcaa",
   "metadata": {},
   "source": [
    "### “house_age”\n",
    "- Se o valor da coluna “date” for maior que 2014-01-01 => ‘new_house’\n",
    "- Se o valor da coluna “date” for menor que 2014-01-01 => ‘old_house’\n"
   ]
  },
  {
   "cell_type": "code",
   "execution_count": 711,
   "id": "9e826348",
   "metadata": {
    "ExecuteTime": {
     "end_time": "2022-05-01T10:53:55.366604Z",
     "start_time": "2022-05-01T10:53:55.352633Z"
    },
    "scrolled": true
   },
   "outputs": [],
   "source": [
    "df['house_age'] = 'NA'\n",
    "df.loc[df['date'] > '2015-01-01', 'house_age'] = 'new_house'\n",
    "df.loc[df['date'] < '2015-01-01', 'house_age'] = 'old_house'"
   ]
  },
  {
   "cell_type": "code",
   "execution_count": 712,
   "id": "fc407a4c",
   "metadata": {
    "ExecuteTime": {
     "end_time": "2022-05-01T10:53:55.381560Z",
     "start_time": "2022-05-01T10:53:55.368590Z"
    }
   },
   "outputs": [
    {
     "data": {
      "text/html": [
       "<div>\n",
       "<style scoped>\n",
       "    .dataframe tbody tr th:only-of-type {\n",
       "        vertical-align: middle;\n",
       "    }\n",
       "\n",
       "    .dataframe tbody tr th {\n",
       "        vertical-align: top;\n",
       "    }\n",
       "\n",
       "    .dataframe thead th {\n",
       "        text-align: right;\n",
       "    }\n",
       "</style>\n",
       "<table border=\"1\" class=\"dataframe\">\n",
       "  <thead>\n",
       "    <tr style=\"text-align: right;\">\n",
       "      <th></th>\n",
       "      <th>house_age</th>\n",
       "      <th>sqft_living</th>\n",
       "      <th>price</th>\n",
       "    </tr>\n",
       "  </thead>\n",
       "  <tbody>\n",
       "    <tr>\n",
       "      <th>0</th>\n",
       "      <td>new_house</td>\n",
       "      <td>2041.29</td>\n",
       "      <td>541988.99</td>\n",
       "    </tr>\n",
       "    <tr>\n",
       "      <th>1</th>\n",
       "      <td>old_house</td>\n",
       "      <td>2098.32</td>\n",
       "      <td>539181.43</td>\n",
       "    </tr>\n",
       "  </tbody>\n",
       "</table>\n",
       "</div>"
      ],
      "text/plain": [
       "   house_age  sqft_living     price\n",
       "0  new_house      2041.29 541988.99\n",
       "1  old_house      2098.32 539181.43"
      ]
     },
     "execution_count": 712,
     "metadata": {},
     "output_type": "execute_result"
    }
   ],
   "source": [
    "df[['house_age','sqft_living','price']].groupby('house_age').mean().reset_index()"
   ]
  },
  {
   "cell_type": "markdown",
   "id": "c8dc8f30",
   "metadata": {},
   "source": [
    "### “dormitory_type”\n",
    "- Se o valor da coluna “bedrooms” for igual à 1 => ‘studio’\n",
    "- Se o valor da coluna “bedrooms” for igual a 2 => ‘apartament’\n",
    "- Se o valor da coluna “bedrooms” for maior que 2 => ‘house’\n"
   ]
  },
  {
   "cell_type": "code",
   "execution_count": 713,
   "id": "7d4c6232",
   "metadata": {
    "ExecuteTime": {
     "end_time": "2022-05-01T10:53:57.272986Z",
     "start_time": "2022-05-01T10:53:55.382553Z"
    }
   },
   "outputs": [],
   "source": [
    "df['dormitory_type'] = 'NA'\n",
    "for i in range( len( df ) ):\n",
    "    if df.loc[i, 'bedrooms'] <= 1:\n",
    "        df.loc[i, 'dormitory_type'] = 'studio'\n",
    "        \n",
    "    elif df.loc[i, 'bedrooms'] <= 2:\n",
    "        df.loc[i, 'dormitory_type'] = 'apartment'\n",
    "        \n",
    "    elif df.loc[i, 'bedrooms'] > 2:\n",
    "        df.loc[i, 'dormitory_type'] = 'house'"
   ]
  },
  {
   "cell_type": "code",
   "execution_count": 714,
   "id": "5039b422",
   "metadata": {
    "ExecuteTime": {
     "end_time": "2022-05-01T10:53:57.288647Z",
     "start_time": "2022-05-01T10:53:57.273685Z"
    }
   },
   "outputs": [
    {
     "data": {
      "text/html": [
       "<div>\n",
       "<style scoped>\n",
       "    .dataframe tbody tr th:only-of-type {\n",
       "        vertical-align: middle;\n",
       "    }\n",
       "\n",
       "    .dataframe tbody tr th {\n",
       "        vertical-align: top;\n",
       "    }\n",
       "\n",
       "    .dataframe thead th {\n",
       "        text-align: right;\n",
       "    }\n",
       "</style>\n",
       "<table border=\"1\" class=\"dataframe\">\n",
       "  <thead>\n",
       "    <tr style=\"text-align: right;\">\n",
       "      <th></th>\n",
       "      <th>dormitory_type</th>\n",
       "      <th>sqft_living</th>\n",
       "      <th>price</th>\n",
       "    </tr>\n",
       "  </thead>\n",
       "  <tbody>\n",
       "    <tr>\n",
       "      <th>0</th>\n",
       "      <td>apartment</td>\n",
       "      <td>1239.75</td>\n",
       "      <td>401372.68</td>\n",
       "    </tr>\n",
       "    <tr>\n",
       "      <th>1</th>\n",
       "      <td>house</td>\n",
       "      <td>2217.31</td>\n",
       "      <td>563092.21</td>\n",
       "    </tr>\n",
       "    <tr>\n",
       "      <th>2</th>\n",
       "      <td>studio</td>\n",
       "      <td>935.09</td>\n",
       "      <td>323275.87</td>\n",
       "    </tr>\n",
       "  </tbody>\n",
       "</table>\n",
       "</div>"
      ],
      "text/plain": [
       "  dormitory_type  sqft_living     price\n",
       "0      apartment      1239.75 401372.68\n",
       "1          house      2217.31 563092.21\n",
       "2         studio       935.09 323275.87"
      ]
     },
     "execution_count": 714,
     "metadata": {},
     "output_type": "execute_result"
    }
   ],
   "source": [
    "df[['dormitory_type','sqft_living','price']].groupby('dormitory_type').mean().reset_index()"
   ]
  },
  {
   "cell_type": "markdown",
   "id": "c421b39e",
   "metadata": {
    "ExecuteTime": {
     "end_time": "2021-08-27T18:23:10.690279Z",
     "start_time": "2021-08-27T18:23:10.682837Z"
    }
   },
   "source": [
    "### “condition_type”\n",
    "- Se o valor da coluna “condition” for menor ou igual à 2 => ‘bad’\n",
    "- Se o valor da coluna “condition” for igual à 3 ou 4 => ‘regular’\n",
    "- Se o valor da coluna “condition” for igual à 5 => ‘good’\n"
   ]
  },
  {
   "cell_type": "code",
   "execution_count": 715,
   "id": "c8a05057",
   "metadata": {
    "ExecuteTime": {
     "end_time": "2022-05-01T10:53:57.303610Z",
     "start_time": "2022-05-01T10:53:57.290642Z"
    }
   },
   "outputs": [],
   "source": [
    "df['condition_type']=df['condition'].apply(lambda x:'bad' if x== '2' else \n",
    "                                                  'regular' if (x==\"3\" or x==\"4\") else \n",
    "                                                  'good') \n"
   ]
  },
  {
   "cell_type": "code",
   "execution_count": 716,
   "id": "78b99908",
   "metadata": {
    "ExecuteTime": {
     "end_time": "2022-05-01T10:53:57.319565Z",
     "start_time": "2022-05-01T10:53:57.304606Z"
    }
   },
   "outputs": [
    {
     "data": {
      "text/html": [
       "<div>\n",
       "<style scoped>\n",
       "    .dataframe tbody tr th:only-of-type {\n",
       "        vertical-align: middle;\n",
       "    }\n",
       "\n",
       "    .dataframe tbody tr th {\n",
       "        vertical-align: top;\n",
       "    }\n",
       "\n",
       "    .dataframe thead th {\n",
       "        text-align: right;\n",
       "    }\n",
       "</style>\n",
       "<table border=\"1\" class=\"dataframe\">\n",
       "  <thead>\n",
       "    <tr style=\"text-align: right;\">\n",
       "      <th></th>\n",
       "      <th>condition_type</th>\n",
       "      <th>sqft_living</th>\n",
       "      <th>price</th>\n",
       "    </tr>\n",
       "  </thead>\n",
       "  <tbody>\n",
       "    <tr>\n",
       "      <th>0</th>\n",
       "      <td>bad</td>\n",
       "      <td>1410.06</td>\n",
       "      <td>327287.15</td>\n",
       "    </tr>\n",
       "    <tr>\n",
       "      <th>1</th>\n",
       "      <td>good</td>\n",
       "      <td>2008.93</td>\n",
       "      <td>607600.30</td>\n",
       "    </tr>\n",
       "    <tr>\n",
       "      <th>2</th>\n",
       "      <td>regular</td>\n",
       "      <td>2091.98</td>\n",
       "      <td>536016.01</td>\n",
       "    </tr>\n",
       "  </tbody>\n",
       "</table>\n",
       "</div>"
      ],
      "text/plain": [
       "  condition_type  sqft_living     price\n",
       "0            bad      1410.06 327287.15\n",
       "1           good      2008.93 607600.30\n",
       "2        regular      2091.98 536016.01"
      ]
     },
     "execution_count": 716,
     "metadata": {},
     "output_type": "execute_result"
    }
   ],
   "source": [
    "df[['condition_type','sqft_living','price']].groupby('condition_type').mean().reset_index()"
   ]
  },
  {
   "cell_type": "code",
   "execution_count": 717,
   "id": "3342f2ee",
   "metadata": {
    "ExecuteTime": {
     "end_time": "2022-05-01T10:53:57.335522Z",
     "start_time": "2022-05-01T10:53:57.321561Z"
    }
   },
   "outputs": [
    {
     "name": "stdout",
     "output_type": "stream",
     "text": [
      "Number of Houses in \"regular\" condition is: 19710\n"
     ]
    }
   ],
   "source": [
    "houses = df[df['condition_type'] == 'regular'].shape[0]\n",
    "print( 'Number of Houses in \"regular\" condition is: {}'.format( houses ) )"
   ]
  },
  {
   "cell_type": "code",
   "execution_count": 718,
   "id": "9c5d9741",
   "metadata": {
    "ExecuteTime": {
     "end_time": "2022-05-01T10:53:57.350484Z",
     "start_time": "2022-05-01T10:53:57.336520Z"
    }
   },
   "outputs": [
    {
     "name": "stdout",
     "output_type": "stream",
     "text": [
      "Number of Houses with water view and bad condition: 1\n"
     ]
    }
   ],
   "source": [
    "houses = df[(df['condition_type'] == 'bad') & (df['waterfront'] == 1)].shape[0]\n",
    "print( \"Number of Houses with water view and bad condition: {}\".format( houses) )"
   ]
  },
  {
   "cell_type": "code",
   "execution_count": 719,
   "id": "7f9a62b0",
   "metadata": {
    "ExecuteTime": {
     "end_time": "2022-05-01T10:53:57.365442Z",
     "start_time": "2022-05-01T10:53:57.351479Z"
    }
   },
   "outputs": [
    {
     "name": "stdout",
     "output_type": "stream",
     "text": [
      "Number of new house with good conditional type is: 434\n"
     ]
    }
   ],
   "source": [
    "houses = df[(df['condition_type'] == 'good') & (df['house_age'] ==\"new_house\")].shape[0]\n",
    "print( \"Number of new house with good conditional type is: {}\".format( houses ))"
   ]
  },
  {
   "cell_type": "code",
   "execution_count": 720,
   "id": "5c6b85df",
   "metadata": {
    "ExecuteTime": {
     "end_time": "2022-05-01T10:53:57.381400Z",
     "start_time": "2022-05-01T10:53:57.366456Z"
    },
    "scrolled": true
   },
   "outputs": [
    {
     "name": "stdout",
     "output_type": "stream",
     "text": [
      "Most expensive studio house: $1295650.0\n"
     ]
    }
   ],
   "source": [
    "max_studio_price = df[df['dormitory_type'] == 'studio']['price'].max()\n",
    "print( \"Most expensive studio house: ${}\".format( max_studio_price ) )"
   ]
  },
  {
   "cell_type": "code",
   "execution_count": 721,
   "id": "91fa74ce",
   "metadata": {
    "ExecuteTime": {
     "end_time": "2022-05-01T10:53:57.396360Z",
     "start_time": "2022-05-01T10:53:57.382396Z"
    }
   },
   "outputs": [
    {
     "name": "stdout",
     "output_type": "stream",
     "text": [
      "Number of reformed house in 2014: 0\n"
     ]
    }
   ],
   "source": [
    "houses = df[(df['house_age'] == 'new_house') &\n",
    "(df['yr_renovated'] == 2014 )].shape[0]\n",
    "print( \"Number of reformed house in 2014: {}\".format( houses ) )"
   ]
  },
  {
   "cell_type": "markdown",
   "id": "f30f23fc",
   "metadata": {
    "ExecuteTime": {
     "end_time": "2021-08-27T18:23:10.690279Z",
     "start_time": "2021-08-27T18:23:10.682837Z"
    }
   },
   "source": [
    "### “Level”\n",
    "- Nível 0 -> Preço entre R$ 0 e R$ 321.950 \n",
    "- Nível 1 -> Preço entre R$ 321.950 e R$ 450.000 \n",
    "- Nível 2 -> Preço entre R$ 450.000 e R$ 645.000 \n",
    "- Nível 3 -> Acima de R$ 645.000\n"
   ]
  },
  {
   "cell_type": "code",
   "execution_count": 722,
   "id": "7ce1d00a",
   "metadata": {
    "ExecuteTime": {
     "end_time": "2022-05-01T10:53:57.411319Z",
     "start_time": "2022-05-01T10:53:57.397358Z"
    }
   },
   "outputs": [],
   "source": [
    "df['level']=df['price'].apply(lambda x:'level_00' if (x >=0)&(x<321950) else\n",
    "                                      'level_01' if (x >=321950)&(x<450000) else\n",
    "                                      'level_02' if (x >=45000)&(x<645000) else 'level_03')"
   ]
  },
  {
   "cell_type": "code",
   "execution_count": 723,
   "id": "89733dbb",
   "metadata": {
    "ExecuteTime": {
     "end_time": "2022-05-01T10:53:57.426313Z",
     "start_time": "2022-05-01T10:53:57.412317Z"
    }
   },
   "outputs": [
    {
     "data": {
      "text/html": [
       "<div>\n",
       "<style scoped>\n",
       "    .dataframe tbody tr th:only-of-type {\n",
       "        vertical-align: middle;\n",
       "    }\n",
       "\n",
       "    .dataframe tbody tr th {\n",
       "        vertical-align: top;\n",
       "    }\n",
       "\n",
       "    .dataframe thead th {\n",
       "        text-align: right;\n",
       "    }\n",
       "</style>\n",
       "<table border=\"1\" class=\"dataframe\">\n",
       "  <thead>\n",
       "    <tr style=\"text-align: right;\">\n",
       "      <th></th>\n",
       "      <th>level</th>\n",
       "      <th>sqft_living</th>\n",
       "      <th>price</th>\n",
       "    </tr>\n",
       "  </thead>\n",
       "  <tbody>\n",
       "    <tr>\n",
       "      <th>0</th>\n",
       "      <td>level_00</td>\n",
       "      <td>1465.29</td>\n",
       "      <td>251544.62</td>\n",
       "    </tr>\n",
       "    <tr>\n",
       "      <th>1</th>\n",
       "      <td>level_01</td>\n",
       "      <td>1777.89</td>\n",
       "      <td>383585.21</td>\n",
       "    </tr>\n",
       "    <tr>\n",
       "      <th>2</th>\n",
       "      <td>level_02</td>\n",
       "      <td>2073.77</td>\n",
       "      <td>536164.42</td>\n",
       "    </tr>\n",
       "    <tr>\n",
       "      <th>3</th>\n",
       "      <td>level_03</td>\n",
       "      <td>2994.71</td>\n",
       "      <td>985008.98</td>\n",
       "    </tr>\n",
       "  </tbody>\n",
       "</table>\n",
       "</div>"
      ],
      "text/plain": [
       "      level  sqft_living     price\n",
       "0  level_00      1465.29 251544.62\n",
       "1  level_01      1777.89 383585.21\n",
       "2  level_02      2073.77 536164.42\n",
       "3  level_03      2994.71 985008.98"
      ]
     },
     "execution_count": 723,
     "metadata": {},
     "output_type": "execute_result"
    }
   ],
   "source": [
    "df[['level','sqft_living','price']].groupby('level').mean().reset_index()"
   ]
  },
  {
   "cell_type": "markdown",
   "id": "0c1d88c7",
   "metadata": {},
   "source": [
    "### \"Size\"\n",
    "- Size 0 -> Tamanho entre 0 e 1427 sqft \n",
    "- Size 1 -> Tamanho entre 1427 e 1910 sqft \n",
    "- Size 2 -> Tamanho entre 1910 e 2550 sqft \n",
    "- Size 3 -> Tamanho acima de 2550 sqft"
   ]
  },
  {
   "cell_type": "code",
   "execution_count": 724,
   "id": "0c1916fa",
   "metadata": {
    "ExecuteTime": {
     "end_time": "2022-05-01T10:53:57.442238Z",
     "start_time": "2022-05-01T10:53:57.427276Z"
    },
    "code_folding": []
   },
   "outputs": [],
   "source": [
    "df['size']=df['sqft_living'].apply(lambda x:'s00' if (x >=0)&(x<1427) else\n",
    "                                      's01' if (x >=1427)&(x<1910) else\n",
    "                                      's02' if (x >=1910)&(x<2550) else 's03')"
   ]
  },
  {
   "cell_type": "code",
   "execution_count": 725,
   "id": "a4004260",
   "metadata": {
    "ExecuteTime": {
     "end_time": "2022-05-01T10:53:57.457197Z",
     "start_time": "2022-05-01T10:53:57.443235Z"
    }
   },
   "outputs": [
    {
     "data": {
      "text/html": [
       "<div>\n",
       "<style scoped>\n",
       "    .dataframe tbody tr th:only-of-type {\n",
       "        vertical-align: middle;\n",
       "    }\n",
       "\n",
       "    .dataframe tbody tr th {\n",
       "        vertical-align: top;\n",
       "    }\n",
       "\n",
       "    .dataframe thead th {\n",
       "        text-align: right;\n",
       "    }\n",
       "</style>\n",
       "<table border=\"1\" class=\"dataframe\">\n",
       "  <thead>\n",
       "    <tr style=\"text-align: right;\">\n",
       "      <th></th>\n",
       "      <th>size</th>\n",
       "      <th>sqft_living</th>\n",
       "      <th>price</th>\n",
       "    </tr>\n",
       "  </thead>\n",
       "  <tbody>\n",
       "    <tr>\n",
       "      <th>0</th>\n",
       "      <td>s00</td>\n",
       "      <td>1123.78</td>\n",
       "      <td>339029.47</td>\n",
       "    </tr>\n",
       "    <tr>\n",
       "      <th>1</th>\n",
       "      <td>s01</td>\n",
       "      <td>1661.20</td>\n",
       "      <td>420923.49</td>\n",
       "    </tr>\n",
       "    <tr>\n",
       "      <th>2</th>\n",
       "      <td>s02</td>\n",
       "      <td>2202.70</td>\n",
       "      <td>519925.05</td>\n",
       "    </tr>\n",
       "    <tr>\n",
       "      <th>3</th>\n",
       "      <td>s03</td>\n",
       "      <td>3318.99</td>\n",
       "      <td>877266.49</td>\n",
       "    </tr>\n",
       "  </tbody>\n",
       "</table>\n",
       "</div>"
      ],
      "text/plain": [
       "  size  sqft_living     price\n",
       "0  s00      1123.78 339029.47\n",
       "1  s01      1661.20 420923.49\n",
       "2  s02      2202.70 519925.05\n",
       "3  s03      3318.99 877266.49"
      ]
     },
     "execution_count": 725,
     "metadata": {},
     "output_type": "execute_result"
    }
   ],
   "source": [
    "df[['size','sqft_living','price']].groupby('size').mean().reset_index()"
   ]
  },
  {
   "cell_type": "markdown",
   "id": "d608569d",
   "metadata": {},
   "source": [
    "## Data Vizualization"
   ]
  },
  {
   "cell_type": "code",
   "execution_count": 726,
   "id": "6133622a",
   "metadata": {
    "ExecuteTime": {
     "end_time": "2022-05-01T10:53:57.616265Z",
     "start_time": "2022-05-01T10:53:57.458196Z"
    },
    "scrolled": true
   },
   "outputs": [
    {
     "data": {
      "image/png": "[encoded data removed]",
      "text/plain": [
       "<Figure size 1728x864 with 1 Axes>"
      ]
     },
     "metadata": {
      "needs_background": "light"
     },
     "output_type": "display_data"
    }
   ],
   "source": [
    "plt.figure( figsize=(24,12))\n",
    "data = df[['price', 'bedrooms']].groupby( 'bedrooms' ).mean().reset_index()\n",
    "sns.barplot( x='bedrooms', y='price', data=data );"
   ]
  },
  {
   "cell_type": "code",
   "execution_count": 727,
   "id": "bf1f57b6",
   "metadata": {
    "ExecuteTime": {
     "end_time": "2022-05-01T10:53:57.775534Z",
     "start_time": "2022-05-01T10:53:57.617279Z"
    }
   },
   "outputs": [
    {
     "data": {
      "image/png": "[encoded data removed]",
      "text/plain": [
       "<Figure size 1728x864 with 1 Axes>"
      ]
     },
     "metadata": {
      "needs_background": "light"
     },
     "output_type": "display_data"
    }
   ],
   "source": [
    "plt.figure( figsize=(24,12))\n",
    "data = df[['price', 'yr_built']].groupby( 'yr_built' ).mean().reset_index()\n",
    "sns.lineplot( x='yr_built', y='price', data=data );"
   ]
  },
  {
   "cell_type": "code",
   "execution_count": 728,
   "id": "c4f32b9f",
   "metadata": {
    "ExecuteTime": {
     "end_time": "2022-05-01T10:54:02.493577Z",
     "start_time": "2022-05-01T10:53:57.776531Z"
    }
   },
   "outputs": [
    {
     "name": "stdout",
     "output_type": "stream",
     "text": [
      "Loop:0/10\n",
      "Loop:1/10\n",
      "Loop:2/10\n",
      "Loop:3/10\n",
      "Loop:4/10\n",
      "Loop:5/10\n",
      "Loop:6/10\n",
      "Loop:7/10\n",
      "Loop:8/10\n",
      "Loop:9/10\n"
     ]
    }
   ],
   "source": [
    "import pandas as pd\n",
    "from geopy.geocoders import Nominatim\n",
    "df=df.head(10)\n",
    "\n",
    "#Create empty rows\n",
    "df['road']='NA'\n",
    "df['house_number']='NA'\n",
    "df['city']='NA'\n",
    "df['county']='NA'\n",
    "df['state']='NA'\n",
    "df['neighbourhood']='NA'\n",
    "\n",
    "geolocator=Nominatim(user_agent='geoapiExercises')\n",
    "\n",
    "for i in range(len(df)):\n",
    "    print('Loop:{}/{}'.format(i,len(df)))\n",
    "    df\n",
    "    query=str(df.loc[i,'lat'])+','+str(df.loc[i,'long'])\n",
    "\n",
    "#API Request\n",
    "    response=geolocator.reverse(query)\n",
    "\n",
    "#populate df\n",
    "    if 'house_number' in response.raw['address']:\n",
    "        df.loc[i,'house_number']=response.raw['address']['house_number']\n",
    "    if 'road' in response.raw['address']:\n",
    "        df.loc[i,'road']        =response.raw['address']['road']\n",
    "    if 'city' in response.raw['address']:\n",
    "        df.loc[i,'city']        =response.raw['address']['city']\n",
    "    if 'county' in response.raw['address']:\n",
    "        df.loc[i,'county']      =response.raw['address']['county']\n",
    "    if 'state' in response.raw['address']:\n",
    "        df.loc[i,'state']       =response.raw['address']['state']\n",
    "    if 'neighbourhood' in response.raw['address']:\n",
    "        df.loc[i,'neighbourhood']=response.raw['address']['neighbourhood']\n",
    "\n"
   ]
  },
  {
   "cell_type": "code",
   "execution_count": 729,
   "id": "c3735e11",
   "metadata": {
    "ExecuteTime": {
     "end_time": "2022-05-01T10:54:02.587092Z",
     "start_time": "2022-05-01T10:54:02.495261Z"
    }
   },
   "outputs": [
    {
     "data": {
      "text/html": [
       "<div>\n",
       "<style scoped>\n",
       "    .dataframe tbody tr th:only-of-type {\n",
       "        vertical-align: middle;\n",
       "    }\n",
       "\n",
       "    .dataframe tbody tr th {\n",
       "        vertical-align: top;\n",
       "    }\n",
       "\n",
       "    .dataframe thead th {\n",
       "        text-align: right;\n",
       "    }\n",
       "</style>\n",
       "<table border=\"1\" class=\"dataframe\">\n",
       "  <thead>\n",
       "    <tr style=\"text-align: right;\">\n",
       "      <th></th>\n",
       "      <th>id</th>\n",
       "      <th>date</th>\n",
       "      <th>price</th>\n",
       "      <th>bedrooms</th>\n",
       "      <th>bathrooms</th>\n",
       "      <th>sqft_living</th>\n",
       "      <th>sqft_lot</th>\n",
       "      <th>floors</th>\n",
       "      <th>waterfront</th>\n",
       "      <th>view</th>\n",
       "      <th>...</th>\n",
       "      <th>dormitory_type</th>\n",
       "      <th>condition_type</th>\n",
       "      <th>level</th>\n",
       "      <th>size</th>\n",
       "      <th>road</th>\n",
       "      <th>house_number</th>\n",
       "      <th>city</th>\n",
       "      <th>county</th>\n",
       "      <th>state</th>\n",
       "      <th>neighbourhood</th>\n",
       "    </tr>\n",
       "  </thead>\n",
       "  <tbody>\n",
       "    <tr>\n",
       "      <th>0</th>\n",
       "      <td>7129300520</td>\n",
       "      <td>2014-10-13</td>\n",
       "      <td>221900.00</td>\n",
       "      <td>3</td>\n",
       "      <td>1.00</td>\n",
       "      <td>1180</td>\n",
       "      <td>5650</td>\n",
       "      <td>1.00</td>\n",
       "      <td>0</td>\n",
       "      <td>0</td>\n",
       "      <td>...</td>\n",
       "      <td>house</td>\n",
       "      <td>regular</td>\n",
       "      <td>level_00</td>\n",
       "      <td>1180</td>\n",
       "      <td>61st Avenue South</td>\n",
       "      <td>10012</td>\n",
       "      <td>Seattle</td>\n",
       "      <td>King County</td>\n",
       "      <td>Washington</td>\n",
       "      <td>Rainier Beach</td>\n",
       "    </tr>\n",
       "    <tr>\n",
       "      <th>1</th>\n",
       "      <td>6414100192</td>\n",
       "      <td>2014-12-09</td>\n",
       "      <td>538000.00</td>\n",
       "      <td>3</td>\n",
       "      <td>2.25</td>\n",
       "      <td>2570</td>\n",
       "      <td>7242</td>\n",
       "      <td>2.00</td>\n",
       "      <td>0</td>\n",
       "      <td>0</td>\n",
       "      <td>...</td>\n",
       "      <td>house</td>\n",
       "      <td>regular</td>\n",
       "      <td>level_02</td>\n",
       "      <td>2170</td>\n",
       "      <td>Northeast 127th Street</td>\n",
       "      <td>837</td>\n",
       "      <td>Seattle</td>\n",
       "      <td>King County</td>\n",
       "      <td>Washington</td>\n",
       "      <td>NaN</td>\n",
       "    </tr>\n",
       "    <tr>\n",
       "      <th>2</th>\n",
       "      <td>5631500400</td>\n",
       "      <td>2015-02-25</td>\n",
       "      <td>180000.00</td>\n",
       "      <td>2</td>\n",
       "      <td>1.00</td>\n",
       "      <td>770</td>\n",
       "      <td>10000</td>\n",
       "      <td>1.00</td>\n",
       "      <td>0</td>\n",
       "      <td>0</td>\n",
       "      <td>...</td>\n",
       "      <td>apartment</td>\n",
       "      <td>regular</td>\n",
       "      <td>level_00</td>\n",
       "      <td>770</td>\n",
       "      <td>81st Avenue Northeast</td>\n",
       "      <td>15109</td>\n",
       "      <td>Kenmore</td>\n",
       "      <td>King County</td>\n",
       "      <td>Washington</td>\n",
       "      <td>NaN</td>\n",
       "    </tr>\n",
       "    <tr>\n",
       "      <th>3</th>\n",
       "      <td>2487200875</td>\n",
       "      <td>2014-12-09</td>\n",
       "      <td>604000.00</td>\n",
       "      <td>4</td>\n",
       "      <td>3.00</td>\n",
       "      <td>1960</td>\n",
       "      <td>5000</td>\n",
       "      <td>1.00</td>\n",
       "      <td>0</td>\n",
       "      <td>0</td>\n",
       "      <td>...</td>\n",
       "      <td>house</td>\n",
       "      <td>NaN</td>\n",
       "      <td>level_02</td>\n",
       "      <td>1050</td>\n",
       "      <td>Fauntleroy Way Southwest</td>\n",
       "      <td>9236</td>\n",
       "      <td>Seattle</td>\n",
       "      <td>King County</td>\n",
       "      <td>Washington</td>\n",
       "      <td>Fauntleroy</td>\n",
       "    </tr>\n",
       "    <tr>\n",
       "      <th>4</th>\n",
       "      <td>1954400510</td>\n",
       "      <td>2015-02-18</td>\n",
       "      <td>510000.00</td>\n",
       "      <td>3</td>\n",
       "      <td>2.00</td>\n",
       "      <td>1680</td>\n",
       "      <td>8080</td>\n",
       "      <td>1.00</td>\n",
       "      <td>0</td>\n",
       "      <td>0</td>\n",
       "      <td>...</td>\n",
       "      <td>house</td>\n",
       "      <td>regular</td>\n",
       "      <td>level_02</td>\n",
       "      <td>1680</td>\n",
       "      <td>221st Avenue Northeast</td>\n",
       "      <td>923</td>\n",
       "      <td>Sammamish</td>\n",
       "      <td>King County</td>\n",
       "      <td>Washington</td>\n",
       "      <td>NaN</td>\n",
       "    </tr>\n",
       "  </tbody>\n",
       "</table>\n",
       "<p>5 rows × 32 columns</p>\n",
       "</div>"
      ],
      "text/plain": [
       "           id        date     price  bedrooms  bathrooms  sqft_living  \\\n",
       "0  7129300520  2014-10-13 221900.00         3       1.00         1180   \n",
       "1  6414100192  2014-12-09 538000.00         3       2.25         2570   \n",
       "2  5631500400  2015-02-25 180000.00         2       1.00          770   \n",
       "3  2487200875  2014-12-09 604000.00         4       3.00         1960   \n",
       "4  1954400510  2015-02-18 510000.00         3       2.00         1680   \n",
       "\n",
       "   sqft_lot  floors  waterfront  view  ...  dormitory_type  condition_type  \\\n",
       "0      5650    1.00           0     0  ...           house         regular   \n",
       "1      7242    2.00           0     0  ...           house         regular   \n",
       "2     10000    1.00           0     0  ...       apartment         regular   \n",
       "3      5000    1.00           0     0  ...           house             NaN   \n",
       "4      8080    1.00           0     0  ...           house         regular   \n",
       "\n",
       "      level  size                      road house_number       city  \\\n",
       "0  level_00  1180         61st Avenue South        10012    Seattle   \n",
       "1  level_02  2170    Northeast 127th Street          837    Seattle   \n",
       "2  level_00   770     81st Avenue Northeast        15109    Kenmore   \n",
       "3  level_02  1050  Fauntleroy Way Southwest         9236    Seattle   \n",
       "4  level_02  1680    221st Avenue Northeast          923  Sammamish   \n",
       "\n",
       "        county       state  neighbourhood  \n",
       "0  King County  Washington  Rainier Beach  \n",
       "1  King County  Washington            NaN  \n",
       "2  King County  Washington            NaN  \n",
       "3  King County  Washington     Fauntleroy  \n",
       "4  King County  Washington            NaN  \n",
       "\n",
       "[5 rows x 32 columns]"
      ]
     },
     "execution_count": 729,
     "metadata": {},
     "output_type": "execute_result"
    }
   ],
   "source": [
    "#df.to_csv('Datasets/df_complete_lat_long.csv',index=False)\n",
    "df=pd.read_csv('Datasets/df_complete_lat_long.csv')\n",
    "df.head()"
   ]
  },
  {
   "cell_type": "code",
   "execution_count": 730,
   "id": "faaafee4",
   "metadata": {
    "ExecuteTime": {
     "end_time": "2022-05-01T10:54:03.032860Z",
     "start_time": "2022-05-01T10:54:02.590043Z"
    },
    "cell_style": "center",
    "scrolled": false
   },
   "outputs": [
    {
     "data": {
      "image/png": "[encoded data removed]",
      "text/plain": [
       "<Figure size 1800x720 with 2 Axes>"
      ]
     },
     "metadata": {
      "needs_background": "light"
     },
     "output_type": "display_data"
    }
   ],
   "source": [
    "%matplotlib inline\n",
    "msno.matrix(df);"
   ]
  },
  {
   "cell_type": "code",
   "execution_count": 731,
   "id": "96e71f29",
   "metadata": {
    "ExecuteTime": {
     "end_time": "2022-05-01T10:54:03.047613Z",
     "start_time": "2022-05-01T10:54:03.033888Z"
    }
   },
   "outputs": [
    {
     "data": {
      "text/plain": [
       "id                  int64\n",
       "date               object\n",
       "price             float64\n",
       "bedrooms            int64\n",
       "bathrooms         float64\n",
       "sqft_living         int64\n",
       "sqft_lot            int64\n",
       "floors            float64\n",
       "waterfront          int64\n",
       "view                int64\n",
       "condition           int64\n",
       "grade               int64\n",
       "sqft_above          int64\n",
       "sqft_basement       int64\n",
       "yr_built           object\n",
       "yr_renovated       object\n",
       "zipcode             int64\n",
       "lat               float64\n",
       "long              float64\n",
       "sqft_living15       int64\n",
       "sqft_lot15          int64\n",
       "house_age          object\n",
       "dormitory_type     object\n",
       "condition_type     object\n",
       "level              object\n",
       "size                int64\n",
       "road               object\n",
       "house_number       object\n",
       "city               object\n",
       "county             object\n",
       "state              object\n",
       "neighbourhood      object\n",
       "dtype: object"
      ]
     },
     "execution_count": 731,
     "metadata": {},
     "output_type": "execute_result"
    }
   ],
   "source": [
    "df.dtypes"
   ]
  },
  {
   "cell_type": "code",
   "execution_count": 749,
   "id": "cf64765d",
   "metadata": {
    "ExecuteTime": {
     "end_time": "2022-05-01T12:47:02.524591Z",
     "start_time": "2022-05-01T12:47:02.500655Z"
    }
   },
   "outputs": [
    {
     "ename": "IndentationError",
     "evalue": "unexpected indent (1322879589.py, line 70)",
     "output_type": "error",
     "traceback": [
      "\u001b[1;36m  Input \u001b[1;32mIn [749]\u001b[1;36m\u001b[0m\n\u001b[1;33m    max = df['yr_built'].max(),\u001b[0m\n\u001b[1;37m    ^\u001b[0m\n\u001b[1;31mIndentationError\u001b[0m\u001b[1;31m:\u001b[0m unexpected indent\n"
     ]
    }
   ],
   "source": [
    "# Prepare data\n",
    "    \n",
    "df['is_waterfront'] = df['waterfront'].apply( lambda x: 'yes' if x == 1 else 'no' )\n",
    "\n",
    "# # define level of prices\n",
    "\n",
    "df['level']=df['price'].apply(lambda x:  0 if x<=321950 else\n",
    "                                         1 if (x>321950)&(x<=450000)else\n",
    "                                         2 if (x>450000)&(x<=645000)else 3)\n",
    "df['level'] = df['level'].astype(int)\n",
    "\n",
    "# Iteractive buttons\n",
    "\n",
    "price_limit = widgets.IntSlider(\n",
    "    value = int(df['price'].mean()),min = int(df['price'].min()),\n",
    "    max = int(df['price'].max()),step = 1,description='Maximun Price',\n",
    "    disable=False,style={'description_width': 'initial'}\n",
    "    )\n",
    "\n",
    "waterfront_bar = widgets.Dropdown(\n",
    "    options = df['is_waterfront'].unique().tolist(),\n",
    "    value = 'no',\n",
    "    description = 'Water View',\n",
    "    disable=False\n",
    "    )\n",
    "\n",
    "livingroom_limit = widgets.IntSlider(\n",
    "    value = int( df['sqft_living'].mean() ),\n",
    "    min = df['sqft_living'].min(),\n",
    "    max = df['sqft_living'].max(),\n",
    "    step = 1,\n",
    "    description='Minimum Living Room Size',\n",
    "    disable=False,\n",
    "    style={'description_width': 'initial'}\n",
    "    )\n",
    "\n",
    "bathroom_limit = widgets.IntSlider(\n",
    "    value = int( df['bathrooms'].mean() ),\n",
    "    min = df['bathrooms'].min(),\n",
    "    max = df['bathrooms'].max(),\n",
    "    step = 1,\n",
    "    description='Minimum Bathroom Number',\n",
    "    disable=False,\n",
    "    style={'description_width': 'initial'}\n",
    "    )\n",
    "\n",
    "basement_limit = widgets.IntSlider(\n",
    "    value = int( df['sqft_basement'].mean() ),\n",
    "    min = df['sqft_basement'].min(),\n",
    "    max = df['sqft_basement'].max(),\n",
    "    step = 1,\n",
    "    description='Minimum Basement Size',\n",
    "    disable=False,\n",
    "    style={'description_width': 'initial'}\n",
    "    )\n",
    "\n",
    "condition_limit = widgets.IntSlider(\n",
    "    value =  int(df['condition'].mean()) ,\n",
    "    min = df['condition'].min(),\n",
    "    max = df['condition'].max(),\n",
    "    step = 1,\n",
    "    description='Minimum condition',\n",
    "    disable=False,\n",
    "    style={'description_width': 'initial'}\n",
    "    )\n",
    "\n",
    "year_limit = widgets.IntSlider (\n",
    "    value =  int(df['yr_built'].mean()),\n",
    "    min =  df['yr_built']).min(),\n",
    "    max = df['yr_built'].max(),\n",
    "    step = 1,\n",
    "    description='Year Built',\n",
    "    disable=False,\n",
    "    style={'description_width': 'initial'}\n",
    ")"
   ]
  },
  {
   "cell_type": "code",
   "execution_count": 740,
   "id": "136bf006",
   "metadata": {
    "ExecuteTime": {
     "end_time": "2022-05-01T12:44:32.358031Z",
     "start_time": "2022-05-01T12:44:32.338107Z"
    }
   },
   "outputs": [],
   "source": [
    "def update_map( df, waterfront, limit, livingroom_limit, bathroom_limit,basement_limit, \n",
    "               condition_limit, year_limit ):\n",
    "    houses = df[(df['price'] <= limit) &\n",
    "    (df['is_waterfront'] == waterfront) &\n",
    "    (df['sqft_living'] >= livingroom_limit) &\n",
    "    (df['bathrooms'] >= bathroom_limit) &\n",
    "    (df['sqft_basement'] >= basement_limit) &\n",
    "    (df['condition'] >= condition_limit) &\n",
    "    (df['yr_built'] >= year_limit )][['id', 'lat', 'long', 'price','level']]\n",
    "    \n",
    "#plot map\n",
    "    fig = px.scatter_mapbox( houses,\n",
    "            lat=\"lat\",\n",
    "            lon=\"long\",\n",
    "            size=\"price\",\n",
    "            color=\"level\",\n",
    "            color_continuous_scale=px.colors.cyclical.IceFire,\n",
    "            size_max=15,\n",
    "            zoom=10)\n",
    "\n",
    "    fig.update_layout(mapbox_style=\"open-street-map\")\n",
    "    fig.update_layout(height=600, margin={\"r\":0,\"t\":0,\"l\":0,\"b\":0})\n",
    "    fig.show()                    "
   ]
  },
  {
   "cell_type": "code",
   "execution_count": 748,
   "id": "8d59650f",
   "metadata": {
    "ExecuteTime": {
     "end_time": "2022-05-01T12:46:36.720030Z",
     "start_time": "2022-05-01T12:46:36.667207Z"
    }
   },
   "outputs": [
    {
     "ename": "ValueError",
     "evalue": "cannot find widget or abbreviation for argument: 'year_limit'",
     "output_type": "error",
     "traceback": [
      "\u001b[1;31m---------------------------------------------------------------------------\u001b[0m",
      "\u001b[1;31mValueError\u001b[0m                                Traceback (most recent call last)",
      "Input \u001b[1;32mIn [748]\u001b[0m, in \u001b[0;36m<cell line: 1>\u001b[1;34m()\u001b[0m\n\u001b[1;32m----> 1\u001b[0m \u001b[43mwidgets\u001b[49m\u001b[38;5;241;43m.\u001b[39;49m\u001b[43minteractive\u001b[49m\u001b[43m(\u001b[49m\u001b[43m \u001b[49m\u001b[43mupdate_map\u001b[49m\u001b[43m,\u001b[49m\n\u001b[0;32m      2\u001b[0m \u001b[43m    \u001b[49m\u001b[43mdf\u001b[49m\u001b[38;5;241;43m=\u001b[39;49m\u001b[43mfixed\u001b[49m\u001b[43m(\u001b[49m\u001b[43m \u001b[49m\u001b[43mdf\u001b[49m\u001b[43m \u001b[49m\u001b[43m)\u001b[49m\u001b[43m,\u001b[49m\n\u001b[0;32m      3\u001b[0m \u001b[43m    \u001b[49m\u001b[43mwaterfront\u001b[49m\u001b[38;5;241;43m=\u001b[39;49m\u001b[43mwaterfront_bar\u001b[49m\u001b[43m,\u001b[49m\n\u001b[0;32m      4\u001b[0m \u001b[43m    \u001b[49m\u001b[43mlimit\u001b[49m\u001b[38;5;241;43m=\u001b[39;49m\u001b[43mprice_limit\u001b[49m\u001b[43m,\u001b[49m\n\u001b[0;32m      5\u001b[0m \u001b[43m    \u001b[49m\u001b[43mlivingroom_limit\u001b[49m\u001b[38;5;241;43m=\u001b[39;49m\u001b[43mlivingroom_limit\u001b[49m\u001b[43m,\u001b[49m\n\u001b[0;32m      6\u001b[0m \u001b[43m    \u001b[49m\u001b[43mbathroom_limit\u001b[49m\u001b[38;5;241;43m=\u001b[39;49m\u001b[43mbathroom_limit\u001b[49m\u001b[43m,\u001b[49m\n\u001b[0;32m      7\u001b[0m \u001b[43m    \u001b[49m\u001b[43mbasement_limit\u001b[49m\u001b[38;5;241;43m=\u001b[39;49m\u001b[43mbasement_limit\u001b[49m\u001b[43m,\u001b[49m\n\u001b[0;32m      8\u001b[0m \u001b[43m    \u001b[49m\u001b[43mcondition_limit\u001b[49m\u001b[38;5;241;43m=\u001b[39;49m\u001b[43mcondition_limit\u001b[49m\n\u001b[0;32m      9\u001b[0m \u001b[38;5;66;43;03m#year_limit=year_limit\u001b[39;49;00m\n\u001b[0;32m     10\u001b[0m \u001b[43m)\u001b[49m\n",
      "File \u001b[1;32m~\\Anaconda3\\envs\\zero_ds\\lib\\site-packages\\ipywidgets\\widgets\\interaction.py:189\u001b[0m, in \u001b[0;36minteractive.__init__\u001b[1;34m(self, _interactive__interact_f, _interactive__options, **kwargs)\u001b[0m\n\u001b[0;32m    186\u001b[0m \u001b[38;5;28mself\u001b[39m\u001b[38;5;241m.\u001b[39mmanual_name \u001b[38;5;241m=\u001b[39m __options\u001b[38;5;241m.\u001b[39mget(\u001b[38;5;124m\"\u001b[39m\u001b[38;5;124mmanual_name\u001b[39m\u001b[38;5;124m\"\u001b[39m, \u001b[38;5;124m\"\u001b[39m\u001b[38;5;124mRun Interact\u001b[39m\u001b[38;5;124m\"\u001b[39m)\n\u001b[0;32m    187\u001b[0m \u001b[38;5;28mself\u001b[39m\u001b[38;5;241m.\u001b[39mauto_display \u001b[38;5;241m=\u001b[39m __options\u001b[38;5;241m.\u001b[39mget(\u001b[38;5;124m\"\u001b[39m\u001b[38;5;124mauto_display\u001b[39m\u001b[38;5;124m\"\u001b[39m, \u001b[38;5;28;01mFalse\u001b[39;00m)\n\u001b[1;32m--> 189\u001b[0m new_kwargs \u001b[38;5;241m=\u001b[39m \u001b[38;5;28;43mself\u001b[39;49m\u001b[38;5;241;43m.\u001b[39;49m\u001b[43mfind_abbreviations\u001b[49m\u001b[43m(\u001b[49m\u001b[43mkwargs\u001b[49m\u001b[43m)\u001b[49m\n\u001b[0;32m    190\u001b[0m \u001b[38;5;66;03m# Before we proceed, let's make sure that the user has passed a set of args+kwargs\u001b[39;00m\n\u001b[0;32m    191\u001b[0m \u001b[38;5;66;03m# that will lead to a valid call of the function. This protects against unspecified\u001b[39;00m\n\u001b[0;32m    192\u001b[0m \u001b[38;5;66;03m# and doubly-specified arguments.\u001b[39;00m\n\u001b[0;32m    193\u001b[0m \u001b[38;5;28;01mtry\u001b[39;00m:\n",
      "File \u001b[1;32m~\\Anaconda3\\envs\\zero_ds\\lib\\site-packages\\ipywidgets\\widgets\\interaction.py:289\u001b[0m, in \u001b[0;36minteractive.find_abbreviations\u001b[1;34m(self, kwargs)\u001b[0m\n\u001b[0;32m    287\u001b[0m     \u001b[38;5;28;01mfor\u001b[39;00m name, value, default \u001b[38;5;129;01min\u001b[39;00m _yield_abbreviations_for_parameter(param, kwargs):\n\u001b[0;32m    288\u001b[0m         \u001b[38;5;28;01mif\u001b[39;00m value \u001b[38;5;129;01mis\u001b[39;00m empty:\n\u001b[1;32m--> 289\u001b[0m             \u001b[38;5;28;01mraise\u001b[39;00m \u001b[38;5;167;01mValueError\u001b[39;00m(\u001b[38;5;124m'\u001b[39m\u001b[38;5;124mcannot find widget or abbreviation for argument: \u001b[39m\u001b[38;5;132;01m{!r}\u001b[39;00m\u001b[38;5;124m'\u001b[39m\u001b[38;5;241m.\u001b[39mformat(name))\n\u001b[0;32m    290\u001b[0m         new_kwargs\u001b[38;5;241m.\u001b[39mappend((name, value, default))\n\u001b[0;32m    291\u001b[0m \u001b[38;5;28;01mreturn\u001b[39;00m new_kwargs\n",
      "\u001b[1;31mValueError\u001b[0m: cannot find widget or abbreviation for argument: 'year_limit'"
     ]
    }
   ],
   "source": [
    "widgets.interactive( update_map,\n",
    "    df=fixed( df ),\n",
    "    waterfront=waterfront_bar,\n",
    "    limit=price_limit,\n",
    "    livingroom_limit=livingroom_limit,\n",
    "    bathroom_limit=bathroom_limit,\n",
    "    basement_limit=basement_limit,\n",
    "    condition_limit=condition_limit,\n",
    "    year_limit=year_limit\n",
    ")"
   ]
  },
  {
   "cell_type": "code",
   "execution_count": 742,
   "id": "4d2949f2",
   "metadata": {
    "ExecuteTime": {
     "end_time": "2022-05-01T12:44:40.277402Z",
     "start_time": "2022-05-01T12:44:39.725003Z"
    }
   },
   "outputs": [
    {
     "ename": "TraitError",
     "evalue": "Invalid selection: value not found",
     "output_type": "error",
     "traceback": [
      "\u001b[1;31m---------------------------------------------------------------------------\u001b[0m",
      "\u001b[1;31mStopIteration\u001b[0m                             Traceback (most recent call last)",
      "File \u001b[1;32m~\\Anaconda3\\envs\\zero_ds\\lib\\site-packages\\ipywidgets\\widgets\\widget_selection.py:137\u001b[0m, in \u001b[0;36mfindvalue\u001b[1;34m(array, value, compare)\u001b[0m\n\u001b[0;32m    136\u001b[0m \u001b[38;5;28;01mtry\u001b[39;00m:\n\u001b[1;32m--> 137\u001b[0m     \u001b[38;5;28;01mreturn\u001b[39;00m \u001b[38;5;28;43mnext\u001b[39;49m\u001b[43m(\u001b[49m\u001b[43mx\u001b[49m\u001b[43m \u001b[49m\u001b[38;5;28;43;01mfor\u001b[39;49;00m\u001b[43m \u001b[49m\u001b[43mx\u001b[49m\u001b[43m \u001b[49m\u001b[38;5;129;43;01min\u001b[39;49;00m\u001b[43m \u001b[49m\u001b[43marray\u001b[49m\u001b[43m \u001b[49m\u001b[38;5;28;43;01mif\u001b[39;49;00m\u001b[43m \u001b[49m\u001b[43mcompare\u001b[49m\u001b[43m(\u001b[49m\u001b[43mx\u001b[49m\u001b[43m,\u001b[49m\u001b[43m \u001b[49m\u001b[43mvalue\u001b[49m\u001b[43m)\u001b[49m\u001b[43m)\u001b[49m\n\u001b[0;32m    138\u001b[0m \u001b[38;5;28;01mexcept\u001b[39;00m \u001b[38;5;167;01mStopIteration\u001b[39;00m:\n",
      "\u001b[1;31mStopIteration\u001b[0m: ",
      "\nDuring handling of the above exception, another exception occurred:\n",
      "\u001b[1;31mValueError\u001b[0m                                Traceback (most recent call last)",
      "File \u001b[1;32m~\\Anaconda3\\envs\\zero_ds\\lib\\site-packages\\ipywidgets\\widgets\\widget_selection.py:241\u001b[0m, in \u001b[0;36m_Selection._validate_value\u001b[1;34m(self, proposal)\u001b[0m\n\u001b[0;32m    240\u001b[0m \u001b[38;5;28;01mtry\u001b[39;00m:\n\u001b[1;32m--> 241\u001b[0m     \u001b[38;5;28;01mreturn\u001b[39;00m \u001b[43mfindvalue\u001b[49m\u001b[43m(\u001b[49m\u001b[38;5;28;43mself\u001b[39;49m\u001b[38;5;241;43m.\u001b[39;49m\u001b[43m_options_values\u001b[49m\u001b[43m,\u001b[49m\u001b[43m \u001b[49m\u001b[43mvalue\u001b[49m\u001b[43m,\u001b[49m\u001b[43m \u001b[49m\u001b[38;5;28;43mself\u001b[39;49m\u001b[38;5;241;43m.\u001b[39;49m\u001b[43mequals\u001b[49m\u001b[43m)\u001b[49m \u001b[38;5;28;01mif\u001b[39;00m value \u001b[38;5;129;01mis\u001b[39;00m \u001b[38;5;129;01mnot\u001b[39;00m \u001b[38;5;28;01mNone\u001b[39;00m \u001b[38;5;28;01melse\u001b[39;00m \u001b[38;5;28;01mNone\u001b[39;00m\n\u001b[0;32m    242\u001b[0m \u001b[38;5;28;01mexcept\u001b[39;00m \u001b[38;5;167;01mValueError\u001b[39;00m:\n",
      "File \u001b[1;32m~\\Anaconda3\\envs\\zero_ds\\lib\\site-packages\\ipywidgets\\widgets\\widget_selection.py:139\u001b[0m, in \u001b[0;36mfindvalue\u001b[1;34m(array, value, compare)\u001b[0m\n\u001b[0;32m    138\u001b[0m \u001b[38;5;28;01mexcept\u001b[39;00m \u001b[38;5;167;01mStopIteration\u001b[39;00m:\n\u001b[1;32m--> 139\u001b[0m     \u001b[38;5;28;01mraise\u001b[39;00m \u001b[38;5;167;01mValueError\u001b[39;00m(\u001b[38;5;124m'\u001b[39m\u001b[38;5;132;01m%r\u001b[39;00m\u001b[38;5;124m not in array\u001b[39m\u001b[38;5;124m'\u001b[39m\u001b[38;5;241m%\u001b[39mvalue)\n",
      "\u001b[1;31mValueError\u001b[0m: 2000 not in array",
      "\nDuring handling of the above exception, another exception occurred:\n",
      "\u001b[1;31mTraitError\u001b[0m                                Traceback (most recent call last)",
      "Input \u001b[1;32mIn [742]\u001b[0m, in \u001b[0;36m<cell line: 22>\u001b[1;34m()\u001b[0m\n\u001b[0;32m     11\u001b[0m date_limit \u001b[38;5;241m=\u001b[39m widgets\u001b[38;5;241m.\u001b[39mSelectionSlider(\n\u001b[0;32m     12\u001b[0m options \u001b[38;5;241m=\u001b[39m df[\u001b[38;5;124m'\u001b[39m\u001b[38;5;124mdate\u001b[39m\u001b[38;5;124m'\u001b[39m]\u001b[38;5;241m.\u001b[39msort_values()\u001b[38;5;241m.\u001b[39munique()\u001b[38;5;241m.\u001b[39mtolist(),\n\u001b[0;32m     13\u001b[0m value\u001b[38;5;241m=\u001b[39m\u001b[38;5;124m'\u001b[39m\u001b[38;5;124m2014-12-01\u001b[39m\u001b[38;5;124m'\u001b[39m,\n\u001b[1;32m   (...)\u001b[0m\n\u001b[0;32m     19\u001b[0m readout\u001b[38;5;241m=\u001b[39m\u001b[38;5;28;01mTrue\u001b[39;00m\n\u001b[0;32m     20\u001b[0m )\n\u001b[0;32m     21\u001b[0m \u001b[38;5;66;03m# # Max Year Renovated\u001b[39;00m\n\u001b[1;32m---> 22\u001b[0m year_limit \u001b[38;5;241m=\u001b[39m \u001b[43mwidgets\u001b[49m\u001b[38;5;241;43m.\u001b[39;49m\u001b[43mSelectionSlider\u001b[49m\u001b[43m(\u001b[49m\n\u001b[0;32m     23\u001b[0m \u001b[43moptions\u001b[49m\u001b[43m \u001b[49m\u001b[38;5;241;43m=\u001b[39;49m\u001b[43m \u001b[49m\u001b[43mdf\u001b[49m\u001b[43m[\u001b[49m\u001b[38;5;124;43m'\u001b[39;49m\u001b[38;5;124;43myr_renovated\u001b[39;49m\u001b[38;5;124;43m'\u001b[39;49m\u001b[43m]\u001b[49m\u001b[38;5;241;43m.\u001b[39;49m\u001b[43msort_values\u001b[49m\u001b[43m(\u001b[49m\u001b[43m)\u001b[49m\u001b[38;5;241;43m.\u001b[39;49m\u001b[43msort_values\u001b[49m\u001b[43m(\u001b[49m\u001b[43m)\u001b[49m\u001b[38;5;241;43m.\u001b[39;49m\u001b[43munique\u001b[49m\u001b[43m(\u001b[49m\u001b[43m)\u001b[49m\u001b[38;5;241;43m.\u001b[39;49m\u001b[43mtolist\u001b[49m\u001b[43m(\u001b[49m\u001b[43m)\u001b[49m\u001b[43m,\u001b[49m\n\u001b[0;32m     24\u001b[0m \u001b[43mvalue\u001b[49m\u001b[38;5;241;43m=\u001b[39;49m\u001b[38;5;241;43m2000\u001b[39;49m\u001b[43m,\u001b[49m\n\u001b[0;32m     25\u001b[0m \u001b[43mdescription\u001b[49m\u001b[38;5;241;43m=\u001b[39;49m\u001b[38;5;124;43m'\u001b[39;49m\u001b[38;5;124;43mMax Year\u001b[39;49m\u001b[38;5;124;43m'\u001b[39;49m\u001b[43m,\u001b[49m\n\u001b[0;32m     26\u001b[0m \u001b[43mdisable\u001b[49m\u001b[38;5;241;43m=\u001b[39;49m\u001b[38;5;28;43;01mFalse\u001b[39;49;00m\u001b[43m,\u001b[49m\n\u001b[0;32m     27\u001b[0m \u001b[43mcontinuous_update\u001b[49m\u001b[38;5;241;43m=\u001b[39;49m\u001b[38;5;28;43;01mFalse\u001b[39;49;00m\u001b[43m,\u001b[49m\n\u001b[0;32m     28\u001b[0m \u001b[43morientation\u001b[49m\u001b[38;5;241;43m=\u001b[39;49m\u001b[38;5;124;43m'\u001b[39;49m\u001b[38;5;124;43mhorizontal\u001b[39;49m\u001b[38;5;124;43m'\u001b[39;49m\u001b[43m,\u001b[49m\n\u001b[0;32m     29\u001b[0m \u001b[43mstyle\u001b[49m\u001b[38;5;241;43m=\u001b[39;49m\u001b[43m{\u001b[49m\u001b[38;5;124;43m'\u001b[39;49m\u001b[38;5;124;43mdescription_width\u001b[39;49m\u001b[38;5;124;43m'\u001b[39;49m\u001b[43m:\u001b[49m\u001b[43m \u001b[49m\u001b[38;5;124;43m'\u001b[39;49m\u001b[38;5;124;43minitial\u001b[39;49m\u001b[38;5;124;43m'\u001b[39;49m\u001b[43m}\u001b[49m\u001b[43m,\u001b[49m\n\u001b[0;32m     30\u001b[0m \u001b[43mreadout\u001b[49m\u001b[38;5;241;43m=\u001b[39;49m\u001b[38;5;28;43;01mTrue\u001b[39;49;00m\n\u001b[0;32m     31\u001b[0m \u001b[43m)\u001b[49m\n\u001b[0;32m     32\u001b[0m \u001b[38;5;66;03m# # Waterfront\u001b[39;00m\n\u001b[0;32m     33\u001b[0m waterfront_limit \u001b[38;5;241m=\u001b[39m widgets\u001b[38;5;241m.\u001b[39mCheckbox(\n\u001b[0;32m     34\u001b[0m value\u001b[38;5;241m=\u001b[39m\u001b[38;5;28;01mFalse\u001b[39;00m,\n\u001b[0;32m     35\u001b[0m description\u001b[38;5;241m=\u001b[39m\u001b[38;5;124m'\u001b[39m\u001b[38;5;124mWaterfront?\u001b[39m\u001b[38;5;124m'\u001b[39m,\n\u001b[0;32m     36\u001b[0m disabled\u001b[38;5;241m=\u001b[39m\u001b[38;5;28;01mFalse\u001b[39;00m,\n\u001b[0;32m     37\u001b[0m indent\u001b[38;5;241m=\u001b[39m\u001b[38;5;28;01mFalse\u001b[39;00m )\n",
      "File \u001b[1;32m~\\Anaconda3\\envs\\zero_ds\\lib\\site-packages\\ipywidgets\\widgets\\widget_selection.py:531\u001b[0m, in \u001b[0;36m_SelectionNonempty.__init__\u001b[1;34m(self, *args, **kwargs)\u001b[0m\n\u001b[0;32m    529\u001b[0m \u001b[38;5;28;01mif\u001b[39;00m \u001b[38;5;28mlen\u001b[39m(kwargs\u001b[38;5;241m.\u001b[39mget(\u001b[38;5;124m'\u001b[39m\u001b[38;5;124moptions\u001b[39m\u001b[38;5;124m'\u001b[39m, ())) \u001b[38;5;241m==\u001b[39m \u001b[38;5;241m0\u001b[39m:\n\u001b[0;32m    530\u001b[0m     \u001b[38;5;28;01mraise\u001b[39;00m TraitError(\u001b[38;5;124m'\u001b[39m\u001b[38;5;124moptions must be nonempty\u001b[39m\u001b[38;5;124m'\u001b[39m)\n\u001b[1;32m--> 531\u001b[0m \u001b[38;5;28;43msuper\u001b[39;49m\u001b[43m(\u001b[49m\u001b[43m_SelectionNonempty\u001b[49m\u001b[43m,\u001b[49m\u001b[43m \u001b[49m\u001b[38;5;28;43mself\u001b[39;49m\u001b[43m)\u001b[49m\u001b[38;5;241;43m.\u001b[39;49m\u001b[38;5;21;43m__init__\u001b[39;49m\u001b[43m(\u001b[49m\u001b[38;5;241;43m*\u001b[39;49m\u001b[43margs\u001b[49m\u001b[43m,\u001b[49m\u001b[43m \u001b[49m\u001b[38;5;241;43m*\u001b[39;49m\u001b[38;5;241;43m*\u001b[39;49m\u001b[43mkwargs\u001b[49m\u001b[43m)\u001b[49m\n",
      "File \u001b[1;32m~\\Anaconda3\\envs\\zero_ds\\lib\\site-packages\\ipywidgets\\widgets\\widget_selection.py:190\u001b[0m, in \u001b[0;36m_Selection.__init__\u001b[1;34m(self, *args, **kwargs)\u001b[0m\n\u001b[0;32m    187\u001b[0m     kwargs[\u001b[38;5;124m'\u001b[39m\u001b[38;5;124mindex\u001b[39m\u001b[38;5;124m'\u001b[39m] \u001b[38;5;241m=\u001b[39m \u001b[38;5;241m0\u001b[39m \u001b[38;5;28;01mif\u001b[39;00m nonempty \u001b[38;5;28;01melse\u001b[39;00m \u001b[38;5;28;01mNone\u001b[39;00m\n\u001b[0;32m    188\u001b[0m     kwargs[\u001b[38;5;124m'\u001b[39m\u001b[38;5;124mlabel\u001b[39m\u001b[38;5;124m'\u001b[39m], kwargs[\u001b[38;5;124m'\u001b[39m\u001b[38;5;124mvalue\u001b[39m\u001b[38;5;124m'\u001b[39m] \u001b[38;5;241m=\u001b[39m options[\u001b[38;5;241m0\u001b[39m] \u001b[38;5;28;01mif\u001b[39;00m nonempty \u001b[38;5;28;01melse\u001b[39;00m (\u001b[38;5;28;01mNone\u001b[39;00m, \u001b[38;5;28;01mNone\u001b[39;00m)\n\u001b[1;32m--> 190\u001b[0m \u001b[38;5;28;43msuper\u001b[39;49m\u001b[43m(\u001b[49m\u001b[43m_Selection\u001b[49m\u001b[43m,\u001b[49m\u001b[43m \u001b[49m\u001b[38;5;28;43mself\u001b[39;49m\u001b[43m)\u001b[49m\u001b[38;5;241;43m.\u001b[39;49m\u001b[38;5;21;43m__init__\u001b[39;49m\u001b[43m(\u001b[49m\u001b[38;5;241;43m*\u001b[39;49m\u001b[43margs\u001b[49m\u001b[43m,\u001b[49m\u001b[43m \u001b[49m\u001b[38;5;241;43m*\u001b[39;49m\u001b[38;5;241;43m*\u001b[39;49m\u001b[43mkwargs\u001b[49m\u001b[43m)\u001b[49m\n\u001b[0;32m    191\u001b[0m \u001b[38;5;28mself\u001b[39m\u001b[38;5;241m.\u001b[39m_initializing_traits_ \u001b[38;5;241m=\u001b[39m \u001b[38;5;28;01mFalse\u001b[39;00m\n",
      "File \u001b[1;32m~\\Anaconda3\\envs\\zero_ds\\lib\\site-packages\\ipywidgets\\widgets\\widget.py:477\u001b[0m, in \u001b[0;36mWidget.__init__\u001b[1;34m(self, **kwargs)\u001b[0m\n\u001b[0;32m    475\u001b[0m \u001b[38;5;124;03m\"\"\"Public constructor\"\"\"\u001b[39;00m\n\u001b[0;32m    476\u001b[0m \u001b[38;5;28mself\u001b[39m\u001b[38;5;241m.\u001b[39m_model_id \u001b[38;5;241m=\u001b[39m kwargs\u001b[38;5;241m.\u001b[39mpop(\u001b[38;5;124m'\u001b[39m\u001b[38;5;124mmodel_id\u001b[39m\u001b[38;5;124m'\u001b[39m, \u001b[38;5;28;01mNone\u001b[39;00m)\n\u001b[1;32m--> 477\u001b[0m \u001b[38;5;28;43msuper\u001b[39;49m\u001b[43m(\u001b[49m\u001b[43mWidget\u001b[49m\u001b[43m,\u001b[49m\u001b[43m \u001b[49m\u001b[38;5;28;43mself\u001b[39;49m\u001b[43m)\u001b[49m\u001b[38;5;241;43m.\u001b[39;49m\u001b[38;5;21;43m__init__\u001b[39;49m\u001b[43m(\u001b[49m\u001b[38;5;241;43m*\u001b[39;49m\u001b[38;5;241;43m*\u001b[39;49m\u001b[43mkwargs\u001b[49m\u001b[43m)\u001b[49m\n\u001b[0;32m    479\u001b[0m Widget\u001b[38;5;241m.\u001b[39m_call_widget_constructed(\u001b[38;5;28mself\u001b[39m)\n\u001b[0;32m    480\u001b[0m \u001b[38;5;28mself\u001b[39m\u001b[38;5;241m.\u001b[39mopen()\n",
      "File \u001b[1;32m~\\Anaconda3\\envs\\zero_ds\\lib\\site-packages\\traitlets\\traitlets.py:1082\u001b[0m, in \u001b[0;36mHasTraits.__init__\u001b[1;34m(self, *args, **kwargs)\u001b[0m\n\u001b[0;32m   1079\u001b[0m             \u001b[38;5;28msetattr\u001b[39m(\u001b[38;5;28mself\u001b[39m, key, value)\n\u001b[0;32m   1080\u001b[0m         \u001b[38;5;28;01melse\u001b[39;00m:\n\u001b[0;32m   1081\u001b[0m             \u001b[38;5;66;03m# passthrough args that don't set traits to super\u001b[39;00m\n\u001b[1;32m-> 1082\u001b[0m             super_kwargs[key] \u001b[38;5;241m=\u001b[39m value\n\u001b[0;32m   1083\u001b[0m \u001b[38;5;28;01mtry\u001b[39;00m:\n\u001b[0;32m   1084\u001b[0m     \u001b[38;5;28msuper\u001b[39m(HasTraits, \u001b[38;5;28mself\u001b[39m)\u001b[38;5;241m.\u001b[39m\u001b[38;5;21m__init__\u001b[39m(\u001b[38;5;241m*\u001b[39msuper_args, \u001b[38;5;241m*\u001b[39m\u001b[38;5;241m*\u001b[39msuper_kwargs)\n",
      "File \u001b[1;32m~\\Anaconda3\\envs\\zero_ds\\lib\\contextlib.py:120\u001b[0m, in \u001b[0;36m_GeneratorContextManager.__exit__\u001b[1;34m(self, type, value, traceback)\u001b[0m\n\u001b[0;32m    118\u001b[0m \u001b[38;5;28;01mif\u001b[39;00m \u001b[38;5;28mtype\u001b[39m \u001b[38;5;129;01mis\u001b[39;00m \u001b[38;5;28;01mNone\u001b[39;00m:\n\u001b[0;32m    119\u001b[0m     \u001b[38;5;28;01mtry\u001b[39;00m:\n\u001b[1;32m--> 120\u001b[0m         \u001b[38;5;28;43mnext\u001b[39;49m\u001b[43m(\u001b[49m\u001b[38;5;28;43mself\u001b[39;49m\u001b[38;5;241;43m.\u001b[39;49m\u001b[43mgen\u001b[49m\u001b[43m)\u001b[49m\n\u001b[0;32m    121\u001b[0m     \u001b[38;5;28;01mexcept\u001b[39;00m \u001b[38;5;167;01mStopIteration\u001b[39;00m:\n\u001b[0;32m    122\u001b[0m         \u001b[38;5;28;01mreturn\u001b[39;00m \u001b[38;5;28;01mFalse\u001b[39;00m\n",
      "File \u001b[1;32m~\\Anaconda3\\envs\\zero_ds\\lib\\site-packages\\traitlets\\traitlets.py:1207\u001b[0m, in \u001b[0;36mHasTraits.hold_trait_notifications\u001b[1;34m(self)\u001b[0m\n\u001b[0;32m   1205\u001b[0m                     \u001b[38;5;28mself\u001b[39m\u001b[38;5;241m.\u001b[39m_trait_values\u001b[38;5;241m.\u001b[39mpop(name)\n\u001b[0;32m   1206\u001b[0m     cache \u001b[38;5;241m=\u001b[39m {}\n\u001b[1;32m-> 1207\u001b[0m     \u001b[38;5;28;01mraise\u001b[39;00m e\n\u001b[0;32m   1208\u001b[0m \u001b[38;5;28;01mfinally\u001b[39;00m:\n\u001b[0;32m   1209\u001b[0m     \u001b[38;5;28mself\u001b[39m\u001b[38;5;241m.\u001b[39m_cross_validation_lock \u001b[38;5;241m=\u001b[39m \u001b[38;5;28;01mFalse\u001b[39;00m\n",
      "File \u001b[1;32m~\\Anaconda3\\envs\\zero_ds\\lib\\site-packages\\traitlets\\traitlets.py:1193\u001b[0m, in \u001b[0;36mHasTraits.hold_trait_notifications\u001b[1;34m(self)\u001b[0m\n\u001b[0;32m   1191\u001b[0m     \u001b[38;5;28;01mfor\u001b[39;00m name \u001b[38;5;129;01min\u001b[39;00m \u001b[38;5;28mlist\u001b[39m(cache\u001b[38;5;241m.\u001b[39mkeys()):\n\u001b[0;32m   1192\u001b[0m         trait \u001b[38;5;241m=\u001b[39m \u001b[38;5;28mgetattr\u001b[39m(\u001b[38;5;28mself\u001b[39m\u001b[38;5;241m.\u001b[39m\u001b[38;5;18m__class__\u001b[39m, name)\n\u001b[1;32m-> 1193\u001b[0m         value \u001b[38;5;241m=\u001b[39m \u001b[43mtrait\u001b[49m\u001b[38;5;241;43m.\u001b[39;49m\u001b[43m_cross_validate\u001b[49m\u001b[43m(\u001b[49m\u001b[38;5;28;43mself\u001b[39;49m\u001b[43m,\u001b[49m\u001b[43m \u001b[49m\u001b[38;5;28;43mgetattr\u001b[39;49m\u001b[43m(\u001b[49m\u001b[38;5;28;43mself\u001b[39;49m\u001b[43m,\u001b[49m\u001b[43m \u001b[49m\u001b[43mname\u001b[49m\u001b[43m)\u001b[49m\u001b[43m)\u001b[49m\n\u001b[0;32m   1194\u001b[0m         \u001b[38;5;28mself\u001b[39m\u001b[38;5;241m.\u001b[39mset_trait(name, value)\n\u001b[0;32m   1195\u001b[0m \u001b[38;5;28;01mexcept\u001b[39;00m TraitError \u001b[38;5;28;01mas\u001b[39;00m e:\n\u001b[0;32m   1196\u001b[0m     \u001b[38;5;66;03m# Roll back in case of TraitError during final cross validation.\u001b[39;00m\n",
      "File \u001b[1;32m~\\Anaconda3\\envs\\zero_ds\\lib\\site-packages\\traitlets\\traitlets.py:620\u001b[0m, in \u001b[0;36mTraitType._cross_validate\u001b[1;34m(self, obj, value)\u001b[0m\n\u001b[0;32m    618\u001b[0m \u001b[38;5;28;01mif\u001b[39;00m \u001b[38;5;28mself\u001b[39m\u001b[38;5;241m.\u001b[39mname \u001b[38;5;129;01min\u001b[39;00m obj\u001b[38;5;241m.\u001b[39m_trait_validators:\n\u001b[0;32m    619\u001b[0m     proposal \u001b[38;5;241m=\u001b[39m Bunch({\u001b[38;5;124m'\u001b[39m\u001b[38;5;124mtrait\u001b[39m\u001b[38;5;124m'\u001b[39m: \u001b[38;5;28mself\u001b[39m, \u001b[38;5;124m'\u001b[39m\u001b[38;5;124mvalue\u001b[39m\u001b[38;5;124m'\u001b[39m: value, \u001b[38;5;124m'\u001b[39m\u001b[38;5;124mowner\u001b[39m\u001b[38;5;124m'\u001b[39m: obj})\n\u001b[1;32m--> 620\u001b[0m     value \u001b[38;5;241m=\u001b[39m \u001b[43mobj\u001b[49m\u001b[38;5;241;43m.\u001b[39;49m\u001b[43m_trait_validators\u001b[49m\u001b[43m[\u001b[49m\u001b[38;5;28;43mself\u001b[39;49m\u001b[38;5;241;43m.\u001b[39;49m\u001b[43mname\u001b[49m\u001b[43m]\u001b[49m\u001b[43m(\u001b[49m\u001b[43mobj\u001b[49m\u001b[43m,\u001b[49m\u001b[43m \u001b[49m\u001b[43mproposal\u001b[49m\u001b[43m)\u001b[49m\n\u001b[0;32m    621\u001b[0m \u001b[38;5;28;01melif\u001b[39;00m \u001b[38;5;28mhasattr\u001b[39m(obj, \u001b[38;5;124m'\u001b[39m\u001b[38;5;124m_\u001b[39m\u001b[38;5;132;01m%s\u001b[39;00m\u001b[38;5;124m_validate\u001b[39m\u001b[38;5;124m'\u001b[39m \u001b[38;5;241m%\u001b[39m \u001b[38;5;28mself\u001b[39m\u001b[38;5;241m.\u001b[39mname):\n\u001b[0;32m    622\u001b[0m     meth_name \u001b[38;5;241m=\u001b[39m \u001b[38;5;124m'\u001b[39m\u001b[38;5;124m_\u001b[39m\u001b[38;5;132;01m%s\u001b[39;00m\u001b[38;5;124m_validate\u001b[39m\u001b[38;5;124m'\u001b[39m \u001b[38;5;241m%\u001b[39m \u001b[38;5;28mself\u001b[39m\u001b[38;5;241m.\u001b[39mname\n",
      "File \u001b[1;32m~\\Anaconda3\\envs\\zero_ds\\lib\\site-packages\\traitlets\\traitlets.py:977\u001b[0m, in \u001b[0;36mEventHandler.__call__\u001b[1;34m(self, *args, **kwargs)\u001b[0m\n\u001b[0;32m    975\u001b[0m \u001b[38;5;124;03m\"\"\"Pass `*args` and `**kwargs` to the handler's function if it exists.\"\"\"\u001b[39;00m\n\u001b[0;32m    976\u001b[0m \u001b[38;5;28;01mif\u001b[39;00m \u001b[38;5;28mhasattr\u001b[39m(\u001b[38;5;28mself\u001b[39m, \u001b[38;5;124m'\u001b[39m\u001b[38;5;124mfunc\u001b[39m\u001b[38;5;124m'\u001b[39m):\n\u001b[1;32m--> 977\u001b[0m     \u001b[38;5;28;01mreturn\u001b[39;00m \u001b[38;5;28;43mself\u001b[39;49m\u001b[38;5;241;43m.\u001b[39;49m\u001b[43mfunc\u001b[49m\u001b[43m(\u001b[49m\u001b[38;5;241;43m*\u001b[39;49m\u001b[43margs\u001b[49m\u001b[43m,\u001b[49m\u001b[43m \u001b[49m\u001b[38;5;241;43m*\u001b[39;49m\u001b[38;5;241;43m*\u001b[39;49m\u001b[43mkwargs\u001b[49m\u001b[43m)\u001b[49m\n\u001b[0;32m    978\u001b[0m \u001b[38;5;28;01melse\u001b[39;00m:\n\u001b[0;32m    979\u001b[0m     \u001b[38;5;28;01mreturn\u001b[39;00m \u001b[38;5;28mself\u001b[39m\u001b[38;5;241m.\u001b[39m_init_call(\u001b[38;5;241m*\u001b[39margs, \u001b[38;5;241m*\u001b[39m\u001b[38;5;241m*\u001b[39mkwargs)\n",
      "File \u001b[1;32m~\\Anaconda3\\envs\\zero_ds\\lib\\site-packages\\ipywidgets\\widgets\\widget_selection.py:243\u001b[0m, in \u001b[0;36m_Selection._validate_value\u001b[1;34m(self, proposal)\u001b[0m\n\u001b[0;32m    241\u001b[0m     \u001b[38;5;28;01mreturn\u001b[39;00m findvalue(\u001b[38;5;28mself\u001b[39m\u001b[38;5;241m.\u001b[39m_options_values, value, \u001b[38;5;28mself\u001b[39m\u001b[38;5;241m.\u001b[39mequals) \u001b[38;5;28;01mif\u001b[39;00m value \u001b[38;5;129;01mis\u001b[39;00m \u001b[38;5;129;01mnot\u001b[39;00m \u001b[38;5;28;01mNone\u001b[39;00m \u001b[38;5;28;01melse\u001b[39;00m \u001b[38;5;28;01mNone\u001b[39;00m\n\u001b[0;32m    242\u001b[0m \u001b[38;5;28;01mexcept\u001b[39;00m \u001b[38;5;167;01mValueError\u001b[39;00m:\n\u001b[1;32m--> 243\u001b[0m     \u001b[38;5;28;01mraise\u001b[39;00m TraitError(\u001b[38;5;124m'\u001b[39m\u001b[38;5;124mInvalid selection: value not found\u001b[39m\u001b[38;5;124m'\u001b[39m)\n",
      "\u001b[1;31mTraitError\u001b[0m: Invalid selection: value not found"
     ]
    }
   ],
   "source": [
    "# Change df format\n",
    "df['year'] = pd.to_datetime( df['date'] ).dt.strftime( '%Y' )\n",
    "df['date'] = pd.to_datetime( df['date'] ).dt.strftime( '%Y-%m-%d' )\n",
    "df['year_week'] = pd.to_datetime( df['date'] ).dt.strftime( '%Y-%U' )\n",
    "\n",
    "# # ----------------------------\n",
    "# # Filtering\n",
    "# # ----------------------------\n",
    "\n",
    "# Widget to control df\n",
    "date_limit = widgets.SelectionSlider(\n",
    "options = df['date'].sort_values().unique().tolist(),\n",
    "value='2014-12-01',\n",
    "description='Max Available Date',\n",
    "disable=False,\n",
    "continuous_update=False,\n",
    "orientation='horizontal',\n",
    "style={'description_width': 'initial'},\n",
    "readout=True\n",
    ")\n",
    "# # Max Year Renovated\n",
    "year_limit = widgets.SelectionSlider(\n",
    "options = df['yr_renovated'].sort_values().sort_values().unique().tolist(),\n",
    "value=2000,\n",
    "description='Max Year',\n",
    "disable=False,\n",
    "continuous_update=False,\n",
    "orientation='horizontal',\n",
    "style={'description_width': 'initial'},\n",
    "readout=True\n",
    ")\n",
    "# # Waterfront\n",
    "waterfront_limit = widgets.Checkbox(\n",
    "value=False,\n",
    "description='Waterfront?',\n",
    "disabled=False,\n",
    "indent=False )\n",
    "    \n",
    "def update_map( df, date_limit, year_limit, waterfront_limit ):\n",
    "    # Filter df\n",
    "    df = df[(df['date'] <= date_limit) & \n",
    "            (df['yr_renovated'] >= year_limit) & \n",
    "            (df['waterfront'] == waterfront_limit)].copy()\n",
    "    \n",
    "    fig = plt.figure( figsize=(24, 12) )\n",
    "    specs = gridspec.GridSpec( ncols=2, nrows=2, figure=fig )\n",
    "    \n",
    "    ax1 = fig.add_subplot( specs[0, :] ) # First Row\n",
    "    ax2 = fig.add_subplot( specs[1, 0] ) # First Row First Column\n",
    "    ax3 = fig.add_subplot( specs[1, 1] ) # Second Row First Column\n",
    "    \n",
    "    # First Graph\n",
    "    by_year = df[['price', 'year']].groupby( 'year' ).count().reset_index()\n",
    "    sns.barplot( x = 'year', y ='price', data=by_year, ax=ax1)\n",
    "    \n",
    "#   # Second Graph\n",
    "\n",
    "    by_day = df[['price', 'date']].groupby( 'date' ).mean().reset_index()\n",
    "    sns.lineplot( x='date', y='price',data=by_day, ax=ax2)\n",
    "    ax2.set_title( \"Title: Avg Price by Day\" )\n",
    "    \n",
    "#   # Third Graph\n",
    "    \n",
    "    df['year_week'] = pd.to_datetime( df['date'] ).dt.strftime( '%Y-%U' )\n",
    "    by_week_of_year = df[['price', 'year_week']].groupby( 'year_week' ).mean().reset_index()\n",
    "    sns.barplot( x='year_week', y='price', data=by_week_of_year,ax=ax3 )\n",
    "    ax3.set_title( \"Title: Avg Price by Week of Year\" )\n",
    "    \n",
    "    plt.xticks( rotation=60);\n",
    "\n"
   ]
  },
  {
   "cell_type": "code",
   "execution_count": 743,
   "id": "dfa03864",
   "metadata": {
    "ExecuteTime": {
     "end_time": "2022-05-01T12:44:40.993406Z",
     "start_time": "2022-05-01T12:44:40.963485Z"
    }
   },
   "outputs": [
    {
     "ename": "NameError",
     "evalue": "name 'year_limit' is not defined",
     "output_type": "error",
     "traceback": [
      "\u001b[1;31m---------------------------------------------------------------------------\u001b[0m",
      "\u001b[1;31mNameError\u001b[0m                                 Traceback (most recent call last)",
      "Input \u001b[1;32mIn [743]\u001b[0m, in \u001b[0;36m<cell line: 1>\u001b[1;34m()\u001b[0m\n\u001b[0;32m      1\u001b[0m widgets\u001b[38;5;241m.\u001b[39minteractive( update_map,df \u001b[38;5;241m=\u001b[39m fixed(df),\n\u001b[0;32m      2\u001b[0m date_limit\u001b[38;5;241m=\u001b[39mdate_limit,\n\u001b[1;32m----> 3\u001b[0m year_limit\u001b[38;5;241m=\u001b[39m\u001b[43myear_limit\u001b[49m,\n\u001b[0;32m      4\u001b[0m waterfront_limit\u001b[38;5;241m=\u001b[39mwaterfront_limit )\n",
      "\u001b[1;31mNameError\u001b[0m: name 'year_limit' is not defined"
     ]
    }
   ],
   "source": [
    "widgets.interactive( update_map,df = fixed(df),\n",
    "date_limit=date_limit,\n",
    "year_limit=year_limit,\n",
    "waterfront_limit=waterfront_limit )"
   ]
  },
  {
   "cell_type": "code",
   "execution_count": null,
   "id": "b84f96dd",
   "metadata": {},
   "outputs": [],
   "source": []
  },
  {
   "cell_type": "code",
   "execution_count": null,
   "id": "5a7fe9c8",
   "metadata": {},
   "outputs": [],
   "source": []
  },
  {
   "cell_type": "code",
   "execution_count": null,
   "id": "91d29adb",
   "metadata": {},
   "outputs": [],
   "source": []
  }
 ],
 "metadata": {
  "hide_input": false,
  "kernelspec": {
   "display_name": "Python 3 (ipykernel)",
   "language": "python",
   "name": "python3"
  },
  "language_info": {
   "codemirror_mode": {
    "name": "ipython",
    "version": 3
   },
   "file_extension": ".py",
   "mimetype": "text/x-python",
   "name": "python",
   "nbconvert_exporter": "python",
   "pygments_lexer": "ipython3",
   "version": "3.8.13"
  },
  "latex_envs": {
   "LaTeX_envs_menu_present": true,
   "autoclose": false,
   "autocomplete": true,
   "bibliofile": "biblio.bib",
   "cite_by": "apalike",
   "current_citInitial": 1,
   "eqLabelWithNumbers": true,
   "eqNumInitial": 1,
   "hotkeys": {
    "equation": "Ctrl-E",
    "itemize": "Ctrl-I"
   },
   "labels_anchors": false,
   "latex_user_defs": false,
   "report_style_numbering": false,
   "user_envs_cfg": false
  },
  "nbTranslate": {
   "displayLangs": [
    "*"
   ],
   "hotkey": "alt-t",
   "langInMainMenu": true,
   "sourceLang": "en",
   "targetLang": "fr",
   "useGoogleTranslate": true
  },
  "toc": {
   "base_numbering": 1,
   "nav_menu": {},
   "number_sections": true,
   "sideBar": true,
   "skip_h1_title": false,
   "title_cell": "Table of Contents",
   "title_sidebar": "Contents",
   "toc_cell": false,
   "toc_position": {
    "height": "calc(100% - 180px)",
    "left": "10px",
    "top": "150px",
    "width": "411px"
   },
   "toc_section_display": true,
   "toc_window_display": true
  }
 },
 "nbformat": 4,
 "nbformat_minor": 5
}
